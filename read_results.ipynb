{
 "cells": [
  {
   "cell_type": "code",
   "execution_count": 1,
   "metadata": {
    "collapsed": true
   },
   "outputs": [],
   "source": [
    "import numpy as np\n",
    "import seaborn as sns\n",
    "import tensorflow as tf\n",
    "from pylab import rcParams\n",
    "from cumul2norms import NPHC\n",
    "from scipy.linalg import inv\n",
    "import matplotlib.pyplot as plt\n",
    "%matplotlib inline"
   ]
  },
  {
   "cell_type": "code",
   "execution_count": 2,
   "metadata": {
    "collapsed": false
   },
   "outputs": [],
   "source": [
    "from utils.loader import load_data\n",
    "# Load Cumulants object\n",
    "kernel = 'exp_d100'\n",
    "mode = 'nonsym_1'\n",
    "log10T = 10\n",
    "url = 'https://s3-eu-west-1.amazonaws.com/nphc-data/{}_{}_log10T{}_with_params_without_N.pkl.gz'.format(kernel, mode, log10T)\n",
    "cumul, Alpha, Beta, Gamma = load_data(url)"
   ]
  },
  {
   "cell_type": "code",
   "execution_count": 88,
   "metadata": {
    "collapsed": true
   },
   "outputs": [],
   "source": [
    "# Params\n",
    "learning_rate = 1e8\n",
    "training_epochs = 1000\n",
    "display_step = 200\n",
    "d = cumul.dim"
   ]
  },
  {
   "cell_type": "code",
   "execution_count": 89,
   "metadata": {
    "collapsed": true
   },
   "outputs": [],
   "source": [
    "_, s, _ = np.linalg.svd(cumul.C)\n",
    "lbd_max = s[0]\n",
    "initial = tf.constant(inv(np.eye(d) - cumul.C / (1.1*lbd_max)).astype(np.float32), shape=[d,d])"
   ]
  },
  {
   "cell_type": "code",
   "execution_count": null,
   "metadata": {
    "collapsed": true
   },
   "outputs": [],
   "source": [
    "list_R = []\n",
    "for i, alpha in enumerate(np.logspace(0,-4,10)):\n",
    "    if i == 0: R_init = initial\n",
    "    R = NPHC(cumul,R_init,alpha=alpha,training_epochs=training_epochs,learning_rate=l_r,display_step=display_step)\n",
    "    R_init = R.copy()\n",
    "    list_R.append(R)"
   ]
  },
  {
   "cell_type": "code",
   "execution_count": null,
   "metadata": {
    "collapsed": true
   },
   "outputs": [],
   "source": []
  }
 ],
 "metadata": {
  "kernelspec": {
   "display_name": "Python 3",
   "language": "python",
   "name": "python3"
  },
  "language_info": {
   "codemirror_mode": {
    "name": "ipython",
    "version": 3
   },
   "file_extension": ".py",
   "mimetype": "text/x-python",
   "name": "python",
   "nbconvert_exporter": "python",
   "pygments_lexer": "ipython3",
   "version": "3.4.4"
  }
 },
 "nbformat": 4,
 "nbformat_minor": 0
}
