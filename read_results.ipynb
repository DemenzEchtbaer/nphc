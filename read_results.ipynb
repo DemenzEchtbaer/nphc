{
 "cells": [
  {
   "cell_type": "code",
   "execution_count": 9,
   "metadata": {
    "collapsed": false
   },
   "outputs": [],
   "source": [
    "import numpy as np\n",
    "import seaborn as sns\n",
    "import tensorflow as tf\n",
    "from pylab import rcParams\n",
    "from optim import NPHC\n",
    "from scipy.linalg import inv\n",
    "import matplotlib.pyplot as plt\n",
    "%matplotlib inline"
   ]
  },
  {
   "cell_type": "code",
   "execution_count": 10,
   "metadata": {
    "collapsed": false
   },
   "outputs": [],
   "source": [
    "from utils.loader import load_data\n",
    "# Load Cumulants object\n",
    "kernel = 'exp_d10'\n",
    "mode = 'nonsym_1_hard'\n",
    "log10T = 10\n",
    "url = 'https://s3-eu-west-1.amazonaws.com/nphc-data/{}_{}_log10T{}_with_params_without_N.pkl.gz'.format(kernel, mode, log10T)\n",
    "cumul, Alpha, Beta, Gamma = load_data(url)"
   ]
  },
  {
   "cell_type": "code",
   "execution_count": 11,
   "metadata": {
    "collapsed": false
   },
   "outputs": [
    {
     "name": "stderr",
     "output_type": "stream",
     "text": [
      "/Users/massil/anaconda/envs/py3k/lib/python3.4/site-packages/matplotlib/collections.py:590: FutureWarning: elementwise comparison failed; returning scalar instead, but in the future will perform elementwise comparison\n",
      "  if self._edgecolors == str('face'):\n"
     ]
    },
    {
     "data": {
      "text/plain": [
       "<matplotlib.axes._subplots.AxesSubplot at 0x112b18978>"
      ]
     },
     "execution_count": 11,
     "metadata": {},
     "output_type": "execute_result"
    },
    {
     "data": {
      "image/png": "[encoded data removed]",
      "text/plain": [
       "<matplotlib.figure.Figure at 0x112b18518>"
      ]
     },
     "metadata": {},
     "output_type": "display_data"
    }
   ],
   "source": [
    "sns.heatmap(Alpha[::-1])"
   ]
  },
  {
   "cell_type": "code",
   "execution_count": 15,
   "metadata": {
    "collapsed": true
   },
   "outputs": [],
   "source": [
    "# Params\n",
    "learning_rate = 1e5\n",
    "training_epochs = 10001\n",
    "display_step = 100\n",
    "d = cumul.dim"
   ]
  },
  {
   "cell_type": "code",
   "execution_count": 16,
   "metadata": {
    "collapsed": false
   },
   "outputs": [
    {
     "name": "stdout",
     "output_type": "stream",
     "text": [
      "Epoch: 0000 log10(cost)= -8.685169220\n",
      "Epoch: 0100 log10(cost)= -9.440446854\n",
      "Epoch: 0200 log10(cost)= -9.437943459\n",
      "Epoch: 0300 log10(cost)= -9.433568954\n",
      "Epoch: 0400 log10(cost)= -9.430663109\n",
      "Epoch: 0500 log10(cost)= -9.427647591\n",
      "Epoch: 0600 log10(cost)= -9.424695969\n",
      "Epoch: 0700 log10(cost)= -9.422379494\n",
      "Epoch: 0800 log10(cost)= -9.420999527\n",
      "Epoch: 0900 log10(cost)= -9.420935631\n",
      "Epoch: 1000 log10(cost)= -9.422725677\n",
      "Epoch: 1100 log10(cost)= -9.426466942\n",
      "Epoch: 1200 log10(cost)= -9.432512283\n",
      "Epoch: 1300 log10(cost)= -9.447220802\n",
      "Epoch: 1400 log10(cost)= -9.444503784\n",
      "Epoch: 1500 log10(cost)= -9.447463036\n",
      "Epoch: 1600 log10(cost)= -9.449351311\n",
      "Epoch: 1700 log10(cost)= -9.450358391\n",
      "Epoch: 1800 log10(cost)= -9.450896263\n",
      "Epoch: 1900 log10(cost)= -9.451175690\n",
      "Epoch: 2000 log10(cost)= -9.451323509\n",
      "Epoch: 2100 log10(cost)= -9.451399803\n",
      "Epoch: 2200 log10(cost)= -9.451440811\n",
      "Epoch: 2300 log10(cost)= -9.451464653\n",
      "Epoch: 2400 log10(cost)= -9.451481819\n",
      "Epoch: 2500 log10(cost)= -9.451483727\n",
      "Epoch: 2600 log10(cost)= -9.451490402\n",
      "Epoch: 2700 log10(cost)= -9.451492310\n",
      "Epoch: 2800 log10(cost)= -9.451493263\n",
      "Epoch: 2900 log10(cost)= -9.451495171\n",
      "Epoch: 3000 log10(cost)= -9.451494217\n",
      "Epoch: 3100 log10(cost)= -9.451496124\n",
      "Epoch: 3200 log10(cost)= -9.451495171\n",
      "Epoch: 3300 log10(cost)= -9.451495171\n",
      "Epoch: 3400 log10(cost)= -9.451498032\n",
      "Epoch: 3500 log10(cost)= -9.451494217\n",
      "Epoch: 3600 log10(cost)= -9.451495171\n",
      "Epoch: 3700 log10(cost)= -9.451495171\n",
      "Epoch: 3800 log10(cost)= -9.451494217\n",
      "Epoch: 3900 log10(cost)= -9.451495171\n",
      "Epoch: 4000 log10(cost)= -9.451495171\n",
      "Epoch: 4100 log10(cost)= -9.451497078\n",
      "Epoch: 4200 log10(cost)= -9.451494217\n",
      "Epoch: 4300 log10(cost)= -9.451497078\n",
      "Epoch: 4400 log10(cost)= -9.451494217\n",
      "Epoch: 4500 log10(cost)= -9.451495171\n",
      "Epoch: 4600 log10(cost)= -9.451494217\n",
      "Epoch: 4700 log10(cost)= -9.451497078\n",
      "Epoch: 4800 log10(cost)= -9.451495171\n",
      "Epoch: 4900 log10(cost)= -9.451496124\n",
      "Epoch: 5000 log10(cost)= -9.451493263\n",
      "Epoch: 5100 log10(cost)= -9.451494217\n",
      "Epoch: 5200 log10(cost)= -9.451493263\n",
      "Epoch: 5300 log10(cost)= -9.451494217\n",
      "Epoch: 5400 log10(cost)= -9.451496124\n",
      "Epoch: 5500 log10(cost)= -9.451495171\n",
      "Epoch: 5600 log10(cost)= -9.451495171\n",
      "Epoch: 5700 log10(cost)= -9.451494217\n",
      "Epoch: 5800 log10(cost)= -9.451495171\n",
      "Epoch: 5900 log10(cost)= -9.451495171\n",
      "Epoch: 6000 log10(cost)= -9.451493263\n",
      "Epoch: 6100 log10(cost)= -9.451494217\n",
      "Epoch: 6200 log10(cost)= -9.451494217\n",
      "Epoch: 6300 log10(cost)= -9.451493263\n",
      "Epoch: 6400 log10(cost)= -9.451496124\n",
      "Epoch: 6500 log10(cost)= -9.451494217\n",
      "Epoch: 6600 log10(cost)= -9.451498032\n",
      "Epoch: 6700 log10(cost)= -9.451497078\n",
      "Epoch: 6800 log10(cost)= -9.451497078\n",
      "Epoch: 6900 log10(cost)= -9.451494217\n",
      "Epoch: 7000 log10(cost)= -9.451496124\n",
      "Epoch: 7100 log10(cost)= -9.451497078\n",
      "Epoch: 7200 log10(cost)= -9.451496124\n",
      "Epoch: 7300 log10(cost)= -9.451497078\n",
      "Epoch: 7400 log10(cost)= -9.451496124\n",
      "Epoch: 7500 log10(cost)= -9.451494217\n",
      "Epoch: 7600 log10(cost)= -9.451495171\n",
      "Epoch: 7700 log10(cost)= -9.451495171\n",
      "Epoch: 7800 log10(cost)= -9.451496124\n",
      "Epoch: 7900 log10(cost)= -9.451494217\n",
      "Epoch: 8000 log10(cost)= -9.451495171\n",
      "Epoch: 8100 log10(cost)= -9.451494217\n",
      "Epoch: 8200 log10(cost)= -9.451494217\n",
      "Epoch: 8300 log10(cost)= -9.451493263\n",
      "Epoch: 8400 log10(cost)= -9.451495171\n",
      "Epoch: 8500 log10(cost)= -9.451496124\n",
      "Epoch: 8600 log10(cost)= -9.451498032\n",
      "Epoch: 8700 log10(cost)= -9.451494217\n",
      "Epoch: 8800 log10(cost)= -9.451495171\n",
      "Epoch: 8900 log10(cost)= -9.451494217\n",
      "Epoch: 9000 log10(cost)= -9.451497078\n",
      "Epoch: 9100 log10(cost)= -9.451497078\n",
      "Epoch: 9200 log10(cost)= -9.451494217\n",
      "Epoch: 9300 log10(cost)= -9.451498032\n",
      "Epoch: 9400 log10(cost)= -9.451498032\n",
      "Epoch: 9500 log10(cost)= -9.451494217\n",
      "Epoch: 9600 log10(cost)= -9.451494217\n",
      "Epoch: 9700 log10(cost)= -9.451495171\n",
      "Epoch: 9800 log10(cost)= -9.451498032\n",
      "Epoch: 9900 log10(cost)= -9.451496124\n",
      "Epoch: 10000 log10(cost)= -9.451497078\n",
      "Optimization Finished!\n"
     ]
    }
   ],
   "source": [
    "_, s, _ = np.linalg.svd(cumul.C)\n",
    "lbd_max = s[0]\n",
    "#initial = tf.ones([d,d])\n",
    "initial = tf.constant(inv(np.eye(d) - cumul.C / (10*lbd_max)).astype(np.float32), shape=[d,d])\n",
    "#initial = tf.constant([[float(i+j*d)/(d**2) for i in range(d)] for j in range(d)], shape=[d,d])\n",
    "\n",
    "R = NPHC(cumul,initial,alpha=0.1,training_epochs=training_epochs,stochastic=True,\\\n",
    "         display_step=display_step,learning_rate=2e-2,optimizer='adam')"
   ]
  },
  {
   "cell_type": "code",
   "execution_count": null,
   "metadata": {
    "collapsed": false
   },
   "outputs": [],
   "source": [
    "list_R = []\n",
    "l_r = learning_rate\n",
    "_, s, _ = np.linalg.svd(cumul.C)\n",
    "lbd_max = s[0]\n",
    "#initial = tf.ones([d,d])\n",
    "initial = tf.constant(inv(np.eye(d) - cumul.C / (1.1*lbd_max)).astype(np.float32), shape=[d,d])\n",
    "#initial = tf.constant([[float(i+j*d)/(d**2) for i in range(d)] for j in range(d)], shape=[d,d])\n",
    "\n",
    "alpha_arr = np.append(np.logspace(0,-5,6),0)\n",
    "\n",
    "for i, alpha in enumerate(alpha_arr):\n",
    "    print(\"alpha =\", alpha)\n",
    "    if i == 0: R_init = initial\n",
    "    if i > 1: \n",
    "        l_r = learning_rate\n",
    "        training_epochs *= 2\n",
    "    R = NPHC(cumul,R_init,alpha=alpha,training_epochs=training_epochs,\\\n",
    "     learning_rate=l_r,display_step=display_step,optimizer='adam')\n",
    "    list_R.append(R)\n",
    "    R_init = R.copy()"
   ]
  },
  {
   "cell_type": "code",
   "execution_count": 211,
   "metadata": {
    "collapsed": false
   },
   "outputs": [],
   "source": [
    "#alpha = 0.01\n",
    "#R_init = initial\n",
    "#R = NPHC(cumul,R_init,alpha=alpha,training_epochs=training_epochs,\\\n",
    "#     learning_rate=learning_rate,display_step=display_step,optimizer='adam')"
   ]
  },
  {
   "cell_type": "code",
   "execution_count": 17,
   "metadata": {
    "collapsed": false
   },
   "outputs": [
    {
     "name": "stderr",
     "output_type": "stream",
     "text": [
      "/Users/massil/anaconda/envs/py3k/lib/python3.4/site-packages/matplotlib/collections.py:590: FutureWarning: elementwise comparison failed; returning scalar instead, but in the future will perform elementwise comparison\n",
      "  if self._edgecolors == str('face'):\n"
     ]
    },
    {
     "data": {
      "text/plain": [
       "<matplotlib.axes._subplots.AxesSubplot at 0x113006668>"
      ]
     },
     "execution_count": 17,
     "metadata": {},
     "output_type": "execute_result"
    },
    {
     "data": {
      "image/png": "[encoded data removed]",
      "text/plain": [
       "<matplotlib.figure.Figure at 0x10649ca58>"
      ]
     },
     "metadata": {},
     "output_type": "display_data"
    }
   ],
   "source": [
    "from scipy.linalg import inv\n",
    "#R = list_R[-1]\n",
    "G = np.eye(R.shape[0]) - inv(R)\n",
    "#G[G<0]=0\n",
    "sns.heatmap(G[::-1])"
   ]
  },
  {
   "cell_type": "code",
   "execution_count": 96,
   "metadata": {
    "collapsed": false
   },
   "outputs": [],
   "source": [
    "#np.logspace(0,-10,11)"
   ]
  },
  {
   "cell_type": "code",
   "execution_count": null,
   "metadata": {
    "collapsed": true
   },
   "outputs": [],
   "source": []
  }
 ],
 "metadata": {
  "kernelspec": {
   "display_name": "Python 3",
   "language": "python",
   "name": "python3"
  },
  "language_info": {
   "codemirror_mode": {
    "name": "ipython",
    "version": 3
   },
   "file_extension": ".py",
   "mimetype": "text/x-python",
   "name": "python",
   "nbconvert_exporter": "python",
   "pygments_lexer": "ipython3",
   "version": "3.4.4"
  }
 },
 "nbformat": 4,
 "nbformat_minor": 0
}
