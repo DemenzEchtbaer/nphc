{
 "cells": [
  {
   "cell_type": "markdown",
   "metadata": {},
   "source": [
    "We can prove that under assumption $ (H): \\rho(|| \\Phi ||) < 1, $ the norm kernel matrix satisfies the following equation $$ (C): || \\Phi || = I - \\Sigma^{1/2} M || c ||^{-1/2} \\mbox{ with } M \\in O_d (R) \\mbox{ and } \\int_0^\\infty \\phi^{ij} \\ge 0$$"
   ]
  },
  {
   "cell_type": "markdown",
   "metadata": {},
   "source": [
    "# Simulation of the Hawkes process with $d$=10"
   ]
  },
  {
   "cell_type": "code",
   "execution_count": 41,
   "metadata": {
    "collapsed": false
   },
   "outputs": [],
   "source": [
    "import numpy as np\n",
    "import scipy\n",
    "import matplotlib.pyplot as plt\n",
    "%matplotlib inline\n",
    "from pylab import rcParams\n",
    "from mlpp.hawkesnoparam.estim import Estim\n",
    "import mlpp.pp.hawkes as hk\n",
    "import whma.simulation as simu\n",
    "from mlpp.base.utils import TimeFunction\n",
    "from whma.metrics import rel_err, rank_corr"
   ]
  },
  {
   "cell_type": "code",
   "execution_count": 42,
   "metadata": {
    "collapsed": false
   },
   "outputs": [],
   "source": [
    "# simulation of Hawkes processes\n",
    "d = 20\n",
    "mu = 0.5 * np.ones(d)\n",
    "mus = simu.simulate_mu(d, mu=mu)\n",
    "blocks = [5,5,10]\n",
    "L = []\n",
    "for x in blocks:\n",
    "    L.append(np.random.rand(x, x))\n",
    "Alpha_truth = scipy.linalg.block_diag(*L) / 6\n",
    "# add noise\n",
    "Alpha_truth += 0.01\n",
    "Beta = np.random.rand(d**2).reshape((d,d))"
   ]
  },
  {
   "cell_type": "code",
   "execution_count": 43,
   "metadata": {
    "collapsed": true
   },
   "outputs": [],
   "source": [
    "#Alpha_truth[2,8] += 0.2"
   ]
  },
  {
   "cell_type": "code",
   "execution_count": 44,
   "metadata": {
    "collapsed": false
   },
   "outputs": [
    {
     "name": "stderr",
     "output_type": "stream",
     "text": [
      "/Users/massil/anaconda/envs/py3k/lib/python3.4/site-packages/matplotlib/collections.py:590: FutureWarning: elementwise comparison failed; returning scalar instead, but in the future will perform elementwise comparison\n",
      "  if self._edgecolors == str('face'):\n"
     ]
    },
    {
     "data": {
      "image/png": "[encoded data removed]",
      "text/plain": [
       "<matplotlib.figure.Figure at 0x10ab94390>"
      ]
     },
     "metadata": {},
     "output_type": "display_data"
    }
   ],
   "source": [
    "plt.pcolor(Alpha_truth[::-1],cmap=plt.cm.Blues)\n",
    "plt.show()\n",
    "plt.close()"
   ]
  },
  {
   "cell_type": "code",
   "execution_count": 45,
   "metadata": {
    "collapsed": false
   },
   "outputs": [
    {
     "name": "stdout",
     "output_type": "stream",
     "text": [
      "0.900705796647\n"
     ]
    }
   ],
   "source": [
    "_, s, _ = np.linalg.svd(Alpha_truth)\n",
    "print(s.max())\n",
    "assert s.max() < 1, \"Alpha_truth cannot generate a stable Hawkes process\""
   ]
  },
  {
   "cell_type": "code",
   "execution_count": 46,
   "metadata": {
    "collapsed": false
   },
   "outputs": [],
   "source": [
    "kernels = [[hk.HawkesKernelExp(a, b) for (a, b) in zip(a_list, b_list)] for (a_list, b_list) in zip(Alpha_truth, Beta)]\n",
    "h = hk.Hawkes(kernels=kernels, mus=list(mus))\n",
    "h.simulate(10000)\n",
    "estim = Estim(h, n_threads=8)"
   ]
  },
  {
   "cell_type": "markdown",
   "metadata": {},
   "source": [
    "## Correlation matrix"
   ]
  },
  {
   "cell_type": "code",
   "execution_count": 47,
   "metadata": {
    "collapsed": false
   },
   "outputs": [],
   "source": [
    "from whma.utils import corr_matrix\n",
    "Corr = corr_matrix(estim)"
   ]
  },
  {
   "cell_type": "code",
   "execution_count": 48,
   "metadata": {
    "collapsed": false
   },
   "outputs": [
    {
     "name": "stderr",
     "output_type": "stream",
     "text": [
      "/Users/massil/anaconda/envs/py3k/lib/python3.4/site-packages/matplotlib/collections.py:590: FutureWarning: elementwise comparison failed; returning scalar instead, but in the future will perform elementwise comparison\n",
      "  if self._edgecolors == str('face'):\n"
     ]
    },
    {
     "data": {
      "image/png": "[encoded data removed]",
      "text/plain": [
       "<matplotlib.figure.Figure at 0x10bf7e6d8>"
      ]
     },
     "metadata": {},
     "output_type": "display_data"
    }
   ],
   "source": [
    "plt.pcolor(Corr[::-1],cmap=plt.cm.Reds)\n",
    "plt.show()\n",
    "plt.close()"
   ]
  },
  {
   "cell_type": "markdown",
   "metadata": {},
   "source": [
    "# Estimation procedure"
   ]
  },
  {
   "cell_type": "code",
   "execution_count": 63,
   "metadata": {
    "collapsed": false
   },
   "outputs": [],
   "source": [
    "from whma.solver import admm\n",
    "import whma.prox as prox\n",
    "X0 = np.eye(d)\n",
    "#X0 = np.ones(d**2).reshape(d,d)\n",
    "rho = 0.001\n",
    "maxiter = 10000"
   ]
  },
  {
   "cell_type": "markdown",
   "metadata": {},
   "source": [
    "## objective = squared Frobenius"
   ]
  },
  {
   "cell_type": "code",
   "execution_count": 64,
   "metadata": {
    "collapsed": false
   },
   "outputs": [
    {
     "name": "stdout",
     "output_type": "stream",
     "text": [
      "||X1 - X_2|| =  4.84960474834e-09\n",
      "||X2 - X_3|| =  1.18320427347e-15\n",
      "||U1|| =  0.00357647372155\n",
      "||U2|| =  0.000558411500703\n",
      "||U3|| =  5.91528095227e-15\n",
      "||U4|| =  0.00190453738932\n",
      "||U5|| =  0.000967233247736\n"
     ]
    },
    {
     "name": "stderr",
     "output_type": "stream",
     "text": [
      "/Users/massil/Programmation/git/whma/solver.py:43: ComplexWarning: Casting complex values to real discards the imaginary part\n",
      "  X4[:] = upd.update_X4(Y2, U5, B)\n",
      "/Users/massil/Programmation/git/whma/solver.py:44: ComplexWarning: Casting complex values to real discards the imaginary part\n",
      "  Y1[:] = upd.update_Y1(X1, Y2, U1, U4, diagA, C)\n",
      "/Users/massil/Programmation/git/whma/solver.py:46: ComplexWarning: Casting complex values to real discards the imaginary part\n",
      "  U1[:] = upd.update_U1(U1, Y1, Y2, C)\n",
      "/Users/massil/Programmation/git/whma/solver.py:50: ComplexWarning: Casting complex values to real discards the imaginary part\n",
      "  U5[:] = upd.update_U5(U5, X4, Y2, B)\n"
     ]
    }
   ],
   "source": [
    "# main step\n",
    "X_frob = admm(estim, prox.sq_frob, X0, X0, Alpha_truth, rho=rho, maxiter=maxiter)"
   ]
  },
  {
   "cell_type": "code",
   "execution_count": 65,
   "metadata": {
    "collapsed": false
   },
   "outputs": [
    {
     "name": "stderr",
     "output_type": "stream",
     "text": [
      "/Users/massil/anaconda/envs/py3k/lib/python3.4/site-packages/matplotlib/collections.py:590: FutureWarning: elementwise comparison failed; returning scalar instead, but in the future will perform elementwise comparison\n",
      "  if self._edgecolors == str('face'):\n"
     ]
    },
    {
     "data": {
      "image/png": "[encoded data removed]",
      "text/plain": [
       "<matplotlib.figure.Figure at 0x10c2ca240>"
      ]
     },
     "metadata": {},
     "output_type": "display_data"
    }
   ],
   "source": [
    "plt.pcolor(X_frob[::-1],cmap=plt.cm.Blues)\n",
    "plt.show()\n",
    "plt.close()"
   ]
  },
  {
   "cell_type": "code",
   "execution_count": 66,
   "metadata": {
    "collapsed": false
   },
   "outputs": [
    {
     "name": "stdout",
     "output_type": "stream",
     "text": [
      "RelErr =  0.881306215192\n",
      "RankCorr =  0.278195949775\n"
     ]
    }
   ],
   "source": [
    "print(\"RelErr = \", rel_err(Alpha_truth, X_frob))\n",
    "print(\"RankCorr = \", rank_corr(Alpha_truth, X_frob))"
   ]
  },
  {
   "cell_type": "markdown",
   "metadata": {},
   "source": [
    "## objective = \\ell_1 norm"
   ]
  },
  {
   "cell_type": "code",
   "execution_count": 67,
   "metadata": {
    "collapsed": false
   },
   "outputs": [
    {
     "name": "stdout",
     "output_type": "stream",
     "text": [
      "||X1 - X_2|| =  2.77623746966e-08\n",
      "||X2 - X_3|| =  4.02598021783e-15\n",
      "||U1|| =  0.0541643034968\n",
      "||U2|| =  0.006036778539\n",
      "||U3|| =  3.05378224873e-15\n",
      "||U4|| =  0.0327274711093\n",
      "||U5|| =  0.0115507522446\n"
     ]
    },
    {
     "name": "stderr",
     "output_type": "stream",
     "text": [
      "/Users/massil/Programmation/git/whma/solver.py:43: ComplexWarning: Casting complex values to real discards the imaginary part\n",
      "  X4[:] = upd.update_X4(Y2, U5, B)\n",
      "/Users/massil/Programmation/git/whma/solver.py:44: ComplexWarning: Casting complex values to real discards the imaginary part\n",
      "  Y1[:] = upd.update_Y1(X1, Y2, U1, U4, diagA, C)\n",
      "/Users/massil/Programmation/git/whma/solver.py:46: ComplexWarning: Casting complex values to real discards the imaginary part\n",
      "  U1[:] = upd.update_U1(U1, Y1, Y2, C)\n",
      "/Users/massil/Programmation/git/whma/solver.py:50: ComplexWarning: Casting complex values to real discards the imaginary part\n",
      "  U5[:] = upd.update_U5(U5, X4, Y2, B)\n"
     ]
    }
   ],
   "source": [
    "# main step\n",
    "X_l1 = admm(estim, prox.l1, X0, X0, Alpha_truth, rho=rho, maxiter=maxiter)"
   ]
  },
  {
   "cell_type": "code",
   "execution_count": 68,
   "metadata": {
    "collapsed": false
   },
   "outputs": [
    {
     "name": "stderr",
     "output_type": "stream",
     "text": [
      "/Users/massil/anaconda/envs/py3k/lib/python3.4/site-packages/matplotlib/collections.py:590: FutureWarning: elementwise comparison failed; returning scalar instead, but in the future will perform elementwise comparison\n",
      "  if self._edgecolors == str('face'):\n"
     ]
    },
    {
     "data": {
      "image/png": "[encoded data removed]",
      "text/plain": [
       "<matplotlib.figure.Figure at 0x10bf66e10>"
      ]
     },
     "metadata": {},
     "output_type": "display_data"
    }
   ],
   "source": [
    "plt.pcolor(X_l1[::-1],cmap=plt.cm.Blues)\n",
    "plt.show()\n",
    "plt.close()"
   ]
  },
  {
   "cell_type": "code",
   "execution_count": 69,
   "metadata": {
    "collapsed": false
   },
   "outputs": [
    {
     "name": "stdout",
     "output_type": "stream",
     "text": [
      "RelErr =  1.29210227801\n",
      "RankCorr =  0.232127087907\n"
     ]
    }
   ],
   "source": [
    "print(\"RelErr = \", rel_err(Alpha_truth, X_l1))\n",
    "print(\"RankCorr = \", rank_corr(Alpha_truth, X_l1))"
   ]
  },
  {
   "cell_type": "markdown",
   "metadata": {},
   "source": [
    "## objective = nuclear norm"
   ]
  },
  {
   "cell_type": "code",
   "execution_count": 70,
   "metadata": {
    "collapsed": false
   },
   "outputs": [
    {
     "name": "stdout",
     "output_type": "stream",
     "text": [
      "||X1 - X_2|| =  2.20607351993e-10\n",
      "||X2 - X_3|| =  1.01379112035e-15\n",
      "||U1|| =  0.0140821314087\n",
      "||U2|| =  0.00524737548321\n",
      "||U3|| =  1.83101554103e-15\n",
      "||U4|| =  0.00890643741614\n",
      "||U5|| =  0.00719456481754\n"
     ]
    },
    {
     "name": "stderr",
     "output_type": "stream",
     "text": [
      "/Users/massil/Programmation/git/whma/solver.py:43: ComplexWarning: Casting complex values to real discards the imaginary part\n",
      "  X4[:] = upd.update_X4(Y2, U5, B)\n",
      "/Users/massil/Programmation/git/whma/solver.py:44: ComplexWarning: Casting complex values to real discards the imaginary part\n",
      "  Y1[:] = upd.update_Y1(X1, Y2, U1, U4, diagA, C)\n",
      "/Users/massil/Programmation/git/whma/solver.py:46: ComplexWarning: Casting complex values to real discards the imaginary part\n",
      "  U1[:] = upd.update_U1(U1, Y1, Y2, C)\n",
      "/Users/massil/Programmation/git/whma/solver.py:50: ComplexWarning: Casting complex values to real discards the imaginary part\n",
      "  U5[:] = upd.update_U5(U5, X4, Y2, B)\n"
     ]
    }
   ],
   "source": [
    "# main step\n",
    "X_nuc = admm(estim, prox.nuclear, X0, X0, Alpha_truth, rho=rho, maxiter=maxiter)"
   ]
  },
  {
   "cell_type": "code",
   "execution_count": 71,
   "metadata": {
    "collapsed": false
   },
   "outputs": [
    {
     "name": "stderr",
     "output_type": "stream",
     "text": [
      "/Users/massil/anaconda/envs/py3k/lib/python3.4/site-packages/matplotlib/collections.py:590: FutureWarning: elementwise comparison failed; returning scalar instead, but in the future will perform elementwise comparison\n",
      "  if self._edgecolors == str('face'):\n"
     ]
    },
    {
     "data": {
      "image/png": "[encoded data removed]",
      "text/plain": [
       "<matplotlib.figure.Figure at 0x10b4e0710>"
      ]
     },
     "metadata": {},
     "output_type": "display_data"
    }
   ],
   "source": [
    "plt.pcolor(X_nuc[::-1],cmap=plt.cm.Blues)\n",
    "plt.show()\n",
    "plt.close()"
   ]
  },
  {
   "cell_type": "code",
   "execution_count": 72,
   "metadata": {
    "collapsed": false
   },
   "outputs": [
    {
     "name": "stdout",
     "output_type": "stream",
     "text": [
      "RelErr =  1.04059373268\n",
      "RankCorr =  0.284506243628\n"
     ]
    }
   ],
   "source": [
    "print(\"RelErr = \", rel_err(Alpha_truth, X_nuc))\n",
    "print(\"RankCorr = \", rank_corr(Alpha_truth, X_nuc))"
   ]
  },
  {
   "cell_type": "markdown",
   "metadata": {
    "collapsed": true
   },
   "source": [
    "## method = matrix Riccati equation"
   ]
  },
  {
   "cell_type": "code",
   "execution_count": 73,
   "metadata": {
    "collapsed": false
   },
   "outputs": [],
   "source": [
    "from scipy.linalg import solve_continuous_are\n",
    "from whma.utils import empirical_sqrt_mean, empirical_sqrt_cross_corr\n",
    "Lambda = empirical_sqrt_mean(estim.lam)\n",
    "diagD, O = empirical_sqrt_cross_corr(estim)\n",
    "A = np.zeros((d, d))\n",
    "B = np.dot(O,np.dot(np.diag(diagD),O.T))\n",
    "R = np.eye(d)\n",
    "Q = np.diag(Lambda)"
   ]
  },
  {
   "cell_type": "code",
   "execution_count": 74,
   "metadata": {
    "collapsed": false
   },
   "outputs": [],
   "source": [
    "R_ric = solve_continuous_are(A, B, Q, R)\n",
    "X_ric = np.eye(d) - R_ric"
   ]
  },
  {
   "cell_type": "code",
   "execution_count": 75,
   "metadata": {
    "collapsed": false
   },
   "outputs": [
    {
     "name": "stderr",
     "output_type": "stream",
     "text": [
      "/Users/massil/anaconda/envs/py3k/lib/python3.4/site-packages/numpy/ma/core.py:3089: ComplexWarning: Casting complex values to real discards the imaginary part\n",
      "  output = self._data.astype(newtype).view(type(self))\n",
      "/Users/massil/anaconda/envs/py3k/lib/python3.4/site-packages/matplotlib/colors.py:917: ComplexWarning: Casting complex values to real discards the imaginary part\n",
      "  vmin = float(vmin)\n",
      "/Users/massil/anaconda/envs/py3k/lib/python3.4/site-packages/matplotlib/colors.py:918: ComplexWarning: Casting complex values to real discards the imaginary part\n",
      "  vmax = float(vmax)\n",
      "/Users/massil/anaconda/envs/py3k/lib/python3.4/site-packages/matplotlib/collections.py:590: FutureWarning: elementwise comparison failed; returning scalar instead, but in the future will perform elementwise comparison\n",
      "  if self._edgecolors == str('face'):\n"
     ]
    },
    {
     "data": {
      "image/png": "[encoded data removed]",
      "text/plain": [
       "<matplotlib.figure.Figure at 0x10b4e0ac8>"
      ]
     },
     "metadata": {},
     "output_type": "display_data"
    }
   ],
   "source": [
    "plt.pcolor(X_ric[::-1],cmap=plt.cm.Blues)\n",
    "plt.show()\n",
    "plt.close()"
   ]
  },
  {
   "cell_type": "code",
   "execution_count": 76,
   "metadata": {
    "collapsed": false
   },
   "outputs": [
    {
     "name": "stdout",
     "output_type": "stream",
     "text": [
      "RelErr =  1.20062146852\n",
      "RankCorr =  0.263629434455\n"
     ]
    }
   ],
   "source": [
    "print(\"RelErr = \", rel_err(Alpha_truth, X_ric))\n",
    "print(\"RankCorr = \", rank_corr(Alpha_truth, X_ric))"
   ]
  },
  {
   "cell_type": "code",
   "execution_count": null,
   "metadata": {
    "collapsed": true
   },
   "outputs": [],
   "source": []
  }
 ],
 "metadata": {
  "kernelspec": {
   "display_name": "Python 3",
   "language": "python",
   "name": "python3"
  },
  "language_info": {
   "codemirror_mode": {
    "name": "ipython",
    "version": 3
   },
   "file_extension": ".py",
   "mimetype": "text/x-python",
   "name": "python",
   "nbconvert_exporter": "python",
   "pygments_lexer": "ipython3",
   "version": "3.4.3"
  }
 },
 "nbformat": 4,
 "nbformat_minor": 0
}
