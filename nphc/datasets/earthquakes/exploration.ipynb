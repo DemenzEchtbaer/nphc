{
 "cells": [
  {
   "cell_type": "code",
   "execution_count": 1,
   "metadata": {
    "collapsed": true
   },
   "outputs": [],
   "source": [
    "import pandas as pd"
   ]
  },
  {
   "cell_type": "code",
   "execution_count": 35,
   "metadata": {
    "collapsed": true
   },
   "outputs": [],
   "source": [
    "df = pd.read_csv('earthquakes.csv')\n",
    "events = pd.to_datetime(df.DateTime)"
   ]
  },
  {
   "cell_type": "code",
   "execution_count": 47,
   "metadata": {
    "collapsed": false
   },
   "outputs": [
    {
     "data": {
      "text/plain": [
       "6252"
      ]
     },
     "execution_count": 47,
     "metadata": {},
     "output_type": "execute_result"
    }
   ],
   "source": [
    "len(events)"
   ]
  },
  {
   "cell_type": "code",
   "execution_count": 36,
   "metadata": {
    "collapsed": false
   },
   "outputs": [
    {
     "data": {
      "text/html": [
       "<div>\n",
       "<table border=\"1\" class=\"dataframe\">\n",
       "  <thead>\n",
       "    <tr style=\"text-align: right;\">\n",
       "      <th></th>\n",
       "      <th>DateTime</th>\n",
       "      <th>Latitude</th>\n",
       "      <th>Longitude</th>\n",
       "      <th>Depth</th>\n",
       "      <th>Magnitude</th>\n",
       "      <th>MagType</th>\n",
       "      <th>NbStations</th>\n",
       "      <th>Gap</th>\n",
       "      <th>Distance</th>\n",
       "      <th>RMS</th>\n",
       "      <th>Source</th>\n",
       "      <th>EventID</th>\n",
       "    </tr>\n",
       "  </thead>\n",
       "  <tbody>\n",
       "    <tr>\n",
       "      <th>0</th>\n",
       "      <td>2005-01-05 01:23:30.430</td>\n",
       "      <td>37.056</td>\n",
       "      <td>141.470</td>\n",
       "      <td>48.1</td>\n",
       "      <td>4.3</td>\n",
       "      <td>Mw</td>\n",
       "      <td>16.0</td>\n",
       "      <td>NaN</td>\n",
       "      <td>NaN</td>\n",
       "      <td>1.05</td>\n",
       "      <td>NEI</td>\n",
       "      <td>200501054004</td>\n",
       "    </tr>\n",
       "    <tr>\n",
       "      <th>1</th>\n",
       "      <td>2005-01-06 13:00:40.220</td>\n",
       "      <td>41.456</td>\n",
       "      <td>142.065</td>\n",
       "      <td>65.5</td>\n",
       "      <td>5.4</td>\n",
       "      <td>Mw</td>\n",
       "      <td>269.0</td>\n",
       "      <td>NaN</td>\n",
       "      <td>NaN</td>\n",
       "      <td>0.83</td>\n",
       "      <td>NEI</td>\n",
       "      <td>200501064042</td>\n",
       "    </tr>\n",
       "    <tr>\n",
       "      <th>2</th>\n",
       "      <td>2005-01-17 01:44:52.690</td>\n",
       "      <td>41.894</td>\n",
       "      <td>143.900</td>\n",
       "      <td>50.0</td>\n",
       "      <td>4.0</td>\n",
       "      <td>Mb</td>\n",
       "      <td>6.0</td>\n",
       "      <td>NaN</td>\n",
       "      <td>NaN</td>\n",
       "      <td>0.40</td>\n",
       "      <td>NEI</td>\n",
       "      <td>200501174016</td>\n",
       "    </tr>\n",
       "    <tr>\n",
       "      <th>3</th>\n",
       "      <td>2005-01-18 14:33:59.200</td>\n",
       "      <td>41.555</td>\n",
       "      <td>142.102</td>\n",
       "      <td>97.5</td>\n",
       "      <td>4.0</td>\n",
       "      <td>Mb</td>\n",
       "      <td>15.0</td>\n",
       "      <td>NaN</td>\n",
       "      <td>NaN</td>\n",
       "      <td>1.07</td>\n",
       "      <td>NEI</td>\n",
       "      <td>200501184072</td>\n",
       "    </tr>\n",
       "    <tr>\n",
       "      <th>4</th>\n",
       "      <td>2005-01-22 23:24:42.270</td>\n",
       "      <td>38.803</td>\n",
       "      <td>141.660</td>\n",
       "      <td>42.6</td>\n",
       "      <td>4.2</td>\n",
       "      <td>Mb</td>\n",
       "      <td>10.0</td>\n",
       "      <td>NaN</td>\n",
       "      <td>NaN</td>\n",
       "      <td>1.03</td>\n",
       "      <td>NEI</td>\n",
       "      <td>200501224082</td>\n",
       "    </tr>\n",
       "  </tbody>\n",
       "</table>\n",
       "</div>"
      ],
      "text/plain": [
       "                  DateTime  Latitude  Longitude  Depth  Magnitude MagType  \\\n",
       "0  2005-01-05 01:23:30.430    37.056    141.470   48.1        4.3      Mw   \n",
       "1  2005-01-06 13:00:40.220    41.456    142.065   65.5        5.4      Mw   \n",
       "2  2005-01-17 01:44:52.690    41.894    143.900   50.0        4.0      Mb   \n",
       "3  2005-01-18 14:33:59.200    41.555    142.102   97.5        4.0      Mb   \n",
       "4  2005-01-22 23:24:42.270    38.803    141.660   42.6        4.2      Mb   \n",
       "\n",
       "   NbStations  Gap  Distance   RMS Source       EventID  \n",
       "0        16.0  NaN       NaN  1.05    NEI  200501054004  \n",
       "1       269.0  NaN       NaN  0.83    NEI  200501064042  \n",
       "2         6.0  NaN       NaN  0.40    NEI  200501174016  \n",
       "3        15.0  NaN       NaN  1.07    NEI  200501184072  \n",
       "4        10.0  NaN       NaN  1.03    NEI  200501224082  "
      ]
     },
     "execution_count": 36,
     "metadata": {},
     "output_type": "execute_result"
    }
   ],
   "source": [
    "df.head()"
   ]
  },
  {
   "cell_type": "code",
   "execution_count": 37,
   "metadata": {
    "collapsed": true
   },
   "outputs": [],
   "source": [
    "from nphc.misc.covariance_density import cov_density"
   ]
  },
  {
   "cell_type": "code",
   "execution_count": 53,
   "metadata": {
    "collapsed": false
   },
   "outputs": [],
   "source": [
    "T = (events[len(events)-1]-events[0]).total_seconds()\n",
    "N = np.array([(events[i] - events[0]).total_seconds() for i in range(len(events))])\n",
    "L = len(events) / T\n",
    "X, Y = cov_density(N, N, T, L, log_start=0., log_end=4, n_points=1000)"
   ]
  },
  {
   "cell_type": "code",
   "execution_count": 54,
   "metadata": {
    "collapsed": true
   },
   "outputs": [],
   "source": [
    "import matplotlib.pyplot as plt\n",
    "%matplotlib inline"
   ]
  },
  {
   "cell_type": "code",
   "execution_count": 55,
   "metadata": {
    "collapsed": false
   },
   "outputs": [
    {
     "data": {
      "image/png": "[encoded data removed]",
      "text/plain": [
       "<matplotlib.figure.Figure at 0x7fb0eb617b00>"
      ]
     },
     "metadata": {},
     "output_type": "display_data"
    }
   ],
   "source": [
    "plt.plot(X,Y)\n",
    "plt.xscale(\"log\")"
   ]
  },
  {
   "cell_type": "code",
   "execution_count": null,
   "metadata": {
    "collapsed": true
   },
   "outputs": [],
   "source": []
  }
 ],
 "metadata": {
  "kernelspec": {
   "display_name": "Python 3",
   "language": "python",
   "name": "python3"
  },
  "language_info": {
   "codemirror_mode": {
    "name": "ipython",
    "version": 3
   },
   "file_extension": ".py",
   "mimetype": "text/x-python",
   "name": "python",
   "nbconvert_exporter": "python",
   "pygments_lexer": "ipython3",
   "version": "3.5.2"
  }
 },
 "nbformat": 4,
 "nbformat_minor": 0
}
