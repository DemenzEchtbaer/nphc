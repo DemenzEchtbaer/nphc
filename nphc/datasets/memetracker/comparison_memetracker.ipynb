{
 "cells": [
  {
   "cell_type": "code",
   "execution_count": 1,
   "metadata": {
    "collapsed": true
   },
   "outputs": [],
   "source": [
    "import gzip, pickle\n",
    "f = gzip.open(\"data/full_process_by_day.pkl.gz\")\n",
    "realizations = pickle.load(f)\n",
    "f.close()"
   ]
  },
  {
   "cell_type": "code",
   "execution_count": 2,
   "metadata": {
    "collapsed": false
   },
   "outputs": [],
   "source": [
    "def reset_time(realization):\n",
    "    min_time = min(process[0] for process in realization if len(process) > 0)\n",
    "    for process in realization:\n",
    "        for i in range(len(process)):\n",
    "            process[i] -= min_time\n",
    "\n",
    "import numpy as np\n",
    "ticks = []\n",
    "for day in range(len(realizations)):\n",
    "    ticks_day = []\n",
    "    for dim in range(len(realizations[0])):\n",
    "        data_plus_noise = realizations[day][dim] + np.random.rand(len(realizations[day][dim]))\n",
    "        ticks_day.append(data_plus_noise)\n",
    "    reset_time(ticks_day)\n",
    "    if all(len(process) > 0 for process in realizations[day]):\n",
    "        ticks.append(ticks_day)"
   ]
  },
  {
   "cell_type": "markdown",
   "metadata": {},
   "source": [
    "# NPHC"
   ]
  },
  {
   "cell_type": "code",
   "execution_count": 3,
   "metadata": {
    "collapsed": false
   },
   "outputs": [
    {
     "name": "stdout",
     "output_type": "stream",
     "text": [
      "L is computed\n"
     ]
    },
    {
     "name": "stderr",
     "output_type": "stream",
     "text": [
      "/Users/massil/anaconda/envs/py3k/lib/python3.4/site-packages/sklearn/cross_validation.py:44: DeprecationWarning: This module was deprecated in version 0.18 in favor of the model_selection module into which all the refactored classes and functions are moved. Also note that the interface of the new CV iterators are different from that of this module. This module will be removed in 0.20.\n",
      "  \"This module will be removed in 0.20.\", DeprecationWarning)\n"
     ]
    },
    {
     "name": "stdout",
     "output_type": "stream",
     "text": [
      "C is computed\n",
      "K_c is computed\n"
     ]
    }
   ],
   "source": [
    "from nphc.main import NPHC\n",
    "nphc = NPHC()\n",
    "nphc.fit(ticks,half_width=3600,filtr=\"rectangular\",method=\"parallel_by_day\")"
   ]
  },
  {
   "cell_type": "code",
   "execution_count": 4,
   "metadata": {
    "collapsed": false,
    "scrolled": true
   },
   "outputs": [
    {
     "name": "stdout",
     "output_type": "stream",
     "text": [
      "Epoch: 0000 log10(cost)= 0.044227865\n",
      "Optimization Finished!\n"
     ]
    },
    {
     "name": "stderr",
     "output_type": "stream",
     "text": [
      "/Users/massil/Programmation/git/nphc/nphc/main.py:132: ComplexWarning: Casting complex values to real discards the imaginary part\n",
      "  R0 = tf.constant(start_point.astype(np.float32), shape=[d,d])\n"
     ]
    }
   ],
   "source": [
    "R_pred = nphc.solve(training_epochs=200,display_step=200,learning_rate=1e-2,optimizer='adam')\n",
    "d = R_pred.shape[0]\n",
    "from scipy.linalg import inv\n",
    "import numpy as np\n",
    "G_nphc = np.eye(d) - inv(R_pred)"
   ]
  },
  {
   "cell_type": "code",
   "execution_count": 5,
   "metadata": {
    "collapsed": false
   },
   "outputs": [],
   "source": [
    "import matplotlib.pyplot as plt\n",
    "%matplotlib inline\n",
    "import seaborn as sns\n",
    "#sns.heatmap(G_nphc[:20,:20],cmap=\"Blues\")"
   ]
  },
  {
   "cell_type": "markdown",
   "metadata": {},
   "source": [
    "# ADM4"
   ]
  },
  {
   "cell_type": "code",
   "execution_count": null,
   "metadata": {
    "collapsed": true
   },
   "outputs": [],
   "source": [
    "from mlpp.hawkesem import HawkesEMADM4, plot_hawkes_kernels"
   ]
  },
  {
   "cell_type": "code",
   "execution_count": null,
   "metadata": {
    "collapsed": false
   },
   "outputs": [],
   "source": [
    "d = len(realizations[0])\n",
    "beta = 1./3600\n",
    "rho = 1e0\n",
    "lbd1 = 0.\n",
    "lbd2 = 0.\n",
    "mu = np.zeros(d)+.2\n",
    "auv = np.zeros((d,d))+.2\n",
    "em = HawkesEMADM4(beta,rho,lbd1,lbd2,n_cores=8)\n",
    "em.fit(ticks)\n",
    "em.solve(niter=10,mu_start=mu,auv_start=auv,flag_verbose=False)"
   ]
  },
  {
   "cell_type": "code",
   "execution_count": null,
   "metadata": {
    "collapsed": true
   },
   "outputs": [],
   "source": []
  }
 ],
 "metadata": {
  "kernelspec": {
   "display_name": "Python 3",
   "language": "python",
   "name": "python3"
  },
  "language_info": {
   "codemirror_mode": {
    "name": "ipython",
    "version": 3
   },
   "file_extension": ".py",
   "mimetype": "text/x-python",
   "name": "python",
   "nbconvert_exporter": "python",
   "pygments_lexer": "ipython3",
   "version": "3.4.4"
  }
 },
 "nbformat": 4,
 "nbformat_minor": 0
}
