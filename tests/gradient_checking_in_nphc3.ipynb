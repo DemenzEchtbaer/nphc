{
 "cells": [
  {
   "cell_type": "code",
   "execution_count": 3,
   "metadata": {},
   "outputs": [],
   "source": [
    "from whma.metrics import mse_K_part\n",
    "from whma.optim import *\n",
    "import matplotlib.pyplot as plt\n",
    "%matplotlib inline"
   ]
  },
  {
   "cell_type": "markdown",
   "metadata": {},
   "source": [
    "# Gradient of full problem"
   ]
  },
  {
   "cell_type": "code",
   "execution_count": 5,
   "metadata": {},
   "outputs": [
    {
     "data": {
      "image/png": "[encoded data removed]"
     },
     "output_type": "display_data",
     "metadata": {}
    }
   ],
   "source": [
    "N = []\n",
    "sizes = np.random.randint(low=15,high=20,size=3)\n",
    "for n in sizes:\n",
    "    process = np.sort(np.random.rand(n))\n",
    "    N.append(process)\n",
    "\n",
    "cumul = Cumulants(N)\n",
    "cumul.hMax = .3\n",
    "cumul.compute_all()\n",
    "\n",
    "simple_obj = lambda R: mse_K(cumul,R)\n",
    "simple_grad = lambda R: gradient_f(cumul,R)\n",
    "\n",
    "d = cumul.dim\n",
    "R0 = np.random.rand(d**2).reshape(d,d)\n",
    "rand_mat = np.zeros((d,d))\n",
    "a,b = np.random.randint(d,size=2)\n",
    "rand_mat[a,b] += 1.\n",
    "erreur = []\n",
    "res1 = np.einsum('ij,ij',simple_grad(R0),rand_mat)\n",
    "for u in np.arange(0,-15,-1):\n",
    "    eps = 10**u\n",
    "    res2 = (simple_obj(R0+eps*rand_mat)-simple_obj(R0-eps*rand_mat))/(2*eps)\n",
    "    erreur.append(abs(res1-res2)/abs(res1))\n",
    "import matplotlib.pyplot as plt\n",
    "plt.plot(np.log(erreur))\n",
    "plt.show()"
   ]
  },
  {
   "cell_type": "markdown",
   "metadata": {},
   "source": [
    "# Gradient of approximate problem"
   ]
  },
  {
   "cell_type": "code",
   "execution_count": 6,
   "metadata": {},
   "outputs": [
    {
     "data": {
      "image/png": "[encoded data removed]"
     },
     "output_type": "display_data",
     "metadata": {}
    }
   ],
   "source": [
    "N = []\n",
    "sizes = np.random.randint(low=15,high=20,size=3)\n",
    "for n in sizes:\n",
    "    process = np.sort(np.random.rand(n))\n",
    "    N.append(process)\n",
    "\n",
    "cumul = Cumulants(N)\n",
    "cumul.hMax = .3\n",
    "cumul.compute_all_part()\n",
    "\n",
    "simple_obj = lambda R: mse_K_part(cumul,R)\n",
    "simple_grad = lambda R: gradient_g(cumul,R)\n",
    "\n",
    "d = cumul.dim\n",
    "R0 = np.random.rand(d**2).reshape(d,d)\n",
    "rand_mat = np.zeros((d,d))\n",
    "a,b = np.random.randint(d,size=2)\n",
    "rand_mat[a,b] += 1.\n",
    "erreur = []\n",
    "res1 = np.einsum('ij,ij',simple_grad(R0),rand_mat)\n",
    "for u in np.arange(0,-15,-1):\n",
    "    eps = 10**u\n",
    "    res2 = (simple_obj(R0+eps*rand_mat)-simple_obj(R0-eps*rand_mat))/(2*eps)\n",
    "    erreur.append(abs(res1-res2)/abs(res1))\n",
    "import matplotlib.pyplot as plt\n",
    "plt.plot(np.log(erreur))\n",
    "plt.show()"
   ]
  },
  {
   "cell_type": "code",
   "execution_count": null,
   "metadata": {},
   "outputs": [],
   "source": [
    ""
   ]
  }
 ],
 "metadata": {
  "kernelspec": {
   "display_name": "Python 3",
   "language": "python",
   "name": "python3"
  },
  "language_info": {
   "codemirror_mode": {
    "name": "ipython",
    "version": 3.0
   },
   "file_extension": ".py",
   "mimetype": "text/x-python",
   "name": "python",
   "nbconvert_exporter": "python",
   "pygments_lexer": "ipython3",
   "version": "3.4.3"
  }
 },
 "nbformat": 4,
 "nbformat_minor": 0
}