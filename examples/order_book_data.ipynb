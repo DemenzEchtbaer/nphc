{
 "cells": [
  {
   "cell_type": "markdown",
   "metadata": {},
   "source": [
    "# Load financial data"
   ]
  },
  {
   "cell_type": "code",
   "execution_count": 5,
   "metadata": {
    "collapsed": false
   },
   "outputs": [],
   "source": [
    "import pandas as pd\n",
    "import numpy as np\n",
    "# data for Eurex futures are in this store\n",
    "store = pd.HDFStore('/data/data/QH/L1.h5', 'r')\n",
    "# do estimation using one month of data\n",
    "#asset = 'xFGBL'\n",
    "asset = 'xFDAX'\n",
    "days = pd.bdate_range(start='20140101', end='20140301')\n",
    "# we examine trades between multilpe components %%bashed on volume buckets:\n",
    "bins4D = (0,1,3,10, np.inf)"
   ]
  },
  {
   "cell_type": "code",
   "execution_count": 6,
   "metadata": {
    "collapsed": true
   },
   "outputs": [],
   "source": [
    "def PriceUp(df):\n",
    "    return (df.PriceMove > 0).values\n",
    "\n",
    "def PriceDown(df):\n",
    "    return (df.PriceMove < 0).values\n",
    "\n",
    "def MarketOrdersAsk(df):\n",
    "    return (df.PriceMove == 0).values * (df.OrderType == 0).values * (df.Side == 1).values\n",
    "\n",
    "def MarketOrdersBid(df):\n",
    "    return (df.PriceMove == 0).values * (df.OrderType == 0).values * (df.Side == -1).values  \n",
    "\n",
    "def LimitAsk(df):\n",
    "    return (df.PriceMove == 0).values * (df.OrderType == 1).values * (df.Side == 1).values\n",
    "\n",
    "def LimitBid(df):\n",
    "    return (df.PriceMove == 0).values * (df.OrderType == 1).values * (df.Side == -1).values\n",
    "\n",
    "def CancelAsk(df):\n",
    "    return (df.PriceMove == 0).values * (df.OrderType == -1).values * (df.Side == 1).values\n",
    "\n",
    "def CancelBid(df):\n",
    "    return (df.PriceMove == 0).values * (df.OrderType == -1).values * (df.Side == -1).values\n",
    "\n",
    "\n",
    "def GetOrderBookEvents(df):\n",
    "    \"\"\" Given df representing one day of data, returns list of array representing\n",
    "        order book events for mid-price moves (ask/bid), number of market orders \n",
    "        (ask/bid), number of limit order (ask/bid), number of cancel orders (ask/bid)\"\"\"\n",
    "    \n",
    "    out = []\n",
    "    out += [np.copy(df.loc[PriceUp(df), \"Time\"].values)]\n",
    "    out += [np.copy(df.loc[PriceDown(df), \"Time\"].values)]\n",
    "    out += [np.copy(df.loc[MarketOrdersAsk(df), \"Time\"].values)]\n",
    "    out += [np.copy(df.loc[MarketOrdersBid(df), \"Time\"].values)]\n",
    "    out += [np.copy(df.loc[LimitAsk(df), \"Time\"].values)]\n",
    "    out += [np.copy(df.loc[LimitBid(df), \"Time\"].values)]\n",
    "    out += [np.copy(df.loc[CancelAsk(df), \"Time\"].values)]\n",
    "    out += [np.copy(df.loc[CancelBid(df), \"Time\"].values)]\n",
    "    return out\n",
    "\n",
    "def GetComponents(df, vol_bins):\n",
    "    \"\"\" Given df representing one day of data, returns list of array representing \n",
    "        trades time for each volume component\"\"\"\n",
    "    \n",
    "    mask = lambda x, y: (df.OrderType==0).values * (np.abs(df.Volume.values)>x) * (np.abs(df.Volume.values)<=y)\n",
    "    out = []\n",
    "    for ii in range(len(vol_bins)-1): \n",
    "        out += [np.copy(df.loc[mask(vol_bins[ii], vol_bins[ii+1]), 'Time'].values)]\n",
    "    return out"
   ]
  },
  {
   "cell_type": "code",
   "execution_count": 7,
   "metadata": {
    "collapsed": false
   },
   "outputs": [],
   "source": [
    "big_data = []\n",
    "for d in days:\n",
    "    try:\n",
    "        df = store.get('%s/%s' %(asset, d.strftime('%Y%m%d')))\n",
    "    except KeyError:\n",
    "        continue\n",
    "    #data = GetComponents(df, bins4D)\n",
    "    data = GetOrderBookEvents(df)\n",
    "    big_data.append(data)"
   ]
  },
  {
   "cell_type": "markdown",
   "metadata": {},
   "source": [
    "# Covariance density has a fat tail"
   ]
  },
  {
   "cell_type": "code",
   "execution_count": 8,
   "metadata": {
    "collapsed": false
   },
   "outputs": [],
   "source": [
    "%matplotlib inline\n",
    "#import matplotlib\n",
    "#matplotlib.use('Agg')\n",
    "import matplotlib.pyplot as plt\n",
    "from nphc.misc.covariance_density import cov_density"
   ]
  },
  {
   "cell_type": "code",
   "execution_count": 9,
   "metadata": {
    "collapsed": false
   },
   "outputs": [
    {
     "name": "stdout",
     "output_type": "stream",
     "text": [
      "0 4\n"
     ]
    }
   ],
   "source": [
    "data = big_data[0]\n",
    "d = len(data)\n",
    "i, j = np.random.randint(low=0, high=d, size=2)\n",
    "print(i, j)\n",
    "T = max(X[-1] - X[0] for X in data)\n",
    "L_j = len(data[j])/T\n",
    "X, Y = cov_density(data[i], data[j], T, L_j, log_start=-3, log_end=3, n_points=100)"
   ]
  },
  {
   "cell_type": "markdown",
   "metadata": {},
   "source": [
    "### Linear fit of log-log plot to know whether the covariance is integrable"
   ]
  },
  {
   "cell_type": "code",
   "execution_count": 10,
   "metadata": {
    "collapsed": false
   },
   "outputs": [
    {
     "name": "stdout",
     "output_type": "stream",
     "text": [
      "slope = -0.19180738945305642\n"
     ]
    }
   ],
   "source": [
    "from scipy.stats import linregress\n",
    "cond = X > 5.\n",
    "x = X[cond]\n",
    "y = Y[cond]\n",
    "slope, intercept = linregress(np.log(x), np.log(y))[:2]\n",
    "print(\"slope = {}\".format(slope))"
   ]
  },
  {
   "cell_type": "code",
   "execution_count": 11,
   "metadata": {
    "collapsed": false
   },
   "outputs": [
    {
     "data": {
      "text/plain": [
       "[]"
      ]
     },
     "execution_count": 11,
     "metadata": {},
     "output_type": "execute_result"
    },
    {
     "data": {
      "image/png": "[encoded data removed]",
      "text/plain": [
       "<matplotlib.figure.Figure at 0x7f2961174ef0>"
      ]
     },
     "metadata": {},
     "output_type": "display_data"
    }
   ],
   "source": [
    "from math import exp\n",
    "line = exp(intercept) * X**slope\n",
    "plt.plot(X, Y, 'b', X, line, 'g')\n",
    "plt.loglog()"
   ]
  },
  {
   "cell_type": "markdown",
   "metadata": {},
   "source": [
    "# Fit (=> compute the cumulants)"
   ]
  },
  {
   "cell_type": "code",
   "execution_count": 12,
   "metadata": {
    "collapsed": false
   },
   "outputs": [
    {
     "name": "stdout",
     "output_type": "stream",
     "text": [
      "L is computed\n",
      "C is computed\n",
      "K_c is computed\n"
     ]
    }
   ],
   "source": [
    "from nphc.main import NPHC\n",
    "nphc = NPHC()\n",
    "nphc.fit(big_data,half_wifth=1.,filtr=\"rectangular\",method=\"parallel_by_day\")"
   ]
  },
  {
   "cell_type": "markdown",
   "metadata": {},
   "source": [
    "# Solve (=> minimize the objective function)"
   ]
  },
  {
   "cell_type": "code",
   "execution_count": 28,
   "metadata": {
    "collapsed": false
   },
   "outputs": [],
   "source": [
    "cumulants_list = [nphc.L, nphc.C, nphc.K_c]\n",
    "from nphc.main import starting_point\n",
    "start_point = starting_point(cumulants_list, random=True)\n",
    "#sns.heatmap(start_point)"
   ]
  },
  {
   "cell_type": "code",
   "execution_count": 29,
   "metadata": {
    "collapsed": false
   },
   "outputs": [
    {
     "name": "stdout",
     "output_type": "stream",
     "text": [
      "Epoch: 0000 log10(cost)= 1.220726252\n",
      "Epoch: 0020 log10(cost)= 1.229959011\n",
      "Epoch: 0040 log10(cost)= 1.201888800\n",
      "Epoch: 0060 log10(cost)= 1.176770329\n",
      "Epoch: 0080 log10(cost)= 1.175638080\n",
      "Epoch: 0100 log10(cost)= 1.159642339\n",
      "Epoch: 0120 log10(cost)= 1.148946762\n",
      "Epoch: 0140 log10(cost)= 1.169208527\n",
      "Epoch: 0160 log10(cost)= 1.140997529\n",
      "Epoch: 0180 log10(cost)= 1.132573009\n",
      "Optimization Finished!\n"
     ]
    }
   ],
   "source": [
    "R_pred = nphc.solve(training_epochs=200,display_step=20,learning_rate=1e-2,optimizer='adam')"
   ]
  },
  {
   "cell_type": "code",
   "execution_count": 30,
   "metadata": {
    "collapsed": false
   },
   "outputs": [],
   "source": [
    "d = len(nphc.L[0])\n",
    "from scipy.linalg import inv\n",
    "G_pred = np.eye(d) - inv(R_pred)"
   ]
  },
  {
   "cell_type": "code",
   "execution_count": 31,
   "metadata": {
    "collapsed": false
   },
   "outputs": [
    {
     "data": {
      "text/plain": [
       "<matplotlib.axes._subplots.AxesSubplot at 0x7f28c0076860>"
      ]
     },
     "execution_count": 31,
     "metadata": {},
     "output_type": "execute_result"
    },
    {
     "data": {
      "image/png": "[encoded data removed]",
      "text/plain": [
       "<matplotlib.figure.Figure at 0x7f28c03ad828>"
      ]
     },
     "metadata": {},
     "output_type": "display_data"
    }
   ],
   "source": [
    "import seaborn as sns\n",
    "sns.heatmap(G_pred)"
   ]
  },
  {
   "cell_type": "code",
   "execution_count": 32,
   "metadata": {
    "collapsed": false
   },
   "outputs": [],
   "source": [
    "df_G = pd.DataFrame(G_pred)\n",
    "#df_G"
   ]
  },
  {
   "cell_type": "code",
   "execution_count": null,
   "metadata": {
    "collapsed": true
   },
   "outputs": [],
   "source": []
  }
 ],
 "metadata": {
  "kernelspec": {
   "display_name": "Python 3",
   "language": "python",
   "name": "python3"
  },
  "language_info": {
   "codemirror_mode": {
    "name": "ipython",
    "version": 3
   },
   "file_extension": ".py",
   "mimetype": "text/x-python",
   "name": "python",
   "nbconvert_exporter": "python",
   "pygments_lexer": "ipython3",
   "version": "3.5.2"
  }
 },
 "nbformat": 4,
 "nbformat_minor": 0
}
