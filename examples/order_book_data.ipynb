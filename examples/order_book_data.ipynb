{
 "cells": [
  {
   "cell_type": "markdown",
   "metadata": {},
   "source": [
    "# Load financial data"
   ]
  },
  {
   "cell_type": "code",
   "execution_count": 27,
   "metadata": {
    "collapsed": false
   },
   "outputs": [],
   "source": [
    "import pandas as pd\n",
    "import numpy as np\n",
    "# data for Eurex futures are in this store\n",
    "store = pd.HDFStore('/data/data/QH/L1.h5', 'r')\n",
    "# do estimation using one month of data\n",
    "#asset = 'xFGBL'\n",
    "#asset = 'xFDAX'\n",
    "#asset = 'xFGBM'\n",
    "#asset = 'xFGBS'\n",
    "asset = 'xFSXE'\n",
    "days = pd.bdate_range(start='20140101', end='20140301')\n",
    "# we examine trades between multilpe components %%bashed on volume buckets:\n",
    "bins4D = (0,1,3,10, np.inf)"
   ]
  },
  {
   "cell_type": "code",
   "execution_count": 28,
   "metadata": {
    "collapsed": true
   },
   "outputs": [],
   "source": [
    "def PriceUp(df):\n",
    "    return (df.PriceMove > 0).values\n",
    "\n",
    "def PriceDown(df):\n",
    "    return (df.PriceMove < 0).values\n",
    "\n",
    "def MarketOrdersAsk(df):\n",
    "    return (df.PriceMove == 0).values * (df.OrderType == 0).values * (df.Side == 1).values\n",
    "\n",
    "def MarketOrdersBid(df):\n",
    "    return (df.PriceMove == 0).values * (df.OrderType == 0).values * (df.Side == -1).values  \n",
    "\n",
    "def LimitAsk(df):\n",
    "    return (df.PriceMove == 0).values * (df.OrderType == 1).values * (df.Side == 1).values\n",
    "\n",
    "def LimitBid(df):\n",
    "    return (df.PriceMove == 0).values * (df.OrderType == 1).values * (df.Side == -1).values\n",
    "\n",
    "def CancelAsk(df):\n",
    "    return (df.PriceMove == 0).values * (df.OrderType == -1).values * (df.Side == 1).values\n",
    "\n",
    "def CancelBid(df):\n",
    "    return (df.PriceMove == 0).values * (df.OrderType == -1).values * (df.Side == -1).values\n",
    "\n",
    "\n",
    "def GetOrderBookEvents(df):\n",
    "    \"\"\" Given df representing one day of data, returns list of array representing\n",
    "        order book events for mid-price moves (ask/bid), number of market orders \n",
    "        (ask/bid), number of limit order (ask/bid), number of cancel orders (ask/bid)\"\"\"\n",
    "    \n",
    "    out = []\n",
    "    out += [np.copy(df.loc[PriceUp(df), \"Time\"].values)]\n",
    "    out += [np.copy(df.loc[PriceDown(df), \"Time\"].values)]\n",
    "    out += [np.copy(df.loc[MarketOrdersAsk(df), \"Time\"].values)]\n",
    "    out += [np.copy(df.loc[MarketOrdersBid(df), \"Time\"].values)]\n",
    "    out += [np.copy(df.loc[LimitAsk(df), \"Time\"].values)]\n",
    "    out += [np.copy(df.loc[LimitBid(df), \"Time\"].values)]\n",
    "    out += [np.copy(df.loc[CancelAsk(df), \"Time\"].values)]\n",
    "    out += [np.copy(df.loc[CancelBid(df), \"Time\"].values)]\n",
    "    return out\n",
    "\n",
    "def GetComponents(df, vol_bins):\n",
    "    \"\"\" Given df representing one day of data, returns list of array representing \n",
    "        trades time for each volume component\"\"\"\n",
    "    \n",
    "    mask = lambda x, y: (df.OrderType==0).values * (np.abs(df.Volume.values)>x) * (np.abs(df.Volume.values)<=y)\n",
    "    out = []\n",
    "    for ii in range(len(vol_bins)-1): \n",
    "        out += [np.copy(df.loc[mask(vol_bins[ii], vol_bins[ii+1]), 'Time'].values)]\n",
    "    return out"
   ]
  },
  {
   "cell_type": "code",
   "execution_count": 29,
   "metadata": {
    "collapsed": false
   },
   "outputs": [],
   "source": [
    "big_data = []\n",
    "for d in days:\n",
    "    try:\n",
    "        df = store.get('%s/%s' %(asset, d.strftime('%Y%m%d')))\n",
    "    except KeyError:\n",
    "        continue\n",
    "    #data = GetComponents(df, bins4D)\n",
    "    data = GetOrderBookEvents(df)\n",
    "    big_data.append(data)"
   ]
  },
  {
   "cell_type": "markdown",
   "metadata": {},
   "source": [
    "# Covariance density has a fat tail"
   ]
  },
  {
   "cell_type": "code",
   "execution_count": 30,
   "metadata": {
    "collapsed": false
   },
   "outputs": [],
   "source": [
    "%matplotlib inline\n",
    "#import matplotlib\n",
    "#matplotlib.use('Agg')\n",
    "import matplotlib.pyplot as plt\n",
    "from nphc.misc.covariance_density import cov_density"
   ]
  },
  {
   "cell_type": "code",
   "execution_count": 31,
   "metadata": {
    "collapsed": false
   },
   "outputs": [
    {
     "name": "stdout",
     "output_type": "stream",
     "text": [
      "3 0\n"
     ]
    }
   ],
   "source": [
    "data = big_data[0]\n",
    "d = len(data)\n",
    "i, j = np.random.randint(low=0, high=d, size=2)\n",
    "print(i, j)\n",
    "T = max(X[-1] - X[0] for X in data)\n",
    "L_j = len(data[j])/T\n",
    "X, Y = cov_density(data[i], data[j], T, L_j, log_start=-3, log_end=3, n_points=100)"
   ]
  },
  {
   "cell_type": "markdown",
   "metadata": {},
   "source": [
    "### Linear fit of log-log plot to know whether the covariance is integrable"
   ]
  },
  {
   "cell_type": "code",
   "execution_count": 32,
   "metadata": {
    "collapsed": false
   },
   "outputs": [
    {
     "name": "stdout",
     "output_type": "stream",
     "text": [
      "slope = -0.2871068452007164\n"
     ]
    }
   ],
   "source": [
    "from scipy.stats import linregress\n",
    "cond = X > 5.\n",
    "x = X[cond]\n",
    "y = Y[cond]\n",
    "slope, intercept = linregress(np.log(x), np.log(y))[:2]\n",
    "print(\"slope = {}\".format(slope))"
   ]
  },
  {
   "cell_type": "code",
   "execution_count": 33,
   "metadata": {
    "collapsed": false
   },
   "outputs": [
    {
     "data": {
      "text/plain": [
       "[]"
      ]
     },
     "execution_count": 33,
     "metadata": {},
     "output_type": "execute_result"
    },
    {
     "data": {
      "image/png": "[encoded data removed]",
      "text/plain": [
       "<matplotlib.figure.Figure at 0x7fa4f4509f60>"
      ]
     },
     "metadata": {},
     "output_type": "display_data"
    }
   ],
   "source": [
    "from math import exp\n",
    "line = exp(intercept) * X**slope\n",
    "plt.plot(X, Y, 'b', X, line, 'g')\n",
    "plt.loglog()"
   ]
  },
  {
   "cell_type": "markdown",
   "metadata": {},
   "source": [
    "# Fit (=> compute the cumulants)"
   ]
  },
  {
   "cell_type": "code",
   "execution_count": 34,
   "metadata": {
    "collapsed": false
   },
   "outputs": [
    {
     "name": "stdout",
     "output_type": "stream",
     "text": [
      "L is computed\n",
      "C is computed\n",
      "K_c is computed\n"
     ]
    }
   ],
   "source": [
    "from nphc.main import NPHC\n",
    "nphc = NPHC()\n",
    "nphc.fit(big_data,half_width=1.,filtr=\"rectangular\",method=\"parallel_by_day\")"
   ]
  },
  {
   "cell_type": "markdown",
   "metadata": {},
   "source": [
    "# Solve (=> minimize the objective function)"
   ]
  },
  {
   "cell_type": "code",
   "execution_count": 35,
   "metadata": {
    "collapsed": false
   },
   "outputs": [],
   "source": [
    "cumulants_list = [nphc.L, nphc.C, nphc.K_c]\n",
    "from nphc.main import starting_point\n",
    "start_point = starting_point(cumulants_list, random=True)\n",
    "#sns.heatmap(start_point)"
   ]
  },
  {
   "cell_type": "code",
   "execution_count": 36,
   "metadata": {
    "collapsed": false
   },
   "outputs": [
    {
     "name": "stdout",
     "output_type": "stream",
     "text": [
      "Epoch: 0000 log10(cost)= 2.371128082\n",
      "Epoch: 0050 log10(cost)= 2.346626043\n",
      "Epoch: 0100 log10(cost)= 2.338198900\n",
      "Epoch: 0150 log10(cost)= 2.336714506\n",
      "Epoch: 0200 log10(cost)= 2.337231159\n",
      "Epoch: 0250 log10(cost)= 2.393287182\n",
      "Epoch: 0300 log10(cost)= 2.340056181\n",
      "Epoch: 0350 log10(cost)= 2.387715816\n",
      "Epoch: 0400 log10(cost)= 2.346864223\n",
      "Epoch: 0450 log10(cost)= 2.360826969\n",
      "Optimization Finished!\n"
     ]
    }
   ],
   "source": [
    "R_pred = nphc.solve(training_epochs=500,display_step=50,learning_rate=1e-2,optimizer='adam')"
   ]
  },
  {
   "cell_type": "code",
   "execution_count": 37,
   "metadata": {
    "collapsed": false
   },
   "outputs": [],
   "source": [
    "d = len(nphc.L[0])\n",
    "from scipy.linalg import inv\n",
    "G_pred = np.eye(d) - inv(R_pred)"
   ]
  },
  {
   "cell_type": "code",
   "execution_count": 38,
   "metadata": {
    "collapsed": false
   },
   "outputs": [
    {
     "data": {
      "image/png": "[encoded data removed]",
      "text/plain": [
       "<matplotlib.figure.Figure at 0x7fa5140f6a90>"
      ]
     },
     "metadata": {},
     "output_type": "display_data"
    }
   ],
   "source": [
    "import seaborn as sns\n",
    "import matplotlib.pyplot as plt\n",
    "plt.rcParams['figure.figsize'] = (12,10)\n",
    "plt.rcParams['xtick.labelsize'] = 26\n",
    "plt.rcParams['ytick.labelsize'] = 26\n",
    "dimensions = [\"$P^{(a)}$\",\"$P^{(b)}$\",\"$T^{(a)}$\",\"$T^{(b)}$\",\"$L^{(a)}$\",\"$L^{(b)}$\",\"$C^{(a)}$\",\"$C^{(b)}$\"]\n",
    "#cmap = sns.cubehelix_palette(light=1, as_cmap=True)\n",
    "#cmap = sns.diverging_palette(10, 220, sep=1, n=7, as_cmap=True)\n",
    "sns_plot = sns.heatmap(G_pred,cmap=\"RdBu_r\",xticklabels=dimensions,yticklabels=dimensions)"
   ]
  },
  {
   "cell_type": "code",
   "execution_count": 39,
   "metadata": {
    "collapsed": false
   },
   "outputs": [],
   "source": [
    "#fig = sns_plot.get_figure()\n",
    "#fig.savefig(\"output.png\")"
   ]
  },
  {
   "cell_type": "code",
   "execution_count": null,
   "metadata": {
    "collapsed": true
   },
   "outputs": [],
   "source": []
  }
 ],
 "metadata": {
  "kernelspec": {
   "display_name": "Python 3",
   "language": "python",
   "name": "python3"
  },
  "language_info": {
   "codemirror_mode": {
    "name": "ipython",
    "version": 3
   },
   "file_extension": ".py",
   "mimetype": "text/x-python",
   "name": "python",
   "nbconvert_exporter": "python",
   "pygments_lexer": "ipython3",
   "version": "3.5.3"
  }
 },
 "nbformat": 4,
 "nbformat_minor": 0
}
