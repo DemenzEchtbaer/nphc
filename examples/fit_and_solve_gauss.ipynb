{
 "cells": [
  {
   "cell_type": "markdown",
   "metadata": {},
   "source": [
    "# Load financial data"
   ]
  },
  {
   "cell_type": "code",
   "execution_count": 1,
   "metadata": {
    "collapsed": false
   },
   "outputs": [],
   "source": [
    "import pandas as pd\n",
    "import numpy as np\n",
    "# data for Eurex futures are in this store\n",
    "store = pd.HDFStore('/data/data/QH/L1.h5', 'r')\n",
    "# to get one day\n",
    "df = store.get('xFGBL/20140922')\n",
    "# we examine trades between multilpe components %%bashed on volume buckets:\n",
    "bins4D = (0,1,3,10, np.inf)"
   ]
  },
  {
   "cell_type": "code",
   "execution_count": 2,
   "metadata": {
    "collapsed": true
   },
   "outputs": [],
   "source": [
    "def PriceUp(df):\n",
    "    return (df.PriceMove > 0).values\n",
    "\n",
    "def PriceDown(df):\n",
    "    return (df.PriceMove < 0).values\n",
    "\n",
    "def MarketOrdersAsk(df):\n",
    "    return (df.PriceMove == 0).values * (df.AskQtyAfter > df.AskQtyBefore).values\n",
    "\n",
    "def MarketOrdersBid(df):\n",
    "    return (df.PriceMove == 0).values * (df.BidQtyAfter > df.BidQtyBefore).values    \n",
    "\n",
    "def GetOrderBookEvents(df):\n",
    "    \"\"\" Given df representing one day of data, returns list of array representing\n",
    "        order book events for mid-price moves (ask/bid), number of market orders \n",
    "        (ask/bid), number of limit order (ask/bid), number of cancel orders (ask/bid)\"\"\"\n",
    "    \n",
    "    out = []\n",
    "    out += [np.copy(df.loc[PriceUp(df), \"Time\"].values)]\n",
    "    out += [np.copy(df.loc[PriceDown(df), \"Time\"].values)]\n",
    "    out += [np.copy(df.loc[MarketOrdersAsk(df), \"Time\"].values)]\n",
    "    out += [np.copy(df.loc[MarketOrdersBid(df), \"Time\"].values)]\n",
    "    return out\n",
    "\n",
    "def GetComponents(df, vol_bins):\n",
    "    \"\"\" Given df representing one day of data, returns list of array representing \n",
    "        trades time for each volume component\"\"\"\n",
    "    \n",
    "    mask = lambda x, y: (df.OrderType==0).values * (np.abs(df.Volume.values)>x) * (np.abs(df.Volume.values)<=y)\n",
    "    out = []\n",
    "    for ii in range(len(vol_bins)-1): \n",
    "        out += [np.copy(df.loc[mask(vol_bins[ii], vol_bins[ii+1]), 'Time'].values)]\n",
    "    return out"
   ]
  },
  {
   "cell_type": "code",
   "execution_count": 3,
   "metadata": {
    "collapsed": true
   },
   "outputs": [],
   "source": [
    "# do estimation using one month of data\n",
    "asset = 'xFGBL'\n",
    "days = pd.bdate_range(start='20140101', end='20140201')\n",
    "big_data = []\n",
    "# 4D case\n",
    "for d in days:\n",
    "    try:\n",
    "        df = store.get('%s/%s' %(asset, d.strftime('%Y%m%d')))\n",
    "    except KeyError:\n",
    "        continue\n",
    "    #data = GetComponents(df, bins4D)\n",
    "    data = GetOrderBookEvents(df)\n",
    "    big_data.append(data)"
   ]
  },
  {
   "cell_type": "markdown",
   "metadata": {},
   "source": [
    "# Covariance density has a fat tail"
   ]
  },
  {
   "cell_type": "code",
   "execution_count": 4,
   "metadata": {
    "collapsed": false
   },
   "outputs": [],
   "source": [
    "%matplotlib inline\n",
    "#import matplotlib\n",
    "#matplotlib.use('Agg')\n",
    "import matplotlib.pyplot as plt\n",
    "from nphc.misc.covariance_density import cov_density"
   ]
  },
  {
   "cell_type": "code",
   "execution_count": 5,
   "metadata": {
    "collapsed": true
   },
   "outputs": [],
   "source": [
    "i = 0\n",
    "j = 1\n",
    "data = big_data[0]\n",
    "T = max(X[-1] - X[0] for X in data)\n",
    "L_j = len(data[j])/T\n",
    "X, Y = cov_density(data[i], data[j], T, L_j, log_start=-3, log_end=3, n_points=100)"
   ]
  },
  {
   "cell_type": "markdown",
   "metadata": {},
   "source": [
    "### Linear fit of log-log plot to know whether the covariance is integrable"
   ]
  },
  {
   "cell_type": "code",
   "execution_count": 6,
   "metadata": {
    "collapsed": false
   },
   "outputs": [
    {
     "name": "stdout",
     "output_type": "stream",
     "text": [
      "slope = -0.3788685950893465\n"
     ]
    }
   ],
   "source": [
    "from scipy.stats import linregress\n",
    "cond = X > 5.\n",
    "x = X[cond]\n",
    "y = Y[cond]\n",
    "slope, intercept = linregress(np.log(x), np.log(y))[:2]\n",
    "print(\"slope = {}\".format(slope))"
   ]
  },
  {
   "cell_type": "code",
   "execution_count": 7,
   "metadata": {
    "collapsed": false
   },
   "outputs": [
    {
     "data": {
      "text/plain": [
       "[]"
      ]
     },
     "execution_count": 7,
     "metadata": {},
     "output_type": "execute_result"
    },
    {
     "data": {
      "image/png": "[encoded data removed]",
      "text/plain": [
       "<matplotlib.figure.Figure at 0x7f956e65a198>"
      ]
     },
     "metadata": {},
     "output_type": "display_data"
    }
   ],
   "source": [
    "from math import exp\n",
    "line = exp(intercept) * X**slope\n",
    "plt.plot(X, Y, 'b', X, line, 'g')\n",
    "plt.loglog()"
   ]
  },
  {
   "cell_type": "markdown",
   "metadata": {},
   "source": [
    "# Fit (=> compute the cumulants)"
   ]
  },
  {
   "cell_type": "code",
   "execution_count": 8,
   "metadata": {
    "collapsed": false
   },
   "outputs": [
    {
     "name": "stdout",
     "output_type": "stream",
     "text": [
      "L is computed\n",
      "C is computed\n",
      "K_c is computed\n"
     ]
    }
   ],
   "source": [
    "from nphc.main import NPHC\n",
    "nphc = NPHC()\n",
    "nphc.fit(big_data,half_wifth=1,filtr=\"gaussian\",method=\"classic\")"
   ]
  },
  {
   "cell_type": "markdown",
   "metadata": {},
   "source": [
    "# Solve (=> minimize the objective function)"
   ]
  },
  {
   "cell_type": "code",
   "execution_count": 9,
   "metadata": {
    "collapsed": false
   },
   "outputs": [
    {
     "name": "stdout",
     "output_type": "stream",
     "text": [
      "Epoch: 0000 log10(cost)= 1.479016542\n",
      "Epoch: 0020 log10(cost)= 1.445499778\n",
      "Epoch: 0040 log10(cost)= 1.477139473\n",
      "Epoch: 0060 log10(cost)= 1.430135131\n",
      "Epoch: 0080 log10(cost)= 1.423014641\n",
      "Optimization Finished!\n"
     ]
    }
   ],
   "source": [
    "R_pred = nphc.solve(alpha=0.,training_epochs=100,display_step=20,learning_rate=1e-2,optimizer='adam')"
   ]
  },
  {
   "cell_type": "code",
   "execution_count": 10,
   "metadata": {
    "collapsed": false
   },
   "outputs": [],
   "source": [
    "d = len(nphc.L[0])\n",
    "from scipy.linalg import inv\n",
    "G_pred = np.eye(d) - inv(R_pred)"
   ]
  },
  {
   "cell_type": "code",
   "execution_count": 11,
   "metadata": {
    "collapsed": false
   },
   "outputs": [
    {
     "data": {
      "text/plain": [
       "<matplotlib.axes._subplots.AxesSubplot at 0x7f94ef170d30>"
      ]
     },
     "execution_count": 11,
     "metadata": {},
     "output_type": "execute_result"
    },
    {
     "data": {
      "image/png": "[encoded data removed]",
      "text/plain": [
       "<matplotlib.figure.Figure at 0x7f94ef170470>"
      ]
     },
     "metadata": {},
     "output_type": "display_data"
    }
   ],
   "source": [
    "import seaborn as sns\n",
    "sns.heatmap(G_pred)"
   ]
  },
  {
   "cell_type": "code",
   "execution_count": null,
   "metadata": {
    "collapsed": true
   },
   "outputs": [],
   "source": []
  }
 ],
 "metadata": {
  "kernelspec": {
   "display_name": "Python 3",
   "language": "python",
   "name": "python3"
  },
  "language_info": {
   "codemirror_mode": {
    "name": "ipython",
    "version": 3
   },
   "file_extension": ".py",
   "mimetype": "text/x-python",
   "name": "python",
   "nbconvert_exporter": "python",
   "pygments_lexer": "ipython3",
   "version": "3.5.2"
  }
 },
 "nbformat": 4,
 "nbformat_minor": 0
}
