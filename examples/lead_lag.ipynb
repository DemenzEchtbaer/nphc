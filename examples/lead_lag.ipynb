{
 "cells": [
  {
   "cell_type": "markdown",
   "metadata": {},
   "source": [
    "# Load financial data"
   ]
  },
  {
   "cell_type": "code",
   "execution_count": 1,
   "metadata": {
    "collapsed": true
   },
   "outputs": [],
   "source": [
    "import pandas as pd\n",
    "import numpy as np\n",
    "# data for Eurex futures are in this store\n",
    "store = pd.HDFStore('/data/data/QH/L1.h5', 'r')\n",
    "# do estimation using one month of data\n",
    "asset = 'xFDAX'\n",
    "days = pd.bdate_range(start='20140101', end='20140103')"
   ]
  },
  {
   "cell_type": "code",
   "execution_count": 2,
   "metadata": {
    "collapsed": true
   },
   "outputs": [],
   "source": [
    "def PriceMove(df):\n",
    "    return (df.PriceMove != 0).values\n",
    "\n",
    "def GetOrderPrice(df):\n",
    "    \"\"\" Given df representing one day of data, returns list of array representing\n",
    "        order book values for mid-price moves (ask/bid), number of market orders \n",
    "        (ask/bid), number of limit order (ask/bid), number of cancel orders (ask/bid)\"\"\"\n",
    "    \n",
    "    out = []\n",
    "    out += [np.copy(df.loc[PriceMove(df), \"Time\"].values)]\n",
    "    mid_price = 0.5 * (np.copy(df.loc[PriceMove(df), \"AskPriceAfter\"].values) \n",
    "                       + np.copy(df.loc[PriceMove(df), \"BidPriceAfter\"].values))\n",
    "    out += [mid_price]\n",
    "    return out"
   ]
  },
  {
   "cell_type": "code",
   "execution_count": 3,
   "metadata": {
    "collapsed": false
   },
   "outputs": [],
   "source": [
    "big_data = []\n",
    "for d in days:\n",
    "    try:\n",
    "        df = store.get('%s/%s' %(asset, d.strftime('%Y%m%d')))\n",
    "    except KeyError:\n",
    "        continue\n",
    "    data = GetOrderPrice(df)\n",
    "    big_data.append(data)"
   ]
  },
  {
   "cell_type": "markdown",
   "metadata": {},
   "source": [
    "# Lead-Lag estimator"
   ]
  },
  {
   "cell_type": "code",
   "execution_count": 4,
   "metadata": {
    "collapsed": false
   },
   "outputs": [],
   "source": [
    "from nphc.misc.lead_lag import hayashi_yoshida_cross_corr"
   ]
  },
  {
   "cell_type": "code",
   "execution_count": 5,
   "metadata": {
    "collapsed": false
   },
   "outputs": [],
   "source": [
    "data = big_data[0]\n",
    "d = len(data)\n",
    "i, j = np.random.randint(low=0, high=d, size=2)\n",
    "times = data[0]\n",
    "values = data[1]\n",
    "lag_range = np.linspace(-5,5,1000)\n",
    "cross_corr = [ hayashi_yoshida_cross_corr(times, values, times, values, lag=lag) for lag in lag_range ]"
   ]
  },
  {
   "cell_type": "code",
   "execution_count": null,
   "metadata": {
    "collapsed": true
   },
   "outputs": [],
   "source": [
    "hayashi_yoshida_cross_corr(times, values, times, values, lag=0.)"
   ]
  },
  {
   "cell_type": "code",
   "execution_count": 6,
   "metadata": {
    "collapsed": false
   },
   "outputs": [
    {
     "data": {
      "text/plain": [
       "[<matplotlib.lines.Line2D at 0x7f977fc2dfd0>]"
      ]
     },
     "execution_count": 6,
     "metadata": {},
     "output_type": "execute_result"
    },
    {
     "data": {
      "image/png": "[encoded data removed]",
      "text/plain": [
       "<matplotlib.figure.Figure at 0x7f97886a5ef0>"
      ]
     },
     "metadata": {},
     "output_type": "display_data"
    }
   ],
   "source": [
    "import matplotlib.pyplot as plt\n",
    "%matplotlib inline\n",
    "plt.plot(lag_range, cross_corr)"
   ]
  },
  {
   "cell_type": "code",
   "execution_count": null,
   "metadata": {
    "collapsed": true
   },
   "outputs": [],
   "source": []
  }
 ],
 "metadata": {
  "kernelspec": {
   "display_name": "Python 3",
   "language": "python",
   "name": "python3"
  },
  "language_info": {
   "codemirror_mode": {
    "name": "ipython",
    "version": 3
   },
   "file_extension": ".py",
   "mimetype": "text/x-python",
   "name": "python",
   "nbconvert_exporter": "python",
   "pygments_lexer": "ipython3",
   "version": "3.5.2"
  }
 },
 "nbformat": 4,
 "nbformat_minor": 0
}
