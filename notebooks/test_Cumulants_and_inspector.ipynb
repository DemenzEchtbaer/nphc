{
 "cells": [
  {
   "cell_type": "code",
   "execution_count": 1,
   "metadata": {
    "collapsed": false
   },
   "outputs": [],
   "source": [
    "import numpy as np\n",
    "import scipy\n",
    "import matplotlib.pyplot as plt\n",
    "%matplotlib inline\n",
    "from pylab import rcParams\n",
    "from mlpp.hawkesnoparam.estim import Estim\n",
    "import mlpp.pp.hawkes as hk\n",
    "from whma.metrics import rel_err, rank_corr, mse_K_partial\n",
    "from whma.cumulants import Cumulants, get_C_claw, get_K_th\n",
    "from numba import autojit"
   ]
  },
  {
   "cell_type": "code",
   "execution_count": 2,
   "metadata": {
    "collapsed": false
   },
   "outputs": [],
   "source": [
    "d = 10\n",
    "mus = 0.0005 * np.ones(d)\n",
    "Alpha_truth = np.zeros((d,d))\n",
    "Beta = np.zeros((d,d))\n",
    "#Alpha_truth = np.ones((d,d)) / 15\n",
    "for i in range(5):\n",
    "    for j in range(5):\n",
    "        if i <= j:\n",
    "            Alpha_truth[i][j] = 1.\n",
    "            Beta[i][j] = 50.\n",
    "for i in range(5,10):\n",
    "    for j in range(5,10):\n",
    "        if i >= j:\n",
    "            Alpha_truth[i][j] = 1.\n",
    "            Beta[i][j] = 1.\n",
    "Alpha_truth /= 6\n",
    "#Alpha_truth = np.ones((d,d)) / 15"
   ]
  },
  {
   "cell_type": "code",
   "execution_count": 3,
   "metadata": {
    "collapsed": false
   },
   "outputs": [
    {
     "name": "stdout",
     "output_type": "stream",
     "text": [
      "0.585556181944\n"
     ]
    }
   ],
   "source": [
    "_, s, _ = np.linalg.svd(Alpha_truth)\n",
    "print(s.max())\n",
    "assert s.max() < 1, \"Alpha_truth cannot generate a stable Hawkes process\""
   ]
  },
  {
   "cell_type": "code",
   "execution_count": 4,
   "metadata": {
    "collapsed": false
   },
   "outputs": [
    {
     "name": "stdout",
     "output_type": "stream",
     "text": [
      "We have\n",
      "    beta_min =  0.17269388197455343\n",
      "    beta_max =  105.36051565782634\n"
     ]
    }
   ],
   "source": [
    "hMax = 40\n",
    "hDelta = .001\n",
    "from math import log\n",
    "# the criteria for beta_min and beta_max are designed for the exponential case\n",
    "beta_min = log(1000) / hMax\n",
    "beta_max = log(10./9.) / hDelta\n",
    "print(\"We have\")\n",
    "print(\"    beta_min = \",beta_min)\n",
    "print(\"    beta_max = \",beta_max)"
   ]
  },
  {
   "cell_type": "code",
   "execution_count": 6,
   "metadata": {
    "collapsed": false
   },
   "outputs": [],
   "source": [
    "kernels = [[hk.HawkesKernelExp(a, b) for (a, b) in zip(a_list, b_list)] for (a_list, b_list) in zip(Alpha_truth, Beta)]\n",
    "h = hk.Hawkes(kernels=kernels, mus=list(mus))\n",
    "T_max = 10000\n",
    "h.simulate(T_max)\n",
    "estim = Estim(h, n_threads=8, hDelta=hDelta, hMax=hMax)"
   ]
  },
  {
   "cell_type": "markdown",
   "metadata": {},
   "source": [
    "# Use the class Cumulants"
   ]
  },
  {
   "cell_type": "code",
   "execution_count": 7,
   "metadata": {
    "collapsed": true
   },
   "outputs": [],
   "source": [
    "N = h.get_full_process()\n",
    "cumul = Cumulants(N,hMax=16)"
   ]
  },
  {
   "cell_type": "code",
   "execution_count": 8,
   "metadata": {
    "collapsed": false
   },
   "outputs": [],
   "source": [
    "cumul.compute_A()"
   ]
  },
  {
   "cell_type": "code",
   "execution_count": 9,
   "metadata": {
    "collapsed": true
   },
   "outputs": [],
   "source": [
    "cumul.compute_F()"
   ]
  },
  {
   "cell_type": "code",
   "execution_count": 10,
   "metadata": {
    "collapsed": true
   },
   "outputs": [],
   "source": [
    "cumul.set_C()"
   ]
  },
  {
   "cell_type": "code",
   "execution_count": 11,
   "metadata": {
    "collapsed": false
   },
   "outputs": [],
   "source": [
    "from scipy.linalg import inv\n",
    "R_truth = inv(np.eye(d)-Alpha_truth)\n",
    "cumul.set_C_th(R_truth)"
   ]
  },
  {
   "cell_type": "code",
   "execution_count": 12,
   "metadata": {
    "collapsed": true
   },
   "outputs": [],
   "source": [
    "cumul.set_K()"
   ]
  },
  {
   "cell_type": "code",
   "execution_count": 13,
   "metadata": {
    "collapsed": false
   },
   "outputs": [],
   "source": [
    "cumul.set_K_th(R_truth)"
   ]
  },
  {
   "cell_type": "markdown",
   "metadata": {},
   "source": [
    "# Second order"
   ]
  },
  {
   "cell_type": "code",
   "execution_count": 14,
   "metadata": {
    "collapsed": false
   },
   "outputs": [],
   "source": [
    "#C_from_claw = get_C_claw(estim)"
   ]
  },
  {
   "cell_type": "markdown",
   "metadata": {},
   "source": [
    "## Comparison\n",
    "\n",
    "I define $C_{theory} = R \\Sigma R^\\top$ with $R = (I_d - ||\\Phi||)^{-1}$"
   ]
  },
  {
   "cell_type": "code",
   "execution_count": 15,
   "metadata": {
    "collapsed": false
   },
   "outputs": [
    {
     "name": "stdout",
     "output_type": "stream",
     "text": [
      "0.591466323905\n"
     ]
    }
   ],
   "source": [
    "#print(rel_err(cumul.C_th,C_from_claw))\n",
    "print(rel_err(cumul.C_th,cumul.C))"
   ]
  },
  {
   "cell_type": "markdown",
   "metadata": {},
   "source": [
    "# Third order"
   ]
  },
  {
   "cell_type": "code",
   "execution_count": 16,
   "metadata": {
    "collapsed": true
   },
   "outputs": [],
   "source": [
    "hMax_ = hMax"
   ]
  },
  {
   "cell_type": "code",
   "execution_count": 17,
   "metadata": {
    "collapsed": true
   },
   "outputs": [],
   "source": [
    "cumul.compute_F(H=hMax_)\n",
    "cumul.set_K()"
   ]
  },
  {
   "cell_type": "code",
   "execution_count": 18,
   "metadata": {
    "collapsed": false
   },
   "outputs": [
    {
     "name": "stdout",
     "output_type": "stream",
     "text": [
      "0.190962950205\n"
     ]
    }
   ],
   "source": [
    "print(rel_err(cumul.K_th,cumul.K))"
   ]
  },
  {
   "cell_type": "markdown",
   "metadata": {},
   "source": [
    "## Estimation procedure for a smaller $hMax$"
   ]
  },
  {
   "cell_type": "code",
   "execution_count": 19,
   "metadata": {
    "collapsed": true
   },
   "outputs": [],
   "source": [
    "hMax_ = hMax*.4"
   ]
  },
  {
   "cell_type": "code",
   "execution_count": 20,
   "metadata": {
    "collapsed": true
   },
   "outputs": [],
   "source": [
    "cumul.compute_F(H=hMax_)\n",
    "cumul.set_K()"
   ]
  },
  {
   "cell_type": "code",
   "execution_count": 23,
   "metadata": {
    "collapsed": false
   },
   "outputs": [
    {
     "name": "stdout",
     "output_type": "stream",
     "text": [
      "0.25\n",
      "0.1942913463\n"
     ]
    }
   ],
   "source": [
    "print(rel_err(cumul.K_th,np.zeros_like(cumul.K_th)))\n",
    "print(rel_err(cumul.K_th,cumul.K))"
   ]
  },
  {
   "cell_type": "markdown",
   "metadata": {},
   "source": [
    "# Minimize MSE on third order integrated cumulant"
   ]
  },
  {
   "cell_type": "code",
   "execution_count": 24,
   "metadata": {
    "collapsed": true
   },
   "outputs": [],
   "source": [
    "objective = lambda R: np.linalg.norm(cumul.K - get_K_th(cumul.L,cumul.C,R))**2"
   ]
  },
  {
   "cell_type": "markdown",
   "metadata": {},
   "source": [
    "### L-BFGS doesn't work since the problem is non-convex"
   ]
  },
  {
   "cell_type": "code",
   "execution_count": 25,
   "metadata": {
    "collapsed": false
   },
   "outputs": [],
   "source": [
    "from scipy.optimize import fmin_l_bfgs_b\n",
    "res = fmin_l_bfgs_b(objective,np.random.rand(d**2),approx_grad=1)\n",
    "R_final = res[0].reshape(d,d)"
   ]
  },
  {
   "cell_type": "code",
   "execution_count": 26,
   "metadata": {
    "collapsed": false
   },
   "outputs": [
    {
     "name": "stdout",
     "output_type": "stream",
     "text": [
      "0.3\n",
      "0.539256213245\n"
     ]
    }
   ],
   "source": [
    "print(rel_err(R_truth,np.zeros((d,d))))\n",
    "print(rel_err(R_truth,R_final))"
   ]
  },
  {
   "cell_type": "markdown",
   "metadata": {},
   "source": [
    "### Let's try gradient descent like algorithms"
   ]
  },
  {
   "cell_type": "code",
   "execution_count": 27,
   "metadata": {
    "collapsed": true
   },
   "outputs": [],
   "source": [
    "@autojit\n",
    "def gradient_f_ijk(R_,L_,C_,K_hat,i,j,k):\n",
    "    d = len(L_)\n",
    "    grad = np.zeros((d,d))\n",
    "    grad[i] = R_[j]*C_[k] + R_[k]*C_[j] - 2*L_*R_[j]*R_[k]\n",
    "    grad[j] = R_[i]*C_[k] + R_[k]*C_[i] - 2*L_*R_[i]*R_[k]\n",
    "    grad[k] = R_[i]*C_[j] + R_[j]*C_[i] - 2*L_*R_[i]*R_[j]\n",
    "    k_ijk = np.sum(R_[i]*R_[j]*C_[k] + R_[i]*C_[j]*R_[k] + C_[i]*R_[j]*R_[k] - 2*L_*R_[i]*R_[j]*R_[k])\n",
    "    return (k_ijk - K_hat[i,j,k])*grad\n",
    "\n",
    "@autojit\n",
    "def gradient_f(R_,L_,C_,K_hat):\n",
    "    d = len(L_)\n",
    "    K_ = get_K_th(L_,C_,R_)\n",
    "    grad_lines = np.einsum('im,jm->ijm',R_,C_)\n",
    "    grad_lines += np.einsum('im,jm->ijm',C_,R_)\n",
    "    grad_lines -= 2*np.einsum('m,im,jm->ijm',L_,R_,R_)\n",
    "    diff_K = K_ - K_hat\n",
    "    res = np.einsum('ijk,ijm->km',diff_K,grad_lines)\n",
    "    res += np.einsum('ijk,ikm->jm',diff_K,grad_lines)\n",
    "    res += np.einsum('ijk,jkm->im',diff_K,grad_lines)\n",
    "    return res * 1./(d**3)"
   ]
  },
  {
   "cell_type": "markdown",
   "metadata": {},
   "source": [
    "## Gradient checking"
   ]
  },
  {
   "cell_type": "code",
   "execution_count": 28,
   "metadata": {
    "collapsed": true
   },
   "outputs": [],
   "source": [
    "def simple_obj(R):\n",
    "    K = get_K_th(cumul.L,cumul.C_th,R)\n",
    "    return .5*np.linalg.norm(K)**2/(d**3)\n",
    "\n",
    "def simple_grad(R_):\n",
    "    K = get_K_th(cumul.L,cumul.C_th,R_)\n",
    "    grad_lines = np.einsum('im,jm->ijm',R_,cumul.C_th)\n",
    "    grad_lines += np.einsum('im,jm->ijm',cumul.C_th,R_)\n",
    "    grad_lines -= 2*np.einsum('m,im,jm->ijm',cumul.L,R_,R_)\n",
    "    res = np.einsum('ijk,ijm->km',K,grad_lines)\n",
    "    res += np.einsum('ijk,ikm->jm',K,grad_lines)\n",
    "    res += np.einsum('ijk,jkm->im',K,grad_lines)\n",
    "    return res / (d**3)"
   ]
  },
  {
   "cell_type": "code",
   "execution_count": 29,
   "metadata": {
    "collapsed": false
   },
   "outputs": [
    {
     "data": {
      "text/plain": [
       "[<matplotlib.lines.Line2D at 0x10f720240>]"
      ]
     },
     "execution_count": 29,
     "metadata": {},
     "output_type": "execute_result"
    },
    {
     "data": {
      "image/png": "[encoded data removed]",
      "text/plain": [
       "<matplotlib.figure.Figure at 0x106b88d68>"
      ]
     },
     "metadata": {},
     "output_type": "display_data"
    }
   ],
   "source": [
    "R0 = np.random.rand(d**2).reshape(d,d)\n",
    "rand_mat = np.zeros((d,d))\n",
    "a,b = np.random.randint(d), np.random.randint(d)\n",
    "rand_mat[a,b] += 1.\n",
    "i,j,k = np.random.randint(d), np.random.randint(d), np.random.randint(d)\n",
    "erreur = []\n",
    "res2 = np.einsum('ij,ij',simple_grad(R0),rand_mat)\n",
    "for u in np.arange(0,-16,-1):\n",
    "    eps = 10 ** u\n",
    "    res1 = (simple_obj(R0+eps*rand_mat)-simple_obj(R0-eps*rand_mat))/(2*eps)\n",
    "    erreur.append(abs(res1-res2)/abs(res2))\n",
    "plt.plot(np.log(erreur))"
   ]
  },
  {
   "cell_type": "markdown",
   "metadata": {},
   "source": [
    "# Nesterov Accelerated Gradient"
   ]
  },
  {
   "cell_type": "markdown",
   "metadata": {},
   "source": [
    "### I've added regularization on $R$"
   ]
  },
  {
   "cell_type": "code",
   "execution_count": 30,
   "metadata": {
    "collapsed": true
   },
   "outputs": [],
   "source": [
    "def prox_zero(X, lbd=1.):\n",
    "    return X\n",
    "\n",
    "def prox_l1(X, lbd=1.):\n",
    "    X_abs = np.abs(X)\n",
    "    return np.sign(X) * (X_abs - lbd) * (X_abs > lbd)\n",
    "\n",
    "def prox_nuclear(X, lbd=1.):\n",
    "    U, s, V = np.linalg.svd(X)\n",
    "    s_thres = prox_l1(s, lbd=lbd)\n",
    "    return np.dot(U,np.dot(np.diag(s_thres),V))"
   ]
  },
  {
   "cell_type": "code",
   "execution_count": 36,
   "metadata": {
    "collapsed": false
   },
   "outputs": [],
   "source": [
    "eta = 1e2\n",
    "lbd_l1 = 1e-7\n",
    "lbd_nuc = 1e-6\n",
    "\n",
    "@autojit\n",
    "def loss_over_time(maxiter,R0,penalty='zero'):\n",
    "    R_old = R0.copy()\n",
    "    R = R0.copy()\n",
    "    Y = np.empty((d,d))\n",
    "    loss_arr = np.empty(maxiter)\n",
    "    rel_err_arr = np.empty(maxiter)\n",
    "    \n",
    "    if penalty == 'zero':\n",
    "        prox = prox_zero\n",
    "        lbd = 1.\n",
    "    elif penalty == 'l1':\n",
    "        prox = prox_l1\n",
    "        lbd = lbd_l1\n",
    "    elif penalty == 'nuclear':\n",
    "        prox = prox_nuclear\n",
    "        lbd = lbd_nuc\n",
    "        \n",
    "    for n in range(maxiter):\n",
    "        Y[:] = R + (n-2.)/(n+1.)*(R-R_old)\n",
    "        grad = gradient_f(Y,cumul.L,cumul.C_th,cumul.K)\n",
    "        #(i,j,k) = np.random.randint(d), np.random.randint(d), np.random.randint(d)\n",
    "        #grad = gradient_f_ijk(Y,cumul.L,cumul.C_th,cumul.K,i,j,k)\n",
    "        R_old[:] = R\n",
    "        R[:] = prox(Y - eta*grad,lbd)\n",
    "        loss_arr[n] = objective(R) + lbd_l1*np.sum(abs(R))\n",
    "        rel_err_arr[n] = rel_err(R_truth,R)\n",
    "        \n",
    "    return rel_err_arr, loss_arr, R"
   ]
  },
  {
   "cell_type": "code",
   "execution_count": 37,
   "metadata": {
    "collapsed": false
   },
   "outputs": [],
   "source": [
    "R0_ = np.arange(d**2).reshape(d,d)/(d**2)\n",
    "res = loss_over_time(5000,R0_,penalty='l1')\n",
    "rel_err_array = res[0]\n",
    "loss = res[1]\n",
    "R_final = res[2]"
   ]
  },
  {
   "cell_type": "code",
   "execution_count": 38,
   "metadata": {
    "collapsed": false
   },
   "outputs": [
    {
     "data": {
      "image/png": "[encoded data removed]",
      "text/plain": [
       "<matplotlib.figure.Figure at 0x10f89f320>"
      ]
     },
     "metadata": {},
     "output_type": "display_data"
    }
   ],
   "source": [
    "plt.plot(loss)\n",
    "plt.yscale('log')"
   ]
  },
  {
   "cell_type": "code",
   "execution_count": 39,
   "metadata": {
    "collapsed": false
   },
   "outputs": [
    {
     "data": {
      "text/plain": [
       "[<matplotlib.lines.Line2D at 0x10ee43dd8>]"
      ]
     },
     "execution_count": 39,
     "metadata": {},
     "output_type": "execute_result"
    },
    {
     "data": {
      "image/png": "[encoded data removed]",
      "text/plain": [
       "<matplotlib.figure.Figure at 0x10fb03080>"
      ]
     },
     "metadata": {},
     "output_type": "display_data"
    }
   ],
   "source": [
    "plt.plot(rel_err_array)\n",
    "#plt.yscale('log')"
   ]
  },
  {
   "cell_type": "code",
   "execution_count": 40,
   "metadata": {
    "collapsed": false
   },
   "outputs": [
    {
     "name": "stdout",
     "output_type": "stream",
     "text": [
      "0.3\n",
      "0.311949095973\n"
     ]
    }
   ],
   "source": [
    "print(rel_err(R_truth,np.zeros((d,d))))\n",
    "print(rel_err(R_truth,R_final))"
   ]
  },
  {
   "cell_type": "code",
   "execution_count": null,
   "metadata": {
    "collapsed": true
   },
   "outputs": [],
   "source": []
  },
  {
   "cell_type": "code",
   "execution_count": 42,
   "metadata": {
    "collapsed": false
   },
   "outputs": [],
   "source": [
    "from whma.optim import inspector, nag, gd"
   ]
  },
  {
   "cell_type": "code",
   "execution_count": 43,
   "metadata": {
    "collapsed": false
   },
   "outputs": [
    {
     "name": "stdout",
     "output_type": "stream",
     "text": [
      "   it    |   obj    | norm_grad\n",
      "       0 | 3.70e-02 | 6.66e-01\n",
      "      10 | 3.66e-02 | 6.65e-01\n",
      "      20 | 3.58e-02 | 6.63e-01\n",
      "      30 | 3.45e-02 | 6.60e-01\n",
      "      40 | 3.29e-02 | 6.55e-01\n"
     ]
    }
   ],
   "source": [
    "grad_fun = lambda X: gradient_f(X,cumul.L,cumul.C_th,cumul.K)\n",
    "nag_inspector = inspector(objective,R_truth,verbose=True,n_iter=50)\n",
    "R_nag = nag(R0_,grad_fun,n_iter=50,step=1e2,prox=prox_l1,lbd=lbd_l1,callback=nag_inspector)"
   ]
  },
  {
   "cell_type": "code",
   "execution_count": 46,
   "metadata": {
    "collapsed": false
   },
   "outputs": [
    {
     "data": {
      "text/plain": [
       "[<matplotlib.lines.Line2D at 0x10ede44e0>]"
      ]
     },
     "execution_count": 46,
     "metadata": {},
     "output_type": "execute_result"
    },
    {
     "data": {
      "image/png": "[encoded data removed]",
      "text/plain": [
       "<matplotlib.figure.Figure at 0x10f552748>"
      ]
     },
     "metadata": {},
     "output_type": "display_data"
    }
   ],
   "source": [
    "plt.plot(nag_inspector.obj)"
   ]
  },
  {
   "cell_type": "code",
   "execution_count": null,
   "metadata": {
    "collapsed": true
   },
   "outputs": [],
   "source": []
  },
  {
   "cell_type": "code",
   "execution_count": null,
   "metadata": {
    "collapsed": true
   },
   "outputs": [],
   "source": []
  },
  {
   "cell_type": "code",
   "execution_count": null,
   "metadata": {
    "collapsed": false
   },
   "outputs": [],
   "source": [
    "Alpha_pred = np.eye(d) - inv(R_final)\n",
    "\n",
    "plt.pcolor(Alpha_truth,cmap=plt.cm.Blues)\n",
    "plt.title(\"Alpha_truth\")\n",
    "plt.colorbar()\n",
    "plt.show()\n",
    "plt.close()"
   ]
  },
  {
   "cell_type": "code",
   "execution_count": null,
   "metadata": {
    "collapsed": false
   },
   "outputs": [],
   "source": [
    "print(rel_err(Alpha_truth,Alpha_pred))"
   ]
  },
  {
   "cell_type": "code",
   "execution_count": null,
   "metadata": {
    "collapsed": false
   },
   "outputs": [],
   "source": [
    "Alpha_pred[Alpha_pred <= 0.] = 0.\n",
    "\n",
    "plt.pcolor(Alpha_pred,cmap=plt.cm.Blues)\n",
    "plt.title(\"Alpha_pred\")\n",
    "plt.colorbar()\n",
    "plt.show()\n",
    "plt.close()"
   ]
  },
  {
   "cell_type": "code",
   "execution_count": null,
   "metadata": {
    "collapsed": false
   },
   "outputs": [],
   "source": [
    "print(rel_err(Alpha_truth,Alpha_pred))"
   ]
  },
  {
   "cell_type": "code",
   "execution_count": null,
   "metadata": {
    "collapsed": false
   },
   "outputs": [],
   "source": [
    "plt.pcolor(np.log(Beta),cmap=plt.cm.Reds)\n",
    "plt.title(\"Beta\")\n",
    "plt.colorbar()\n",
    "plt.show()\n",
    "plt.close()"
   ]
  },
  {
   "cell_type": "code",
   "execution_count": null,
   "metadata": {
    "collapsed": true
   },
   "outputs": [],
   "source": []
  }
 ],
 "metadata": {
  "kernelspec": {
   "display_name": "Python 3",
   "language": "python",
   "name": "python3"
  },
  "language_info": {
   "codemirror_mode": {
    "name": "ipython",
    "version": 3
   },
   "file_extension": ".py",
   "mimetype": "text/x-python",
   "name": "python",
   "nbconvert_exporter": "python",
   "pygments_lexer": "ipython3",
   "version": "3.4.3"
  }
 },
 "nbformat": 4,
 "nbformat_minor": 0
}
