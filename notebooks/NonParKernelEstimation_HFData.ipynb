{
 "cells": [
  {
   "cell_type": "code",
   "execution_count": 35,
   "metadata": {
    "collapsed": false
   },
   "outputs": [
    {
     "name": "stderr",
     "output_type": "stream",
     "text": [
      "/home/rambaldi/.conda/envs/py3/lib/python3.5/site-packages/matplotlib/__init__.py:1350: UserWarning:  This call to matplotlib.use() has no effect\n",
      "because the backend has already been chosen;\n",
      "matplotlib.use() must be called *before* pylab, matplotlib.pyplot,\n",
      "or matplotlib.backends is imported for the first time.\n",
      "\n",
      "  warnings.warn(_use_error_msg)\n"
     ]
    }
   ],
   "source": [
    "import pandas as pd\n",
    "import numpy as np\n",
    "#from nphc.main import NPHC\n",
    "#from nphc.utils.cumulants import Cumulants\n",
    "from scipy.linalg import sqrtm, inv, eigh\n",
    "from numpy import sqrt\n",
    "import matplotlib\n",
    "matplotlib.use('Agg')\n",
    "\n",
    "import mlpp.hawkesnoparam as hnp\n",
    "\n",
    "import seaborn as sns\n",
    "import matplotlib.pyplot as plt\n",
    "import tensorflow as tf\n",
    "\n",
    "%matplotlib inline"
   ]
  },
  {
   "cell_type": "code",
   "execution_count": 36,
   "metadata": {
    "collapsed": true
   },
   "outputs": [],
   "source": [
    "def GetComponents(df, vol_bins):\n",
    "    \"\"\" Given df representing one day of data, returns list of array representing \n",
    "        trades time for each volume component\"\"\"\n",
    "    \n",
    "    mask = lambda x,y: (df.OrderType==0).values * (np.abs(df.Volume.values)>x) * (np.abs(df.Volume.values)<=y)\n",
    "    \n",
    "    out = []\n",
    "    for ii in range(len(vol_bins)-1): \n",
    "        \n",
    "        out += [np.copy(df.loc[mask(vol_bins[ii], vol_bins[ii+1]), 'Time'].values)]\n",
    "        \n",
    "    return out\n"
   ]
  },
  {
   "cell_type": "markdown",
   "metadata": {},
   "source": [
    "## Data store"
   ]
  },
  {
   "cell_type": "code",
   "execution_count": 37,
   "metadata": {
    "collapsed": true
   },
   "outputs": [],
   "source": [
    "# data for Eurex futures are in this store\n",
    "store = pd.HDFStore('/data/data/QH/L1.h5', 'r')\n",
    "\n",
    "# each dataframe in the store represents one day\n",
    "# name of the assets are 'xFDAX' and 'xFGBL'\n",
    "# to access an asset on a particular day do\n",
    "# store.get['_ast_name/YYYYmmdd']\n",
    "\n"
   ]
  },
  {
   "cell_type": "code",
   "execution_count": 38,
   "metadata": {
    "collapsed": true
   },
   "outputs": [],
   "source": [
    "# to get one day\n",
    "df = store.get('xFGBL/20140922')"
   ]
  },
  {
   "cell_type": "markdown",
   "metadata": {},
   "source": [
    "## Non-parametric hawkes Bacry"
   ]
  },
  {
   "cell_type": "code",
   "execution_count": 39,
   "metadata": {
    "collapsed": true
   },
   "outputs": [],
   "source": [
    "# in the paper we examined trades and considered multilpe components based on volume\n",
    "# volume buckets:\n",
    "bins4D = (0,1,3,10, np.inf)\n",
    "bins6D = (0, 2, 3, 7, 20, np.inf)"
   ]
  },
  {
   "cell_type": "markdown",
   "metadata": {},
   "source": [
    "### Estim conditional law"
   ]
  },
  {
   "cell_type": "code",
   "execution_count": 40,
   "metadata": {
    "collapsed": false
   },
   "outputs": [],
   "source": [
    "# to do non par est we need to create estim object\n",
    "\n",
    "# estimation parameters \n",
    "est_par = dict(hMax=2000, # max lag\n",
    "               hMin=5e-4, # after hMin buckets are log-spaced\n",
    "               hDelta=0.01, # regulates number of bins\n",
    "               claw_method=\"log\", n_threads=-1)\n",
    "\n",
    "est = hnp.Estim(**est_par)\n",
    "\n",
    "# do estimation using one month of data\n",
    "\n",
    "asset = 'xFGBL'\n",
    "days = pd.bdate_range(start='20140401', end='20140501')\n",
    "\n",
    "# add realization and estimate claw\n",
    "# 4D case\n",
    "for d in days:\n",
    "    \n",
    "    try:\n",
    "        df = store.get('%s/%s' %(asset, d.strftime('%Y%m%d')))\n",
    "    except KeyError:\n",
    "        continue\n",
    "        \n",
    "    data = GetComponents(df, bins4D)\n",
    "    \n",
    "    est.add_realization(data)"
   ]
  },
  {
   "cell_type": "code",
   "execution_count": null,
   "metadata": {
    "collapsed": false
   },
   "outputs": [
    {
     "data": {
      "text/plain": [
       "[]"
      ]
     },
     "execution_count": 41,
     "metadata": {},
     "output_type": "execute_result"
    },
    {
     "data": {
      "image/png": "[encoded data removed]",
      "text/plain": [
       "<matplotlib.figure.Figure at 0x7f725bd33438>"
      ]
     },
     "metadata": {},
     "output_type": "display_data"
    }
   ],
   "source": [
    "# estimate conditional law values are in \n",
    "# est.claw (single index) or est.claw1[i][j]\n",
    "\n",
    "# the corresponding x-values are in \n",
    "# est.claw_X\n",
    "\n",
    "plt.plot(est.claw_X, est.claw1[0][0])\n",
    "plt.loglog()"
   ]
  },
  {
   "cell_type": "markdown",
   "metadata": {},
   "source": [
    "### Compute kernels"
   ]
  },
  {
   "cell_type": "code",
   "execution_count": null,
   "metadata": {
    "collapsed": false
   },
   "outputs": [],
   "source": [
    "# to compute the kernel do \n",
    "est.compute(n_quad=80, xmax=1, method='log', xmin=5e-4)\n"
   ]
  },
  {
   "cell_type": "code",
   "execution_count": null,
   "metadata": {
    "collapsed": false
   },
   "outputs": [],
   "source": [
    "# to access the kernels\n",
    "# phi_x, phi_y = est.phi[i][j] \n",
    "phi_x, phi_y = est.phi[0][0]\n",
    "\n",
    "plt.plot(phi_x, phi_y)\n",
    "plt.loglog()"
   ]
  },
  {
   "cell_type": "markdown",
   "metadata": {},
   "source": [
    "### Norms"
   ]
  },
  {
   "cell_type": "code",
   "execution_count": null,
   "metadata": {
    "collapsed": false
   },
   "outputs": [],
   "source": [
    "# norms are in \n",
    "# est.norm\n",
    "sns.heatmap(est.norm, cmap='Blues')"
   ]
  },
  {
   "cell_type": "code",
   "execution_count": null,
   "metadata": {
    "collapsed": true
   },
   "outputs": [],
   "source": []
  }
 ],
 "metadata": {
  "kernelspec": {
   "display_name": "Python 3",
   "language": "python",
   "name": "python3"
  },
  "language_info": {
   "codemirror_mode": {
    "name": "ipython",
    "version": 3
   },
   "file_extension": ".py",
   "mimetype": "text/x-python",
   "name": "python",
   "nbconvert_exporter": "python",
   "pygments_lexer": "ipython3",
   "version": "3.5.1"
  }
 },
 "nbformat": 4,
 "nbformat_minor": 0
}
