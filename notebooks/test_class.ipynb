{
 "cells": [
  {
   "cell_type": "code",
   "execution_count": 1,
   "metadata": {
    "collapsed": false
   },
   "outputs": [],
   "source": [
    "import numpy as np\n",
    "from whma.cumulants import SimpleHawkes, Cumulants"
   ]
  },
  {
   "cell_type": "code",
   "execution_count": 2,
   "metadata": {
    "collapsed": false
   },
   "outputs": [],
   "source": [
    "d = 10\n",
    "A = np.random.rand(3*d).reshape(3,d)\n",
    "A = np.sort(A,axis=1)"
   ]
  },
  {
   "cell_type": "code",
   "execution_count": 3,
   "metadata": {
    "collapsed": false
   },
   "outputs": [],
   "source": [
    "hk = SimpleHawkes(A)"
   ]
  },
  {
   "cell_type": "code",
   "execution_count": 4,
   "metadata": {
    "collapsed": false
   },
   "outputs": [
    {
     "data": {
      "text/plain": [
       "array([ 0.15841063,  0.1673677 ,  0.2033155 ,  0.22803368,  0.23523745,\n",
       "        0.56780892,  0.63488717,  0.65711012,  0.87603294,  0.93062937])"
      ]
     },
     "execution_count": 4,
     "metadata": {},
     "output_type": "execute_result"
    }
   ],
   "source": [
    "hk.N[2]"
   ]
  },
  {
   "cell_type": "code",
   "execution_count": 5,
   "metadata": {
    "collapsed": false
   },
   "outputs": [
    {
     "data": {
      "text/plain": [
       "array([[ 0.00837313,  0.15386949,  0.17639765,  0.17726621,  0.74462321,\n",
       "         0.75246742,  0.78829948,  0.82627139,  0.96188322,  0.98770974],\n",
       "       [ 0.03316958,  0.23860454,  0.30239126,  0.35006589,  0.35221201,\n",
       "         0.60525816,  0.67605676,  0.71284731,  0.74621992,  0.97226944],\n",
       "       [ 0.15841063,  0.1673677 ,  0.2033155 ,  0.22803368,  0.23523745,\n",
       "         0.56780892,  0.63488717,  0.65711012,  0.87603294,  0.93062937]])"
      ]
     },
     "execution_count": 5,
     "metadata": {},
     "output_type": "execute_result"
    }
   ],
   "source": [
    "hk.N"
   ]
  },
  {
   "cell_type": "code",
   "execution_count": 6,
   "metadata": {
    "collapsed": false
   },
   "outputs": [
    {
     "data": {
      "text/plain": [
       "array([ 0.09793366,  0.09390999,  0.07722187])"
      ]
     },
     "execution_count": 6,
     "metadata": {},
     "output_type": "execute_result"
    }
   ],
   "source": [
    "hk.L"
   ]
  },
  {
   "cell_type": "code",
   "execution_count": 13,
   "metadata": {
    "collapsed": false
   },
   "outputs": [],
   "source": [
    "cumul = Cumulants(A,hMax=.3)"
   ]
  },
  {
   "cell_type": "code",
   "execution_count": 14,
   "metadata": {
    "collapsed": false
   },
   "outputs": [
    {
     "data": {
      "text/plain": [
       "array([[ 0.00837313,  0.15386949,  0.17639765,  0.17726621,  0.74462321,\n",
       "         0.75246742,  0.78829948,  0.82627139,  0.96188322,  0.98770974],\n",
       "       [ 0.03316958,  0.23860454,  0.30239126,  0.35006589,  0.35221201,\n",
       "         0.60525816,  0.67605676,  0.71284731,  0.74621992,  0.97226944],\n",
       "       [ 0.15841063,  0.1673677 ,  0.2033155 ,  0.22803368,  0.23523745,\n",
       "         0.56780892,  0.63488717,  0.65711012,  0.87603294,  0.93062937]])"
      ]
     },
     "execution_count": 14,
     "metadata": {},
     "output_type": "execute_result"
    }
   ],
   "source": [
    "cumul.N"
   ]
  },
  {
   "cell_type": "code",
   "execution_count": 15,
   "metadata": {
    "collapsed": false
   },
   "outputs": [
    {
     "data": {
      "text/plain": [
       "array([ 0.09793366,  0.09390999,  0.07722187])"
      ]
     },
     "execution_count": 15,
     "metadata": {},
     "output_type": "execute_result"
    }
   ],
   "source": [
    "cumul.L"
   ]
  },
  {
   "cell_type": "code",
   "execution_count": 16,
   "metadata": {
    "collapsed": false
   },
   "outputs": [
    {
     "data": {
      "text/plain": [
       "array([[ 0.00837313,  0.15386949,  0.17639765,  0.17726621,  0.74462321,\n",
       "         0.75246742,  0.78829948,  0.82627139,  0.96188322,  0.98770974],\n",
       "       [ 0.03316958,  0.23860454,  0.30239126,  0.35006589,  0.35221201,\n",
       "         0.60525816,  0.67605676,  0.71284731,  0.74621992,  0.97226944],\n",
       "       [ 0.15841063,  0.1673677 ,  0.2033155 ,  0.22803368,  0.23523745,\n",
       "         0.56780892,  0.63488717,  0.65711012,  0.87603294,  0.93062937]])"
      ]
     },
     "execution_count": 16,
     "metadata": {},
     "output_type": "execute_result"
    }
   ],
   "source": [
    "cumul.N"
   ]
  },
  {
   "cell_type": "code",
   "execution_count": 17,
   "metadata": {
    "collapsed": false
   },
   "outputs": [
    {
     "data": {
      "text/plain": [
       "0.98770973892382585"
      ]
     },
     "execution_count": 17,
     "metadata": {},
     "output_type": "execute_result"
    }
   ],
   "source": [
    "cumul.time"
   ]
  },
  {
   "cell_type": "code",
   "execution_count": 18,
   "metadata": {
    "collapsed": false
   },
   "outputs": [],
   "source": [
    "cumul.set_C()"
   ]
  },
  {
   "cell_type": "code",
   "execution_count": 19,
   "metadata": {
    "collapsed": false
   },
   "outputs": [
    {
     "data": {
      "text/plain": [
       "array([[ 30.46547479,  75.92772117,  80.99091772],\n",
       "       [ 34.70681981,  43.96115682,  43.86818714],\n",
       "       [ 40.49319007,  75.92888819,  40.57137159]])"
      ]
     },
     "execution_count": 19,
     "metadata": {},
     "output_type": "execute_result"
    }
   ],
   "source": [
    "cumul.C"
   ]
  },
  {
   "cell_type": "code",
   "execution_count": 21,
   "metadata": {
    "collapsed": false
   },
   "outputs": [],
   "source": [
    "cumul.set_C_th(np.eye(3))"
   ]
  },
  {
   "cell_type": "code",
   "execution_count": 22,
   "metadata": {
    "collapsed": false
   },
   "outputs": [
    {
     "data": {
      "text/plain": [
       "array([[ 0.09793366,  0.        ,  0.        ],\n",
       "       [ 0.        ,  0.09390999,  0.        ],\n",
       "       [ 0.        ,  0.        ,  0.07722187]])"
      ]
     },
     "execution_count": 22,
     "metadata": {},
     "output_type": "execute_result"
    }
   ],
   "source": [
    "cumul.C_th"
   ]
  },
  {
   "cell_type": "code",
   "execution_count": null,
   "metadata": {
    "collapsed": false
   },
   "outputs": [],
   "source": [
    "isinstance(cumul,SimpleHawkes)"
   ]
  },
  {
   "cell_type": "code",
   "execution_count": null,
   "metadata": {
    "collapsed": true
   },
   "outputs": [],
   "source": []
  }
 ],
 "metadata": {
  "kernelspec": {
   "display_name": "Python 3",
   "language": "python",
   "name": "python3"
  },
  "language_info": {
   "codemirror_mode": {
    "name": "ipython",
    "version": 3
   },
   "file_extension": ".py",
   "mimetype": "text/x-python",
   "name": "python",
   "nbconvert_exporter": "python",
   "pygments_lexer": "ipython3",
   "version": "3.4.3"
  }
 },
 "nbformat": 4,
 "nbformat_minor": 0
}
