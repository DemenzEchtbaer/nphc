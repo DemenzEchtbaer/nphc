{
 "cells": [
  {
   "cell_type": "code",
   "execution_count": 13,
   "metadata": {
    "collapsed": false
   },
   "outputs": [],
   "source": [
    "import numpy as np\n",
    "import scipy\n",
    "import matplotlib.pyplot as plt\n",
    "%matplotlib inline\n",
    "from pylab import rcParams\n",
    "import mlpp.pp.hawkes as hk\n",
    "from whma.metrics import rel_err, rank_corr, mse_K_part\n",
    "from whma.cumulants import Cumulants\n",
    "from whma.optim import gradient_g\n",
    "from numba import autojit"
   ]
  },
  {
   "cell_type": "code",
   "execution_count": 2,
   "metadata": {
    "collapsed": false
   },
   "outputs": [],
   "source": [
    "d = 10\n",
    "mus = 0.0005 * np.ones(d)\n",
    "Alpha_true = np.zeros((d,d))\n",
    "Beta = np.zeros((d,d))\n",
    "for i in range(5):\n",
    "    for j in range(5):\n",
    "        if i <= j:\n",
    "            Alpha_true[i][j] = 1.\n",
    "            Beta[i][j] = 50.\n",
    "for i in range(5,10):\n",
    "    for j in range(5,10):\n",
    "        if i >= j:\n",
    "            Alpha_true[i][j] = 1.\n",
    "            Beta[i][j] = 1.\n",
    "Alpha_true /= 6"
   ]
  },
  {
   "cell_type": "code",
   "execution_count": 3,
   "metadata": {
    "collapsed": false
   },
   "outputs": [
    {
     "name": "stdout",
     "output_type": "stream",
     "text": [
      "0.585556181944\n"
     ]
    }
   ],
   "source": [
    "_, s, _ = np.linalg.svd(Alpha_true)\n",
    "print(s.max())\n",
    "assert s.max() < 1, \"Alpha_true cannot generate a stable Hawkes process\""
   ]
  },
  {
   "cell_type": "markdown",
   "metadata": {},
   "source": [
    "### Trick for exp kernel to assess $\\beta_\\min$ \n",
    "\n",
    "* We want: $$\\exp(-\\beta H) = \\frac{1}{1000} \\mbox{ for all }\\beta \\ge \\beta_\\min$$"
   ]
  },
  {
   "cell_type": "code",
   "execution_count": 4,
   "metadata": {
    "collapsed": false
   },
   "outputs": [
    {
     "name": "stdout",
     "output_type": "stream",
     "text": [
      "We have\n",
      "    beta_min =  0.17269388197455343\n"
     ]
    }
   ],
   "source": [
    "hMax = 40\n",
    "hDelta = .01\n",
    "from math import log\n",
    "# the criteria for beta_min and beta_max are designed for the exponential case\n",
    "beta_min = log(1000) / hMax\n",
    "print(\"We have\")\n",
    "print(\"    beta_min = \",beta_min)"
   ]
  },
  {
   "cell_type": "code",
   "execution_count": 5,
   "metadata": {
    "collapsed": false
   },
   "outputs": [],
   "source": [
    "kernels = [[hk.HawkesKernelExp(a, b) for (a, b) in zip(a_list, b_list)] for (a_list, b_list) in zip(Alpha_true, Beta)]\n",
    "h = hk.Hawkes(kernels=kernels, mus=list(mus))\n",
    "T_max = 100000000\n",
    "h.simulate(T_max)"
   ]
  },
  {
   "cell_type": "markdown",
   "metadata": {},
   "source": [
    "# Use the class Cumulants"
   ]
  },
  {
   "cell_type": "code",
   "execution_count": 6,
   "metadata": {
    "collapsed": true
   },
   "outputs": [],
   "source": [
    "N = h.get_full_process()\n",
    "cumul = Cumulants(N,hMax=16)\n",
    "cumul.compute_all_part()"
   ]
  },
  {
   "cell_type": "code",
   "execution_count": 7,
   "metadata": {
    "collapsed": false
   },
   "outputs": [],
   "source": [
    "from scipy.linalg import inv\n",
    "R_true = inv(np.eye(d)-Alpha_true)"
   ]
  },
  {
   "cell_type": "markdown",
   "metadata": {},
   "source": [
    "# Minimize MSE on full third order integrated cumulant"
   ]
  },
  {
   "cell_type": "code",
   "execution_count": 8,
   "metadata": {
    "collapsed": true
   },
   "outputs": [],
   "source": [
    "objective = lambda R: mse_K_part(cumul,R)"
   ]
  },
  {
   "cell_type": "markdown",
   "metadata": {},
   "source": [
    "### L-BFGS doesn't work since the problem is non-convex"
   ]
  },
  {
   "cell_type": "code",
   "execution_count": 9,
   "metadata": {
    "collapsed": false
   },
   "outputs": [],
   "source": [
    "from scipy.optimize import fmin_l_bfgs_b\n",
    "res = fmin_l_bfgs_b(objective,np.random.rand(d**2),approx_grad=1)\n",
    "R_lbfgs = res[0].reshape(d,d)"
   ]
  },
  {
   "cell_type": "code",
   "execution_count": 10,
   "metadata": {
    "collapsed": false
   },
   "outputs": [
    {
     "name": "stdout",
     "output_type": "stream",
     "text": [
      "0.3\n",
      "0.59860545263\n"
     ]
    }
   ],
   "source": [
    "print(rel_err(R_true,np.zeros((d,d))))\n",
    "print(rel_err(R_true,R_lbfgs))"
   ]
  },
  {
   "cell_type": "markdown",
   "metadata": {},
   "source": [
    "# Nesterov Accelerated Gradient"
   ]
  },
  {
   "cell_type": "markdown",
   "metadata": {},
   "source": [
    "### I've added regularization on $R$: $\\ell_1$-norm to find a sparse $||\\Phi||$"
   ]
  },
  {
   "cell_type": "code",
   "execution_count": 45,
   "metadata": {
    "collapsed": true
   },
   "outputs": [],
   "source": [
    "from whma.prox import prox_nuclear, prox_l1\n",
    "eta = 1e5\n",
    "lbd_l1 = 1e-6\n",
    "lbd_nuc = 1e-6\n",
    "n_iter = 3500"
   ]
  },
  {
   "cell_type": "code",
   "execution_count": 46,
   "metadata": {
    "collapsed": false
   },
   "outputs": [],
   "source": [
    "#R0_ = np.arange(d**2).reshape(d,d)/(d**2)\n",
    "R0_ = np.ones((d,d))\n",
    "\n",
    "from whma.optim import inspector, nag, gd\n",
    "nag_inspector = inspector(objective,R_true,n_iter=n_iter)\n",
    "grad_fun = lambda X: gradient_g(cumul,X)\n",
    "R_nag = nag(R0_,grad_fun,n_iter=n_iter,step=eta,prox=prox_l1,lbd=lbd_l1,callback=nag_inspector)"
   ]
  },
  {
   "cell_type": "markdown",
   "metadata": {},
   "source": [
    "### Plot objective over time"
   ]
  },
  {
   "cell_type": "code",
   "execution_count": 47,
   "metadata": {
    "collapsed": false
   },
   "outputs": [
    {
     "data": {
      "image/png": "[encoded data removed]",
      "text/plain": [
       "<matplotlib.figure.Figure at 0x10b82c080>"
      ]
     },
     "metadata": {},
     "output_type": "display_data"
    }
   ],
   "source": [
    "plt.plot(nag_inspector.obj)\n",
    "plt.yscale('log')"
   ]
  },
  {
   "cell_type": "markdown",
   "metadata": {},
   "source": [
    "### Plot relative error over time"
   ]
  },
  {
   "cell_type": "code",
   "execution_count": 48,
   "metadata": {
    "collapsed": false
   },
   "outputs": [
    {
     "data": {
      "text/plain": [
       "[<matplotlib.lines.Line2D at 0x10c59def0>]"
      ]
     },
     "execution_count": 48,
     "metadata": {},
     "output_type": "execute_result"
    },
    {
     "data": {
      "image/png": "[encoded data removed]",
      "text/plain": [
       "<matplotlib.figure.Figure at 0x10cb1e438>"
      ]
     },
     "metadata": {},
     "output_type": "display_data"
    }
   ],
   "source": [
    "plt.plot(nag_inspector.err)"
   ]
  },
  {
   "cell_type": "code",
   "execution_count": 49,
   "metadata": {
    "collapsed": false
   },
   "outputs": [
    {
     "name": "stdout",
     "output_type": "stream",
     "text": [
      "0.3\n",
      "0.0604996290431\n"
     ]
    }
   ],
   "source": [
    "print(rel_err(R_true,np.zeros((d,d))))\n",
    "print(rel_err(R_true,R_nag))"
   ]
  },
  {
   "cell_type": "markdown",
   "metadata": {
    "collapsed": true
   },
   "source": [
    "# Heatmaps"
   ]
  },
  {
   "cell_type": "code",
   "execution_count": 50,
   "metadata": {
    "collapsed": false
   },
   "outputs": [
    {
     "name": "stderr",
     "output_type": "stream",
     "text": [
      "/Users/massil/anaconda/envs/py3k/lib/python3.4/site-packages/matplotlib/collections.py:590: FutureWarning: elementwise comparison failed; returning scalar instead, but in the future will perform elementwise comparison\n",
      "  if self._edgecolors == str('face'):\n"
     ]
    },
    {
     "data": {
      "image/png": "[encoded data removed]",
      "text/plain": [
       "<matplotlib.figure.Figure at 0x10b8815c0>"
      ]
     },
     "metadata": {},
     "output_type": "display_data"
    }
   ],
   "source": [
    "Alpha_pred = np.eye(d) - inv(R_nag)\n",
    "\n",
    "plt.pcolor(Alpha_true,cmap=plt.cm.Blues)\n",
    "plt.title(\"Alpha_true\")\n",
    "plt.colorbar()\n",
    "plt.show()\n",
    "plt.close()"
   ]
  },
  {
   "cell_type": "code",
   "execution_count": 51,
   "metadata": {
    "collapsed": false
   },
   "outputs": [
    {
     "name": "stdout",
     "output_type": "stream",
     "text": [
      "0.0643239685074\n",
      "0.536106220955\n"
     ]
    },
    {
     "name": "stderr",
     "output_type": "stream",
     "text": [
      "/Users/massil/anaconda/envs/py3k/lib/python3.4/site-packages/matplotlib/collections.py:590: FutureWarning: elementwise comparison failed; returning scalar instead, but in the future will perform elementwise comparison\n",
      "  if self._edgecolors == str('face'):\n"
     ]
    },
    {
     "data": {
      "image/png": "[encoded data removed]",
      "text/plain": [
       "<matplotlib.figure.Figure at 0x10b85c630>"
      ]
     },
     "metadata": {},
     "output_type": "display_data"
    }
   ],
   "source": [
    "print(rel_err(Alpha_true,Alpha_pred))\n",
    "_, s, _ = np.linalg.svd(Alpha_pred)\n",
    "print(s.max())\n",
    "\n",
    "#Alpha_pred[Alpha_pred <= 0.] = 0.\n",
    "\n",
    "plt.pcolor(Alpha_pred,cmap=plt.cm.Blues)\n",
    "plt.title(\"Alpha_pred\")\n",
    "plt.colorbar()\n",
    "plt.show()\n",
    "plt.close()"
   ]
  },
  {
   "cell_type": "code",
   "execution_count": 52,
   "metadata": {
    "collapsed": false
   },
   "outputs": [
    {
     "name": "stdout",
     "output_type": "stream",
     "text": [
      "0.0643239685074\n"
     ]
    }
   ],
   "source": [
    "print(rel_err(Alpha_true,Alpha_pred))"
   ]
  },
  {
   "cell_type": "code",
   "execution_count": 53,
   "metadata": {
    "collapsed": false
   },
   "outputs": [
    {
     "name": "stderr",
     "output_type": "stream",
     "text": [
      "/Users/massil/anaconda/envs/py3k/lib/python3.4/site-packages/IPython/kernel/__main__.py:1: RuntimeWarning: divide by zero encountered in log\n",
      "  if __name__ == '__main__':\n",
      "/Users/massil/anaconda/envs/py3k/lib/python3.4/site-packages/matplotlib/collections.py:590: FutureWarning: elementwise comparison failed; returning scalar instead, but in the future will perform elementwise comparison\n",
      "  if self._edgecolors == str('face'):\n"
     ]
    },
    {
     "data": {
      "image/png": "[encoded data removed]",
      "text/plain": [
       "<matplotlib.figure.Figure at 0x10da21f60>"
      ]
     },
     "metadata": {},
     "output_type": "display_data"
    }
   ],
   "source": [
    "plt.pcolor(np.log(Beta),cmap=plt.cm.Reds)\n",
    "plt.title(\"Beta\")\n",
    "plt.colorbar()\n",
    "plt.show()\n",
    "plt.close()"
   ]
  },
  {
   "cell_type": "code",
   "execution_count": null,
   "metadata": {
    "collapsed": true
   },
   "outputs": [],
   "source": []
  }
 ],
 "metadata": {
  "kernelspec": {
   "display_name": "Python 3",
   "language": "python",
   "name": "python3"
  },
  "language_info": {
   "codemirror_mode": {
    "name": "ipython",
    "version": 3
   },
   "file_extension": ".py",
   "mimetype": "text/x-python",
   "name": "python",
   "nbconvert_exporter": "python",
   "pygments_lexer": "ipython3",
   "version": "3.4.3"
  }
 },
 "nbformat": 4,
 "nbformat_minor": 0
}
