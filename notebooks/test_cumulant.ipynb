{
 "cells": [
  {
   "cell_type": "code",
   "execution_count": 1292,
   "metadata": {
    "collapsed": true
   },
   "outputs": [],
   "source": [
    "import numpy as np\n",
    "import scipy\n",
    "import matplotlib.pyplot as plt\n",
    "%matplotlib inline\n",
    "from pylab import rcParams\n",
    "from mlpp.hawkesnoparam.estim import Estim\n",
    "import mlpp.pp.hawkes as hk\n",
    "from whma.metrics import rel_err, rank_corr, mse_K_partial\n",
    "from whma.cumulants import get_C_claw\n",
    "from numba import autojit"
   ]
  },
  {
   "cell_type": "code",
   "execution_count": 1293,
   "metadata": {
    "collapsed": false
   },
   "outputs": [],
   "source": [
    "d = 10\n",
    "mus = 0.0005 * np.ones(d)\n",
    "Alpha_truth = np.zeros((d,d))\n",
    "Beta = np.zeros((d,d))\n",
    "#Alpha_truth = np.ones((d,d)) / 15\n",
    "for i in range(5):\n",
    "    for j in range(5):\n",
    "        if i <= j:\n",
    "            Alpha_truth[i][j] = 1.\n",
    "            Beta[i][j] = 50.\n",
    "for i in range(5,10):\n",
    "    for j in range(5,10):\n",
    "        if i >= j:\n",
    "            Alpha_truth[i][j] = 1.\n",
    "            Beta[i][j] = 1.\n",
    "Alpha_truth /= 6\n",
    "#Alpha_truth = np.ones((d,d)) / 15"
   ]
  },
  {
   "cell_type": "code",
   "execution_count": 1294,
   "metadata": {
    "collapsed": false
   },
   "outputs": [
    {
     "name": "stdout",
     "output_type": "stream",
     "text": [
      "0.585556181944\n"
     ]
    }
   ],
   "source": [
    "_, s, _ = np.linalg.svd(Alpha_truth)\n",
    "print(s.max())\n",
    "assert s.max() < 1, \"Alpha_truth cannot generate a stable Hawkes process\""
   ]
  },
  {
   "cell_type": "code",
   "execution_count": 1295,
   "metadata": {
    "collapsed": false
   },
   "outputs": [
    {
     "name": "stdout",
     "output_type": "stream",
     "text": [
      "We have\n",
      "    beta_min =  0.17269388197455343\n",
      "    beta_max =  105.36051565782634\n"
     ]
    }
   ],
   "source": [
    "hMax = 40\n",
    "hDelta = .001\n",
    "from math import log\n",
    "# the criteria for beta_min and beta_max are designed for the exponential case\n",
    "beta_min = log(1000) / hMax\n",
    "beta_max = log(10./9.) / hDelta\n",
    "print(\"We have\")\n",
    "print(\"    beta_min = \",beta_min)\n",
    "print(\"    beta_max = \",beta_max)"
   ]
  },
  {
   "cell_type": "code",
   "execution_count": 1296,
   "metadata": {
    "collapsed": false
   },
   "outputs": [],
   "source": [
    "kernels = [[hk.HawkesKernelExp(a, b) for (a, b) in zip(a_list, b_list)] for (a_list, b_list) in zip(Alpha_truth, Beta)]\n",
    "h = hk.Hawkes(kernels=kernels, mus=list(mus))\n",
    "T_max = 100000000\n",
    "h.simulate(T_max)\n",
    "estim = Estim(h, n_threads=8, hDelta=hDelta, hMax=hMax)"
   ]
  },
  {
   "cell_type": "markdown",
   "metadata": {},
   "source": [
    "# Second order"
   ]
  },
  {
   "cell_type": "code",
   "execution_count": 1297,
   "metadata": {
    "collapsed": true
   },
   "outputs": [],
   "source": [
    "L = np.array(estim.lam)\n",
    "C_from_claw = get_C_claw(estim)"
   ]
  },
  {
   "cell_type": "code",
   "execution_count": 1298,
   "metadata": {
    "collapsed": true
   },
   "outputs": [],
   "source": [
    "@autojit\n",
    "def A_ij(hk,i,j,H):\n",
    "    res = 0\n",
    "    u = 0\n",
    "    count = 0\n",
    "    T_ = hk.time\n",
    "    Z_i = hk.get_full_process()[i]\n",
    "    Z_j = hk.get_full_process()[j]\n",
    "    n_i = len(Z_i)\n",
    "    n_j = len(Z_j)\n",
    "    if H >= 0:\n",
    "        for tau in Z_i:\n",
    "            while u < n_j and Z_j[u] < tau:\n",
    "                u += 1\n",
    "            v = u\n",
    "            while v < n_j and Z_j[v] < tau + H:\n",
    "                v += 1\n",
    "            if v < n_j: \n",
    "                count += 1\n",
    "                res += v-u\n",
    "    else:\n",
    "        for tau in Z_i:\n",
    "            while u < n_j and Z_j[u] <= tau:\n",
    "                u += 1\n",
    "            v = u\n",
    "            while v >= 0 and Z_j[v] > tau + H:\n",
    "                v -= 1\n",
    "            if v >= 0:\n",
    "                count += 1\n",
    "                res += u-1-v\n",
    "    res -= (i==j)*count\n",
    "    if count < n_i:\n",
    "        res *= n_i * 1. / count\n",
    "    res /= T_\n",
    "    return res"
   ]
  },
  {
   "cell_type": "code",
   "execution_count": 1299,
   "metadata": {
    "collapsed": true
   },
   "outputs": [],
   "source": [
    "A = np.zeros((d,d))\n",
    "B = np.zeros((d,d))\n",
    "for i in range(d):\n",
    "    for j in range(d):\n",
    "        A[i,j] = A_ij(h,i,j,hMax)\n",
    "        B[i,j] = A_ij(h,i,j,-hMax)\n",
    "# choosing A or B in the following line give similar results\n",
    "second_cumul = 2*(A - np.einsum('i,j->ij',L,L)*hMax) + np.diag(L)"
   ]
  },
  {
   "cell_type": "markdown",
   "metadata": {},
   "source": [
    "## Comparison\n",
    "\n",
    "I define $C_{theory} = R \\Sigma R^\\top$ with $R = (I_d - ||\\Phi||)^{-1}$"
   ]
  },
  {
   "cell_type": "code",
   "execution_count": 1300,
   "metadata": {
    "collapsed": false
   },
   "outputs": [
    {
     "name": "stdout",
     "output_type": "stream",
     "text": [
      "0.00582473835071\n",
      "0.296526317725\n"
     ]
    }
   ],
   "source": [
    "from scipy.linalg import inv\n",
    "R_truth = inv(np.eye(d)-Alpha_truth)\n",
    "C_theory = np.dot(R_truth,np.dot(np.diag(estim.lam),R_truth.T))\n",
    "print(rel_err(C_theory,C_from_claw))\n",
    "print(rel_err(C_theory,second_cumul))"
   ]
  },
  {
   "cell_type": "markdown",
   "metadata": {},
   "source": [
    "# Third order"
   ]
  },
  {
   "cell_type": "code",
   "execution_count": 1301,
   "metadata": {
    "collapsed": true
   },
   "outputs": [],
   "source": [
    "@autojit\n",
    "def get_K(L_,C_,R_):\n",
    "    d = len(L_)\n",
    "    R_ = R_.reshape(d,d)\n",
    "    K = np.zeros((d,d,d))\n",
    "    K += np.einsum('im,jm,km->ijk',R_,R_,C_)\n",
    "    K += np.einsum('im,jm,km->ijk',R_,C_,R_)\n",
    "    K += np.einsum('im,jm,km->ijk',C_,R_,R_)\n",
    "    K -= 2*np.einsum('m,im,jm,km->ijk',L_,R_,R_,R_)\n",
    "    return K"
   ]
  },
  {
   "cell_type": "code",
   "execution_count": 1302,
   "metadata": {
    "collapsed": false
   },
   "outputs": [],
   "source": [
    "K_theory = get_K(L,C_theory,R_truth)"
   ]
  },
  {
   "cell_type": "code",
   "execution_count": 1303,
   "metadata": {
    "collapsed": false
   },
   "outputs": [],
   "source": [
    "@autojit\n",
    "def B_ijk(hk,i,j,k,H):\n",
    "    res = 0\n",
    "    u = 0\n",
    "    x = 0\n",
    "    count = 0\n",
    "    T_ = hk.time\n",
    "    H_ = abs(H)\n",
    "    Z_i = hk.get_full_process()[i]\n",
    "    Z_j = hk.get_full_process()[j]\n",
    "    Z_k = hk.get_full_process()[k]\n",
    "    n_i = len(Z_i)\n",
    "    n_j = len(Z_j)\n",
    "    n_k = len(Z_k)\n",
    "    for tau in Z_k:\n",
    "        # work on Z_i\n",
    "        while u < n_i and Z_i[u] <= tau:\n",
    "            u += 1\n",
    "        v = u\n",
    "        while v >= 0 and Z_i[v] > tau - H_:\n",
    "            v -= 1\n",
    "        # work on Z_j\n",
    "        while x < n_j and Z_j[x] <= tau:\n",
    "            x += 1\n",
    "        y = x\n",
    "        while y >= 0 and Z_j[y] > tau - H_:\n",
    "            y -= 1\n",
    "        # check if this step is admissible\n",
    "        if y >= 0 and v >= 0:\n",
    "            count += 1\n",
    "            res += (u-1-v-(i==k))*(x-1-y-(j==k))\n",
    "    if count < n_k:\n",
    "        res *= n_k * 1. / count\n",
    "    res /= T_\n",
    "    return res\n",
    "\n",
    "@autojit\n",
    "def moment3_ijk(hk,i,j,k,A_,F_,L,H):\n",
    "    res = 0\n",
    "    res += (i==j)*(i==k)*L[i]\n",
    "    res += F_[i,j,k] - (i==j)*A_[k,i]\n",
    "    res += F_[j,k,i] - (k==j)*A_[i,j]\n",
    "    res += F_[k,i,j] - (i==k)*A_[j,k]\n",
    "    res += (i==j)*(A_[k,i]+A_[i,k])\n",
    "    res += (i==k)*(A_[j,i]+A_[i,j])\n",
    "    res += (k==j)*(A_[k,i]+A_[i,k])\n",
    "    return res"
   ]
  },
  {
   "cell_type": "code",
   "execution_count": 1304,
   "metadata": {
    "collapsed": true
   },
   "outputs": [],
   "source": [
    "hMax_ = hMax"
   ]
  },
  {
   "cell_type": "code",
   "execution_count": 1305,
   "metadata": {
    "collapsed": true
   },
   "outputs": [],
   "source": [
    "F = np.zeros((d,d,d))\n",
    "for i in range(d):\n",
    "    for j in range(d):\n",
    "        for k in range(d):\n",
    "            F[i,j,k] = B_ijk(h,i,j,k,hMax_)\n",
    "\n",
    "K_emp = np.zeros((d,d,d))\n",
    "for i in range(d):\n",
    "    for j in range(d):\n",
    "        for k in range(d):\n",
    "            K_emp[i,j,k] = moment3_ijk(h,i,j,k,B,F,L,hMax_)\n",
    "\n",
    "# the following lines correspond to the equations (10)-(13)\n",
    "K_emp -= 4*np.einsum('i,j,k->ijk',L,L,L)*hMax_**2\n",
    "K_emp -= 2*np.einsum('i,jk->ijk',L,second_cumul)*hMax_\n",
    "K_emp -= 2*np.einsum('j,ik->ijk',L,second_cumul)*hMax_\n",
    "K_emp -= 2*np.einsum('k,ij->ijk',L,second_cumul)*hMax_"
   ]
  },
  {
   "cell_type": "code",
   "execution_count": 1306,
   "metadata": {
    "collapsed": false
   },
   "outputs": [
    {
     "name": "stdout",
     "output_type": "stream",
     "text": [
      "0.0202333213496\n"
     ]
    }
   ],
   "source": [
    "print(rel_err(K_theory,K_emp))"
   ]
  },
  {
   "cell_type": "markdown",
   "metadata": {},
   "source": [
    "## Estimation procedure for a smaller $hMax$"
   ]
  },
  {
   "cell_type": "code",
   "execution_count": 1307,
   "metadata": {
    "collapsed": true
   },
   "outputs": [],
   "source": [
    "hMax_ = hMax*.4"
   ]
  },
  {
   "cell_type": "code",
   "execution_count": 1308,
   "metadata": {
    "collapsed": false
   },
   "outputs": [],
   "source": [
    "F = np.zeros((d,d,d))\n",
    "for i in range(d):\n",
    "    for j in range(d):\n",
    "        for k in range(d):\n",
    "            F[i,j,k] = B_ijk(h,i,j,k,hMax_)\n",
    "\n",
    "K_emp = np.zeros((d,d,d))\n",
    "for i in range(d):\n",
    "    for j in range(d):\n",
    "        for k in range(d):\n",
    "            K_emp[i,j,k] = moment3_ijk(h,i,j,k,B,F,L,hMax_)\n",
    "\n",
    "# the following lines correspond to the equations (10)-(13)\n",
    "K_emp -= 4*np.einsum('i,j,k->ijk',L,L,L)*hMax_**2\n",
    "K_emp -= 2*np.einsum('i,jk->ijk',L,second_cumul)*hMax_\n",
    "K_emp -= 2*np.einsum('j,ik->ijk',L,second_cumul)*hMax_\n",
    "K_emp -= 2*np.einsum('k,ij->ijk',L,second_cumul)*hMax_"
   ]
  },
  {
   "cell_type": "code",
   "execution_count": 1654,
   "metadata": {
    "collapsed": false
   },
   "outputs": [
    {
     "name": "stdout",
     "output_type": "stream",
     "text": [
      "0.0104385377393\n"
     ]
    }
   ],
   "source": [
    "print(rel_err(K_theory,K_emp))"
   ]
  },
  {
   "cell_type": "markdown",
   "metadata": {},
   "source": [
    "# Minimize MSE on third order integrated cumulant"
   ]
  },
  {
   "cell_type": "code",
   "execution_count": 1310,
   "metadata": {
    "collapsed": true
   },
   "outputs": [],
   "source": [
    "objective = lambda R: np.linalg.norm(K_emp - get_K(L,C_theory,R))**2 / (2.*d**3)\n",
    "#objective = lambda R: np.linalg.norm(K_emp - get_K(L,second_cumul,R))**2"
   ]
  },
  {
   "cell_type": "code",
   "execution_count": 1311,
   "metadata": {
    "collapsed": false
   },
   "outputs": [],
   "source": [
    "from scipy.optimize import fmin_l_bfgs_b\n",
    "res = fmin_l_bfgs_b(objective,np.random.rand(d**2),approx_grad=1)\n",
    "R_final = res[0].reshape(d,d)"
   ]
  },
  {
   "cell_type": "code",
   "execution_count": 1312,
   "metadata": {
    "collapsed": false
   },
   "outputs": [
    {
     "name": "stdout",
     "output_type": "stream",
     "text": [
      "0.3\n",
      "0.651295614988\n"
     ]
    }
   ],
   "source": [
    "print(rel_err(R_truth,np.zeros((d,d))))\n",
    "print(rel_err(R_truth,R_final))"
   ]
  },
  {
   "cell_type": "code",
   "execution_count": 1313,
   "metadata": {
    "collapsed": true
   },
   "outputs": [],
   "source": [
    "@autojit\n",
    "def gradient_f_ijk(R_,L_,C_,K_hat,i,j,k):\n",
    "    d = len(L_)\n",
    "    grad = np.zeros((d,d))\n",
    "    grad[i] = R_[j]*C_[k] + R_[k]*C_[j] - 2*L_*R_[j]*R_[k]\n",
    "    grad[j] = R_[i]*C_[k] + R_[k]*C_[i] - 2*L_*R_[i]*R_[k]\n",
    "    grad[k] = R_[i]*C_[j] + R_[j]*C_[i] - 2*L_*R_[i]*R_[j]\n",
    "    k_ijk = np.sum(R_[i]*R_[j]*C_[k] + R_[i]*C_[j]*R_[k] + C_[i]*R_[j]*R_[k] - 2*L_*R_[i]*R_[j]*R_[k])\n",
    "    return (k_ijk - K_hat[i,j,k])*grad\n",
    "\n",
    "@autojit\n",
    "def gradient_f(R_,L_,C_,K_hat):\n",
    "    d = len(L_)\n",
    "    K_ = get_K(L_,C_,R_)\n",
    "    grad_lines = np.einsum('im,jm->ijm',R_,C_)\n",
    "    grad_lines += np.einsum('im,jm->ijm',C_,R_)\n",
    "    grad_lines -= 2*np.einsum('m,im,jm->ijm',L_,R_,R_)\n",
    "    diff_K = K_ - K_hat\n",
    "    res = np.einsum('ijk,ijm->km',diff_K,grad_lines)\n",
    "    res += np.einsum('ijk,ikm->jm',diff_K,grad_lines)\n",
    "    res += np.einsum('ijk,jkm->im',diff_K,grad_lines)\n",
    "    return res * 1./(d**3)"
   ]
  },
  {
   "cell_type": "markdown",
   "metadata": {},
   "source": [
    "## Gradient checking"
   ]
  },
  {
   "cell_type": "code",
   "execution_count": 1314,
   "metadata": {
    "collapsed": true
   },
   "outputs": [],
   "source": [
    "def simple_obj(R):\n",
    "    K = get_K(L,C_theory,R)\n",
    "    return .5*np.linalg.norm(K)**2/(d**3)\n",
    "\n",
    "def simple_grad(R_):\n",
    "    K = get_K(L,C_theory,R_)\n",
    "    grad_lines = np.einsum('im,jm->ijm',R_,C_theory)\n",
    "    grad_lines += np.einsum('im,jm->ijm',C_theory,R_)\n",
    "    grad_lines -= 2*np.einsum('m,im,jm->ijm',L,R_,R_)\n",
    "    res = np.einsum('ijk,ijm->km',K,grad_lines)\n",
    "    res += np.einsum('ijk,ikm->jm',K,grad_lines)\n",
    "    res += np.einsum('ijk,jkm->im',K,grad_lines)\n",
    "    return res / (d**3)"
   ]
  },
  {
   "cell_type": "code",
   "execution_count": 1315,
   "metadata": {
    "collapsed": false
   },
   "outputs": [
    {
     "data": {
      "text/plain": [
       "[<matplotlib.lines.Line2D at 0x12fc32da0>]"
      ]
     },
     "execution_count": 1315,
     "metadata": {},
     "output_type": "execute_result"
    },
    {
     "data": {
      "image/png": "[encoded data removed]",
      "text/plain": [
       "<matplotlib.figure.Figure at 0x10b24b320>"
      ]
     },
     "metadata": {},
     "output_type": "display_data"
    }
   ],
   "source": [
    "R0 = np.random.rand(d**2).reshape(d,d)\n",
    "rand_mat = np.zeros((d,d))\n",
    "a,b = np.random.randint(d), np.random.randint(d)\n",
    "rand_mat[a,b] += 1.\n",
    "i,j,k = np.random.randint(d), np.random.randint(d), np.random.randint(d)\n",
    "erreur = []\n",
    "res2 = np.einsum('ij,ij',simple_grad(R0),rand_mat)\n",
    "for u in np.arange(0,-16,-1):\n",
    "    eps = 10 ** u\n",
    "    res1 = (simple_obj(R0+eps*rand_mat)-simple_obj(R0-eps*rand_mat))/(2*eps)\n",
    "    erreur.append(abs(res1-res2)/abs(res2))\n",
    "plt.plot(np.log(erreur))"
   ]
  },
  {
   "cell_type": "markdown",
   "metadata": {},
   "source": [
    "# Nesterov Accelerated Gradient"
   ]
  },
  {
   "cell_type": "code",
   "execution_count": 1578,
   "metadata": {
    "collapsed": true
   },
   "outputs": [],
   "source": [
    "def prox_l1(X, lbd=1.):\n",
    "    X_abs = np.abs(X)\n",
    "    return np.sign(X) * (X_abs - lbd) * (X_abs > lbd)\n",
    "\n",
    "def prox_nuclear(X, lbd=1.):\n",
    "    U, s, V = np.linalg.svd(X)\n",
    "    s_thres = prox_l1(s, lbd=lbd)\n",
    "    return np.dot(U,np.dot(np.diag(s_thres),V))"
   ]
  },
  {
   "cell_type": "code",
   "execution_count": 1634,
   "metadata": {
    "collapsed": false
   },
   "outputs": [],
   "source": [
    "from math import sqrt\n",
    "\n",
    "eta = 1e3\n",
    "lbd_l1 = 1e-7\n",
    "lbd_nuc = 1e-6\n",
    "@autojit\n",
    "def loss_over_time(maxiter,R0):\n",
    "    R_old = R0.copy()\n",
    "    R = R0.copy()\n",
    "    Y = np.empty((d,d))\n",
    "    grad_mean = np.zeros((d,d))\n",
    "    loss_arr = np.empty(maxiter)\n",
    "    rel_err_arr = np.empty(maxiter)\n",
    "    for n in range(maxiter):\n",
    "        (i,j,k) = np.random.randint(d), np.random.randint(d), np.random.randint(d)\n",
    "        #grad = gradient_f_ijk(R,L,C_theory,K_emp,i,j,k)\n",
    "        #R[:] = R - eta*grad_mean\n",
    "        #R[:] = R - eta/(sqrt(1.+n))*grad\n",
    "        Y[:] = R + (n-2.)/(n+1.)*(R-R_old)\n",
    "        grad = gradient_f(Y,L,C_theory,K_emp)\n",
    "        #grad = gradient_f_ijk(Y,L,C_theory,K_emp,i,j,k)\n",
    "        #grad_mean *= n / (n + 1.) \n",
    "        #grad_mean += grad / (n + 1.)\n",
    "        R_old[:] = R\n",
    "        R[:] = prox_l1(Y - eta*grad,lbd=lbd_l1)\n",
    "        #R[:] = prox_nuclear(Y - eta*grad,lbd=lbd_nuc)\n",
    "        #R[:] -=eta*grad_mean\n",
    "        loss_arr[n] = objective(R) + lbd_l1*np.sum(abs(R))\n",
    "        #_, s, _ = np.linalg.svd(R)\n",
    "        #loss_arr[n] = objective(R) + lbd_nuc*s.max()\n",
    "        rel_err_arr[n] = rel_err(R_truth,R)\n",
    "    return rel_err_arr, loss_arr, R"
   ]
  },
  {
   "cell_type": "code",
   "execution_count": 1645,
   "metadata": {
    "collapsed": false
   },
   "outputs": [],
   "source": [
    "R0_ = np.arange(d**2).reshape(d,d)/(d**2)\n",
    "res = loss_over_time(5000,R0_)\n",
    "rel_err_array = res[0]\n",
    "loss = res[1]\n",
    "R_final = res[2]"
   ]
  },
  {
   "cell_type": "code",
   "execution_count": 1646,
   "metadata": {
    "collapsed": false
   },
   "outputs": [
    {
     "data": {
      "image/png": "[encoded data removed]",
      "text/plain": [
       "<matplotlib.figure.Figure at 0x1460486a0>"
      ]
     },
     "metadata": {},
     "output_type": "display_data"
    }
   ],
   "source": [
    "plt.plot(loss)\n",
    "plt.yscale('log')"
   ]
  },
  {
   "cell_type": "code",
   "execution_count": 1647,
   "metadata": {
    "collapsed": false
   },
   "outputs": [
    {
     "data": {
      "text/plain": [
       "[<matplotlib.lines.Line2D at 0x14843ad68>]"
      ]
     },
     "execution_count": 1647,
     "metadata": {},
     "output_type": "execute_result"
    },
    {
     "data": {
      "image/png": "[encoded data removed]",
      "text/plain": [
       "<matplotlib.figure.Figure at 0x148425438>"
      ]
     },
     "metadata": {},
     "output_type": "display_data"
    }
   ],
   "source": [
    "plt.plot(rel_err_array)\n",
    "#plt.yscale('log')"
   ]
  },
  {
   "cell_type": "code",
   "execution_count": 1648,
   "metadata": {
    "collapsed": false
   },
   "outputs": [
    {
     "name": "stdout",
     "output_type": "stream",
     "text": [
      "0.3\n",
      "0.0674237061086\n"
     ]
    }
   ],
   "source": [
    "print(rel_err(R_truth,np.zeros((d,d))))\n",
    "print(rel_err(R_truth,R_final))"
   ]
  },
  {
   "cell_type": "code",
   "execution_count": 1649,
   "metadata": {
    "collapsed": false
   },
   "outputs": [
    {
     "name": "stderr",
     "output_type": "stream",
     "text": [
      "/Users/massil/anaconda/envs/py3k/lib/python3.4/site-packages/matplotlib/collections.py:590: FutureWarning: elementwise comparison failed; returning scalar instead, but in the future will perform elementwise comparison\n",
      "  if self._edgecolors == str('face'):\n"
     ]
    },
    {
     "data": {
      "image/png": "[encoded data removed]",
      "text/plain": [
       "<matplotlib.figure.Figure at 0x14834fc88>"
      ]
     },
     "metadata": {},
     "output_type": "display_data"
    }
   ],
   "source": [
    "Alpha_pred = np.eye(d) - inv(R_final)\n",
    "\n",
    "plt.pcolor(Alpha_truth,cmap=plt.cm.Blues)\n",
    "plt.title(\"Alpha_truth\")\n",
    "plt.colorbar()\n",
    "plt.show()\n",
    "plt.close()"
   ]
  },
  {
   "cell_type": "code",
   "execution_count": 1650,
   "metadata": {
    "collapsed": false
   },
   "outputs": [
    {
     "name": "stderr",
     "output_type": "stream",
     "text": [
      "/Users/massil/anaconda/envs/py3k/lib/python3.4/site-packages/matplotlib/collections.py:590: FutureWarning: elementwise comparison failed; returning scalar instead, but in the future will perform elementwise comparison\n",
      "  if self._edgecolors == str('face'):\n"
     ]
    },
    {
     "data": {
      "image/png": "[encoded data removed]",
      "text/plain": [
       "<matplotlib.figure.Figure at 0x147550518>"
      ]
     },
     "metadata": {},
     "output_type": "display_data"
    }
   ],
   "source": [
    "Alpha_pred[Alpha_pred < 0] = 0.\n",
    "\n",
    "plt.pcolor(Alpha_pred,cmap=plt.cm.Blues)\n",
    "plt.title(\"Alpha_pred\")\n",
    "plt.colorbar()\n",
    "plt.show()\n",
    "plt.close()"
   ]
  },
  {
   "cell_type": "code",
   "execution_count": 1651,
   "metadata": {
    "collapsed": false
   },
   "outputs": [
    {
     "name": "stderr",
     "output_type": "stream",
     "text": [
      "/Users/massil/anaconda/envs/py3k/lib/python3.4/site-packages/IPython/kernel/__main__.py:1: RuntimeWarning: divide by zero encountered in log\n",
      "  if __name__ == '__main__':\n",
      "/Users/massil/anaconda/envs/py3k/lib/python3.4/site-packages/matplotlib/collections.py:590: FutureWarning: elementwise comparison failed; returning scalar instead, but in the future will perform elementwise comparison\n",
      "  if self._edgecolors == str('face'):\n"
     ]
    },
    {
     "data": {
      "image/png": "[encoded data removed]",
      "text/plain": [
       "<matplotlib.figure.Figure at 0x147546a90>"
      ]
     },
     "metadata": {},
     "output_type": "display_data"
    }
   ],
   "source": [
    "plt.pcolor(np.log(Beta),cmap=plt.cm.Reds)\n",
    "plt.title(\"Beta\")\n",
    "plt.colorbar()\n",
    "plt.show()\n",
    "plt.close()"
   ]
  },
  {
   "cell_type": "code",
   "execution_count": null,
   "metadata": {
    "collapsed": true
   },
   "outputs": [],
   "source": []
  }
 ],
 "metadata": {
  "kernelspec": {
   "display_name": "Python 3",
   "language": "python",
   "name": "python3"
  },
  "language_info": {
   "codemirror_mode": {
    "name": "ipython",
    "version": 3
   },
   "file_extension": ".py",
   "mimetype": "text/x-python",
   "name": "python",
   "nbconvert_exporter": "python",
   "pygments_lexer": "ipython3",
   "version": "3.4.3"
  }
 },
 "nbformat": 4,
 "nbformat_minor": 0
}
