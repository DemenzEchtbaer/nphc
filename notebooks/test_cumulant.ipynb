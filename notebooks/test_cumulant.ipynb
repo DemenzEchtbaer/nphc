{
 "cells": [
  {
   "cell_type": "code",
   "execution_count": 564,
   "metadata": {
    "collapsed": true
   },
   "outputs": [],
   "source": [
    "import numpy as np\n",
    "import scipy\n",
    "import matplotlib.pyplot as plt\n",
    "%matplotlib inline\n",
    "from pylab import rcParams\n",
    "from mlpp.hawkesnoparam.estim import Estim\n",
    "import mlpp.pp.hawkes as hk\n",
    "from whma.metrics import rel_err, rank_corr, mse_K_partial\n",
    "from whma.cumulants import get_C, get_K\n",
    "from numba import autojit"
   ]
  },
  {
   "cell_type": "code",
   "execution_count": 565,
   "metadata": {
    "collapsed": false
   },
   "outputs": [
    {
     "name": "stdout",
     "output_type": "stream",
     "text": [
      "0.666666666667\n"
     ]
    }
   ],
   "source": [
    "d = 10\n",
    "mus = 0.0005 * np.ones(d)\n",
    "Alpha_truth = np.ones((d,d)) / 15\n",
    "Beta = np.ones((d,d))\n",
    "_, s, _ = np.linalg.svd(Alpha_truth)\n",
    "print(s.max())\n",
    "assert s.max() < 1, \"Alpha_truth cannot generate a stable Hawkes process\""
   ]
  },
  {
   "cell_type": "code",
   "execution_count": 566,
   "metadata": {
    "collapsed": false
   },
   "outputs": [
    {
     "name": "stdout",
     "output_type": "stream",
     "text": [
      "We have\n",
      "    beta_min =  0.17269388197455343\n",
      "    beta_max =  10.536051565782634\n"
     ]
    }
   ],
   "source": [
    "hMax = 40\n",
    "hDelta = .01\n",
    "from math import log\n",
    "# the criterion for beta_min and beta_max are designed for the exponential case\n",
    "beta_min = log(1000) / hMax\n",
    "beta_max = log(10./9.) / hDelta\n",
    "print(\"We have\")\n",
    "print(\"    beta_min = \",beta_min)\n",
    "print(\"    beta_max = \",beta_max)"
   ]
  },
  {
   "cell_type": "code",
   "execution_count": 246,
   "metadata": {
    "collapsed": false
   },
   "outputs": [],
   "source": [
    "kernels = [[hk.HawkesKernelExp(a, b) for (a, b) in zip(a_list, b_list)] for (a_list, b_list) in zip(Alpha_truth, Beta)]\n",
    "h = hk.Hawkes(kernels=kernels, mus=list(mus))\n",
    "T_max = 100000000\n",
    "h.simulate(T_max)\n",
    "estim = Estim(h, n_threads=8, hDelta=hDelta, hMax=hMax)"
   ]
  },
  {
   "cell_type": "markdown",
   "metadata": {},
   "source": [
    "# Second order"
   ]
  },
  {
   "cell_type": "code",
   "execution_count": 388,
   "metadata": {
    "collapsed": true
   },
   "outputs": [],
   "source": [
    "L = np.array(estim.lam)\n",
    "C = get_C(estim)"
   ]
  },
  {
   "cell_type": "code",
   "execution_count": 537,
   "metadata": {
    "collapsed": true
   },
   "outputs": [],
   "source": [
    "@autojit\n",
    "def I1_ij(hk,i,j, H=0.):\n",
    "    res = 0\n",
    "    u = 0\n",
    "    Z_i = hk.get_full_process()[i]\n",
    "    Z_j = hk.get_full_process()[j]\n",
    "    n_j = len(Z_j)\n",
    "    for tau in Z_i:\n",
    "        while u < n_j and Z_j[u] < tau + H:\n",
    "            u += 1\n",
    "        res += u\n",
    "    return res\n",
    "\n",
    "@autojit\n",
    "def I1_ij_alternatif(hk,i,j,H=0.):\n",
    "    res = 0\n",
    "    Z_i = hk.get_full_process()[i]\n",
    "    Z_j = hk.get_full_process()[j]\n",
    "    for tau in Z_i:\n",
    "        res += len(Z_j[Z_j<tau+H])\n",
    "    return res\n",
    "\n",
    "@autojit\n",
    "def A_ij(hk,i,j,H):\n",
    "    res = 0\n",
    "    u = 0\n",
    "    count = 0\n",
    "    T_ = hk.time\n",
    "    Z_i = hk.get_full_process()[i]\n",
    "    Z_j = hk.get_full_process()[j]\n",
    "    n_i = len(Z_i)\n",
    "    n_j = len(Z_j)\n",
    "    if H >= 0:\n",
    "        for tau in Z_i:\n",
    "            while u < n_j and Z_j[u] < tau:\n",
    "                u += 1\n",
    "            v = u\n",
    "            while v < n_j and Z_j[v] < tau + H:\n",
    "                v += 1\n",
    "            if v < n_j: \n",
    "                count += 1\n",
    "                res += v-u\n",
    "    else:\n",
    "        for tau in Z_i:\n",
    "            while u < n_j and Z_j[u] <= tau:\n",
    "                u += 1\n",
    "            v = u\n",
    "            while v >= 0 and Z_j[v] > tau + H:\n",
    "                v -= 1\n",
    "            if v >= 0:\n",
    "                count += 1\n",
    "                res += u-1-v\n",
    "    res -= (i==j)*count\n",
    "    if count < n_i:\n",
    "        res *= n_i * 1. / count\n",
    "    res /= T_\n",
    "    return res\n",
    "\n",
    "@autojit\n",
    "def B_ijk(hk,i,j,k,H):\n",
    "    res = 0\n",
    "    u = 0\n",
    "    x = 0\n",
    "    count = 0\n",
    "    T_ = hk.time\n",
    "    H_ = abs(H)\n",
    "    Z_i = hk.get_full_process()[i]\n",
    "    Z_j = hk.get_full_process()[j]\n",
    "    Z_k = hk.get_full_process()[k]\n",
    "    n_i = len(Z_i)\n",
    "    n_j = len(Z_j)\n",
    "    n_k = len(Z_k)\n",
    "    for tau in Z_k:\n",
    "        # work on Z_i\n",
    "        while u < n_i and Z_i[u] <= tau:\n",
    "            u += 1\n",
    "        v = u\n",
    "        while v >= 0 and Z_i[v] > tau - H_:\n",
    "            v -= 1\n",
    "        # work on Z_j\n",
    "        while x < n_j and Z_j[x] <= tau:\n",
    "            x += 1\n",
    "        y = x\n",
    "        while y >= 0 and Z_j[y] > tau - H_:\n",
    "            y -= 1\n",
    "        # check if this step is admissible\n",
    "        if y >= 0 and v >= 0:\n",
    "            count += 1\n",
    "            res += (u-1-v-(i==k))*(x-1-y-(j==k))\n",
    "    if count < n_k:\n",
    "        res *= n_k * 1. / count\n",
    "    res /= T_\n",
    "    return res"
   ]
  },
  {
   "cell_type": "code",
   "execution_count": 525,
   "metadata": {
    "collapsed": false
   },
   "outputs": [],
   "source": [
    "#print(I1_ij_alternatif(h,4,6,hMax)-I1_ij_alternatif(h,4,6))\n",
    "#print(h.time*A_ij(h,4,6,hMax))"
   ]
  },
  {
   "cell_type": "code",
   "execution_count": 532,
   "metadata": {
    "collapsed": true
   },
   "outputs": [],
   "source": [
    "newC = np.zeros((d,d))\n",
    "A = np.zeros((d,d))\n",
    "B = np.zeros((d,d))\n",
    "T = [x[-1]-x[0] for x in h.get_full_process()]\n",
    "Tm = h.time\n",
    "N = np.array([len(x) for x in h.get_full_process()])\n",
    "for i in range(d):\n",
    "    for j in range(d):\n",
    "        #A[i,j] = (I1_ij(h,j,i,hMax) - I1_ij(h,j,i)) / Tm\n",
    "        A[i,j] = A_ij(h,i,j,hMax)\n",
    "        B[i,j] = A_ij(h,i,j,-hMax)\n",
    "newC = B - np.einsum('i,j->ij',L,L)*hMax"
   ]
  },
  {
   "cell_type": "code",
   "execution_count": 533,
   "metadata": {
    "collapsed": false
   },
   "outputs": [
    {
     "name": "stdout",
     "output_type": "stream",
     "text": [
      "0.00854678302238\n",
      "0.00873680722823\n"
     ]
    }
   ],
   "source": [
    "from scipy.linalg import inv\n",
    "R_truth = inv(np.eye(d)-Alpha_truth)\n",
    "#np.linalg.norm(C)\n",
    "C_theory = np.dot(R_truth,np.dot(np.diag(estim.lam),R_truth.T))\n",
    "print(rel_err(C_theory,C))\n",
    "print(rel_err(C_theory,2*newC+np.diag(L)))\n",
    "second_cumul = 2*newC+np.diag(L)"
   ]
  },
  {
   "cell_type": "markdown",
   "metadata": {},
   "source": [
    "# Third order"
   ]
  },
  {
   "cell_type": "code",
   "execution_count": 394,
   "metadata": {
    "collapsed": false
   },
   "outputs": [],
   "source": [
    "K = get_K(estim,L,C_theory,R_truth)"
   ]
  },
  {
   "cell_type": "code",
   "execution_count": 560,
   "metadata": {
    "collapsed": false
   },
   "outputs": [],
   "source": [
    "@autojit\n",
    "def I_ijk(hk,i,j,k,H):\n",
    "    return (I1_ij(hk,i,k,H) - I1_ij(hk,i,k)) * (I1_ij(hk,j,k,H) - I1_ij(hk,j,k)) / hk.time\n",
    "\n",
    "@autojit\n",
    "def J_ijk(hk,i,j,k,H):\n",
    "    return 2*(i==j)*(I1_ij(hk,i,k,H) - I1_ij(hk,i,k))/hk.time\n",
    "\n",
    "@autojit\n",
    "def moment3_ijk(hk,L,C,i,j,k,H):\n",
    "    res = 0\n",
    "    res += I_ijk(hk,i,j,k,H)\n",
    "    res += I_ijk(hk,k,i,j,H)\n",
    "    res += I_ijk(hk,j,k,i,H)\n",
    "    res += J_ijk(h,i,j,k,H) + J_ijk(h,k,i,j,H) + J_ijk(h,j,k,i,H)\n",
    "    res += (i==j)*(i==k)*2*H*L[i]\n",
    "    return res\n",
    "\n",
    "def moment3_ijk_bis(hk,A_,F_,L,H):\n",
    "    res = 0\n",
    "    T_ = hk.time\n",
    "    res += F_[i,j,k] - (i==j)*A_[k,i]\n",
    "    res += F_[j,k,i] - (k==j)*A_[i,k]\n",
    "    res += F_[k,i,j] - (i==k)*A_[j,i]\n",
    "    res += (i==j)*(A_[k,i]+A_[i,k])\n",
    "    res += (i==k)*(A_[j,i]+A_[i,j])\n",
    "    res += (k==j)*(A_[k,i]+A_[i,k])\n",
    "    res += (i==j)*(i==k)*2*H*L[i]\n",
    "    return res"
   ]
  },
  {
   "cell_type": "code",
   "execution_count": 561,
   "metadata": {
    "collapsed": false
   },
   "outputs": [],
   "source": [
    "F = np.zeros((d,d,d))\n",
    "for i in range(d):\n",
    "    for j in range(d):\n",
    "        for k in range(d):\n",
    "            F[i,j,k] = B_ijk(h,i,j,k,hMax)"
   ]
  },
  {
   "cell_type": "code",
   "execution_count": 562,
   "metadata": {
    "collapsed": false
   },
   "outputs": [
    {
     "name": "stdout",
     "output_type": "stream",
     "text": [
      "0\n",
      "1\n",
      "2\n",
      "3\n",
      "4\n",
      "5\n",
      "6\n",
      "7\n",
      "8\n",
      "9\n"
     ]
    }
   ],
   "source": [
    "newK = np.zeros((d,d,d))\n",
    "for i in range(d):\n",
    "    print(i)\n",
    "    for j in range(d):\n",
    "        for k in range(d):\n",
    "            #newK[i,j,k] = (I1_ij(h,j,i,hMax) - I1_ij(h,j,i)) * (I1_ij(h,k,i,hMax) - I1_ij(h,k,i)) / (Tm**2)\n",
    "            #newK[i,j,k] -= (j==k) * (I1_ij(h,j,i,hMax) - I1_ij(h,j,i)) / Tm\n",
    "            #newK[i,j,k] = moment3_ijk(h,L,C,i,j,k,hMax)\n",
    "            newK[i,j,k] = moment3_ijk_bis(h,A,F,L,0.01*hMax)\n",
    "            #newK[i,j,k] = 0.\n",
    "            \n",
    "# the following lines correspond to the equations (10)-(13)\n",
    "newK -= 4*np.einsum('i,j,k->ijk',L,L,L)*hMax**2\n",
    "newK -= 2*np.einsum('i,jk->ijk',L,second_cumul)*hMax\n",
    "newK -= 2*np.einsum('j,ik->ijk',L,second_cumul)*hMax\n",
    "newK -= 2*np.einsum('k,ij->ijk',L,second_cumul)*hMax\n",
    "#newK -= 2*np.einsum('i,ij,k->ijk',L,np.eye(d),L)*hMax\n",
    "#newK -= 2*np.einsum('i,ik,j->ijk',L,np.eye(d),L)*hMax\n",
    "#newK -= 2*np.einsum('j,jk,i->ijk',L,np.eye(d),L)*hMax"
   ]
  },
  {
   "cell_type": "code",
   "execution_count": 563,
   "metadata": {
    "collapsed": false
   },
   "outputs": [
    {
     "name": "stdout",
     "output_type": "stream",
     "text": [
      "0.0312475525976\n",
      "1.0\n"
     ]
    }
   ],
   "source": [
    "print(rel_err(K,newK))\n",
    "print(rel_err(K,np.zeros_like(K)))"
   ]
  },
  {
   "cell_type": "code",
   "execution_count": null,
   "metadata": {
    "collapsed": true
   },
   "outputs": [],
   "source": []
  }
 ],
 "metadata": {
  "kernelspec": {
   "display_name": "Python 3",
   "language": "python",
   "name": "python3"
  },
  "language_info": {
   "codemirror_mode": {
    "name": "ipython",
    "version": 3
   },
   "file_extension": ".py",
   "mimetype": "text/x-python",
   "name": "python",
   "nbconvert_exporter": "python",
   "pygments_lexer": "ipython3",
   "version": "3.4.3"
  }
 },
 "nbformat": 4,
 "nbformat_minor": 0
}
