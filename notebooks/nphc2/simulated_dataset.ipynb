{
 "cells": [
  {
   "cell_type": "code",
   "execution_count": 1,
   "metadata": {
    "collapsed": false
   },
   "outputs": [],
   "source": [
    "import numpy as np\n",
    "import scipy\n",
    "import matplotlib.pyplot as plt\n",
    "%matplotlib inline\n",
    "from pylab import rcParams\n",
    "import mlpp.pp.hawkes as hk\n",
    "from mlpp.base.utils import TimeFunction\n",
    "from nphc.metrics import rel_err, rank_corr"
   ]
  },
  {
   "cell_type": "markdown",
   "metadata": {},
   "source": [
    "# Definition of $||\\Phi||$"
   ]
  },
  {
   "cell_type": "code",
   "execution_count": 23,
   "metadata": {
    "collapsed": true
   },
   "outputs": [],
   "source": [
    "d = 100\n",
    "mu = 0.05 * np.ones(d)\n",
    "blocks = [d/2,d/2]\n",
    "L = []\n",
    "L.append(np.ones((blocks[0],blocks[0])))\n",
    "L.append(2*np.ones((blocks[1],blocks[1])))\n",
    "Alpha_true = scipy.linalg.block_diag(*L)\n",
    "# add noise\n",
    "#Alpha_true += 0.01\n",
    "Alpha_true[10,17] += 3.\n",
    "Alpha_true = .5*(Alpha_true+Alpha_true.T)\n",
    "Alpha_true /= 120"
   ]
  },
  {
   "cell_type": "markdown",
   "metadata": {},
   "source": [
    "### Check if $||\\Phi|| = Alpha_{true}$, can generate a stable Hawkes process"
   ]
  },
  {
   "cell_type": "code",
   "execution_count": 24,
   "metadata": {
    "collapsed": false
   },
   "outputs": [
    {
     "name": "stdout",
     "output_type": "stream",
     "text": [
      "0.833333333333\n"
     ]
    }
   ],
   "source": [
    "_, s, _ = np.linalg.svd(Alpha_true)\n",
    "print(s.max())\n",
    "assert s.max() < 1, \"Alpha_true cannot generate a stable Hawkes process\""
   ]
  },
  {
   "cell_type": "markdown",
   "metadata": {},
   "source": [
    "## Major key for exp kernel: \n",
    "### Since hMax=40 encodes the support, we ensure \\beta is not too small for estimation\n",
    "Criterion on exp kernel gives us $\\beta_{\\min}$ such that $$\\exp(-\\mbox{hMax} \\times \\beta_\\min) = 10^{-3}$$"
   ]
  },
  {
   "cell_type": "code",
   "execution_count": 25,
   "metadata": {
    "collapsed": false
   },
   "outputs": [
    {
     "name": "stdout",
     "output_type": "stream",
     "text": [
      "We have\n",
      "    beta_min =  0.17269388197455343\n"
     ]
    }
   ],
   "source": [
    "hMax = 40\n",
    "from math import log\n",
    "beta_min = log(1000) / hMax\n",
    "print(\"We have\")\n",
    "print(\"    beta_min = \",beta_min)"
   ]
  },
  {
   "cell_type": "markdown",
   "metadata": {},
   "source": [
    "## Fill matrix of $\\beta$"
   ]
  },
  {
   "cell_type": "code",
   "execution_count": 27,
   "metadata": {
    "collapsed": false
   },
   "outputs": [],
   "source": [
    "LL = []\n",
    "LL.append(100*beta_min*np.ones((blocks[0],blocks[0])))\n",
    "LL.append(beta_min*np.ones((blocks[1],blocks[1])))\n",
    "Beta = scipy.linalg.block_diag(*LL)\n",
    "Beta[10,17] = 2*beta_min\n",
    "Beta = .5*(Beta + Beta.T)"
   ]
  },
  {
   "cell_type": "markdown",
   "metadata": {},
   "source": [
    "## Simulation of the process"
   ]
  },
  {
   "cell_type": "code",
   "execution_count": null,
   "metadata": {
    "collapsed": true
   },
   "outputs": [],
   "source": [
    "kernels = [[hk.HawkesKernelExp(a, b) for (a, b) in zip(a_list, b_list)] for (a_list, b_list) in zip(Alpha_true, Beta)]\n",
    "h = hk.Hawkes(kernels=kernels, mus=list(mu))\n",
    "T_max = 100000\n",
    "h.simulate(T_max)"
   ]
  },
  {
   "cell_type": "markdown",
   "metadata": {},
   "source": [
    "## Use the class Cumulants"
   ]
  },
  {
   "cell_type": "code",
   "execution_count": null,
   "metadata": {
    "collapsed": true
   },
   "outputs": [],
   "source": [
    "from nphc.cumulants import Cumulants\n",
    "N = h.get_full_process()\n",
    "cumul = Cumulants(N,hMax=40)\n",
    "# Compute useful integrated cumulants\n",
    "cumul.compute_all()"
   ]
  },
  {
   "cell_type": "markdown",
   "metadata": {},
   "source": [
    "# Estimation procedure"
   ]
  },
  {
   "cell_type": "code",
   "execution_count": null,
   "metadata": {
    "collapsed": false
   },
   "outputs": [],
   "source": [
    "from nphc.nphc2.solver import admm\n",
    "from nphc.prox import *\n",
    "X0 = np.eye(d)\n",
    "#X0 = np.ones(d**2).reshape(d,d)\n",
    "rho = .01\n",
    "maxiter = 10000"
   ]
  },
  {
   "cell_type": "code",
   "execution_count": null,
   "metadata": {
    "collapsed": false
   },
   "outputs": [],
   "source": [
    "res = []\n",
    "for prox in [prox_sq_frob, prox_l1, prox_nuclear]:\n",
    "    X_ = admm(cumul, prox, X0, X0, Alpha_true, rho=rho, maxiter=maxiter)\n",
    "    res.append(X_)"
   ]
  },
  {
   "cell_type": "code",
   "execution_count": null,
   "metadata": {
    "collapsed": true
   },
   "outputs": [],
   "source": [
    "X_frob = res[0]\n",
    "X_l1 = res[1]\n",
    "X_nuc = res[2]"
   ]
  },
  {
   "cell_type": "markdown",
   "metadata": {},
   "source": [
    "# Results"
   ]
  },
  {
   "cell_type": "code",
   "execution_count": null,
   "metadata": {
    "collapsed": false
   },
   "outputs": [],
   "source": [
    "import pandas as pd\n",
    "cols = ['RelErr', 'RankCorr']\n",
    "index = ['frobenius', '\\ell_1', 'nuclear norm']\n",
    "results = np.zeros((len(index),len(cols)))\n",
    "for i, X in enumerate([X_frob, X_l1, X_nuc]):\n",
    "    results[i][0] = rel_err(Alpha_true, X)\n",
    "    results[i][1] = rank_corr(Alpha_true, X)\n",
    "df = pd.DataFrame(results, index=index, columns=cols)\n",
    "df"
   ]
  },
  {
   "cell_type": "markdown",
   "metadata": {},
   "source": [
    "# Heatmaps"
   ]
  },
  {
   "cell_type": "code",
   "execution_count": null,
   "metadata": {
    "collapsed": false
   },
   "outputs": [],
   "source": [
    "plt.pcolor(Alpha_true,cmap=plt.cm.Blues)\n",
    "plt.title(\"Alpha_true\")\n",
    "plt.colorbar()\n",
    "plt.show()\n",
    "plt.close()"
   ]
  },
  {
   "cell_type": "code",
   "execution_count": null,
   "metadata": {
    "collapsed": false
   },
   "outputs": [],
   "source": [
    "eps = 1e-10\n",
    "plt.pcolor(np.log(eps+Beta),cmap=plt.cm.Blues)\n",
    "plt.title(\"Beta\")\n",
    "plt.colorbar()\n",
    "plt.show()\n",
    "plt.close()"
   ]
  },
  {
   "cell_type": "code",
   "execution_count": null,
   "metadata": {
    "collapsed": false
   },
   "outputs": [],
   "source": [
    "from nphc.cumulants import get_C\n",
    "cumul.set_C()\n",
    "plt.pcolor(cumul.C,cmap=plt.cm.Reds)\n",
    "plt.title(\"Covariance matrix\")\n",
    "plt.colorbar()\n",
    "plt.show()\n",
    "plt.close()"
   ]
  },
  {
   "cell_type": "code",
   "execution_count": null,
   "metadata": {
    "collapsed": false
   },
   "outputs": [],
   "source": [
    "for i,X in enumerate(res):\n",
    "    plt.pcolor(X,cmap=plt.cm.Blues)\n",
    "    if i == 0:\n",
    "        title = 'X_frob'\n",
    "    elif i == 1:\n",
    "        title = 'X_l1'\n",
    "    else:\n",
    "        title = 'X_nuc'\n",
    "    plt.title(title)\n",
    "    plt.colorbar()\n",
    "    plt.show()\n",
    "    plt.close()"
   ]
  },
  {
   "cell_type": "code",
   "execution_count": null,
   "metadata": {
    "collapsed": true
   },
   "outputs": [],
   "source": []
  }
 ],
 "metadata": {
  "kernelspec": {
   "display_name": "Python 3",
   "language": "python",
   "name": "python3"
  },
  "language_info": {
   "codemirror_mode": {
    "name": "ipython",
    "version": 3
   },
   "file_extension": ".py",
   "mimetype": "text/x-python",
   "name": "python",
   "nbconvert_exporter": "python",
   "pygments_lexer": "ipython3",
   "version": "3.4.3"
  }
 },
 "nbformat": 4,
 "nbformat_minor": 0
}
