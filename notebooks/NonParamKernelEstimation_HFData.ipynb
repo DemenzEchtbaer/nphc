{
 "cells": [
  {
   "cell_type": "code",
   "execution_count": 1,
   "metadata": {
    "collapsed": false
   },
   "outputs": [],
   "source": [
    "import pandas as pd\n",
    "import numpy as np\n",
    "#from nphc.main import NPHC\n",
    "#from nphc.utils.cumulants import Cumulants\n",
    "from scipy.linalg import sqrtm, inv, eigh\n",
    "from numpy import sqrt\n",
    "import matplotlib\n",
    "matplotlib.use('Agg')\n",
    "\n",
    "import mlpp.hawkesnoparam as hnp\n",
    "\n",
    "import seaborn as sns\n",
    "import matplotlib.pyplot as plt\n",
    "import tensorflow as tf\n",
    "\n",
    "%matplotlib inline"
   ]
  },
  {
   "cell_type": "code",
   "execution_count": 2,
   "metadata": {
    "collapsed": true
   },
   "outputs": [],
   "source": [
    "def GetComponents(df, vol_bins):\n",
    "    \"\"\" Given df representing one day of data, returns list of array representing \n",
    "        trades time for each volume component\"\"\"\n",
    "    \n",
    "    mask = lambda x,y: (df.OrderType==0).values * (np.abs(df.Volume.values)>x) * (np.abs(df.Volume.values)<=y)\n",
    "    \n",
    "    out = []\n",
    "    for ii in range(len(vol_bins)-1): \n",
    "        \n",
    "        out += [np.copy(df.loc[mask(vol_bins[ii], vol_bins[ii+1]), 'Time'].values)]\n",
    "        \n",
    "    return out"
   ]
  },
  {
   "cell_type": "markdown",
   "metadata": {},
   "source": [
    "## Data store"
   ]
  },
  {
   "cell_type": "code",
   "execution_count": 3,
   "metadata": {
    "collapsed": false
   },
   "outputs": [],
   "source": [
    "# data for Eurex futures are in this store\n",
    "store = pd.HDFStore('/data/data/QH/L1.h5', 'r')\n",
    "\n",
    "# each dataframe in the store represents one day\n",
    "# name of the assets are 'xFDAX' and 'xFGBL'\n",
    "# to access an asset on a particular day do\n",
    "# store.get['_ast_name/YYYYmmdd']"
   ]
  },
  {
   "cell_type": "code",
   "execution_count": 4,
   "metadata": {
    "collapsed": false
   },
   "outputs": [],
   "source": [
    "# to get one day\n",
    "df = store.get('xFGBL/20140922')"
   ]
  },
  {
   "cell_type": "markdown",
   "metadata": {},
   "source": [
    "## Non-parametric hawkes Bacry"
   ]
  },
  {
   "cell_type": "code",
   "execution_count": 5,
   "metadata": {
    "collapsed": true
   },
   "outputs": [],
   "source": [
    "# in the paper we examined trades and considered multilpe components based on volume\n",
    "# volume buckets:\n",
    "bins4D = (0,1,3,10, np.inf)\n",
    "bins6D = (0, 2, 3, 7, 20, np.inf)"
   ]
  },
  {
   "cell_type": "markdown",
   "metadata": {},
   "source": [
    "### Estim conditional law"
   ]
  },
  {
   "cell_type": "code",
   "execution_count": 6,
   "metadata": {
    "collapsed": false
   },
   "outputs": [],
   "source": [
    "# to do non par est we need to create estim object\n",
    "\n",
    "# estimation parameters \n",
    "est_par = dict(hMax=2000, # max lag\n",
    "               hMin=5e-4, # after hMin buckets are log-spaced\n",
    "               hDelta=0.01, # regulates number of bins\n",
    "               claw_method=\"log\", n_threads=-1)\n",
    "\n",
    "est = hnp.Estim(**est_par)\n",
    "\n",
    "# do estimation using one month of data\n",
    "\n",
    "asset = 'xFGBL'\n",
    "days = pd.bdate_range(start='20140101', end='20140110')\n",
    "big_data = []\n",
    "\n",
    "# add realization and estimate claw\n",
    "# 4D case\n",
    "for d in days:\n",
    "    \n",
    "    try:\n",
    "        df = store.get('%s/%s' %(asset, d.strftime('%Y%m%d')))\n",
    "    except KeyError:\n",
    "        continue\n",
    "        \n",
    "    data = GetComponents(df, bins4D)\n",
    "    big_data.append(data)\n",
    "    \n",
    "    est.add_realization(data)"
   ]
  },
  {
   "cell_type": "code",
   "execution_count": 7,
   "metadata": {
    "collapsed": false
   },
   "outputs": [
    {
     "data": {
      "text/plain": [
       "[]"
      ]
     },
     "execution_count": 7,
     "metadata": {},
     "output_type": "execute_result"
    },
    {
     "data": {
      "image/png": "[encoded data removed]",
      "text/plain": [
       "<matplotlib.figure.Figure at 0x7f238002f710>"
      ]
     },
     "metadata": {},
     "output_type": "display_data"
    }
   ],
   "source": [
    "# estimate conditional law values are in \n",
    "# est.claw (single index) or est.claw1[i][j]\n",
    "\n",
    "# the corresponding x-values are in \n",
    "# est.claw_X\n",
    "\n",
    "plt.plot(est.claw_X, est.claw1[0][0])\n",
    "plt.loglog()"
   ]
  },
  {
   "cell_type": "markdown",
   "metadata": {},
   "source": [
    "### Compute kernels"
   ]
  },
  {
   "cell_type": "code",
   "execution_count": 8,
   "metadata": {
    "collapsed": false
   },
   "outputs": [
    {
     "name": "stderr",
     "output_type": "stream",
     "text": [
      "/data/users/achab/mlpp/mlpp/hawkesnoparam/estim.py:662: VisibleDeprecationWarning: using a non-integer number instead of an integer will result in an error in the future\n",
      "  self.phi[i].append(self._phi_ijl[index]*self._mark_probabilities[j][0])\n"
     ]
    }
   ],
   "source": [
    "# to compute the kernel do \n",
    "est.compute(n_quad=80, xmax=1, method='log', xmin=5e-4)"
   ]
  },
  {
   "cell_type": "code",
   "execution_count": 9,
   "metadata": {
    "collapsed": false
   },
   "outputs": [
    {
     "data": {
      "text/plain": [
       "[]"
      ]
     },
     "execution_count": 9,
     "metadata": {},
     "output_type": "execute_result"
    },
    {
     "data": {
      "image/png": "[encoded data removed]",
      "text/plain": [
       "<matplotlib.figure.Figure at 0x7f237eac4c88>"
      ]
     },
     "metadata": {},
     "output_type": "display_data"
    }
   ],
   "source": [
    "# to access the kernels\n",
    "# phi_x, phi_y = est.phi[i][j] \n",
    "phi_x, phi_y = est.phi[0][0]\n",
    "\n",
    "plt.plot(phi_x, phi_y)\n",
    "plt.loglog()"
   ]
  },
  {
   "cell_type": "markdown",
   "metadata": {},
   "source": [
    "### Norms"
   ]
  },
  {
   "cell_type": "code",
   "execution_count": 10,
   "metadata": {
    "collapsed": false
   },
   "outputs": [
    {
     "data": {
      "text/plain": [
       "<matplotlib.axes._subplots.AxesSubplot at 0x7f237ed9f860>"
      ]
     },
     "execution_count": 10,
     "metadata": {},
     "output_type": "execute_result"
    },
    {
     "data": {
      "image/png": "[encoded data removed]",
      "text/plain": [
       "<matplotlib.figure.Figure at 0x7f237edc7208>"
      ]
     },
     "metadata": {},
     "output_type": "display_data"
    }
   ],
   "source": [
    "# norms are in \n",
    "# est.norm\n",
    "sns.heatmap(est.norm, cmap='Blues')"
   ]
  },
  {
   "cell_type": "markdown",
   "metadata": {
    "collapsed": true
   },
   "source": [
    "# Retrieve the norm via NPHC"
   ]
  },
  {
   "cell_type": "code",
   "execution_count": 11,
   "metadata": {
    "collapsed": false
   },
   "outputs": [
    {
     "data": {
      "text/plain": [
       "7"
      ]
     },
     "execution_count": 11,
     "metadata": {},
     "output_type": "execute_result"
    }
   ],
   "source": [
    "len(big_data)"
   ]
  },
  {
   "cell_type": "code",
   "execution_count": 12,
   "metadata": {
    "collapsed": true
   },
   "outputs": [],
   "source": [
    "from nphc.main import NPHC, starting_point\n",
    "import nphc.utils.cumulants as cu\n",
    "\n",
    "#cumul = cu.Cumulants(big_data)\n",
    "list_cumul = [ cu.Cumulants(daily_data) for daily_data in big_data ]"
   ]
  },
  {
   "cell_type": "code",
   "execution_count": 21,
   "metadata": {
    "collapsed": true
   },
   "outputs": [],
   "source": [
    "cumul_ = list_cumul[0]\n",
    "process = cumul_.N\n",
    "T = cumul_.time\n",
    "cumul_.set_L()"
   ]
  },
  {
   "cell_type": "code",
   "execution_count": 90,
   "metadata": {
    "collapsed": false
   },
   "outputs": [],
   "source": [
    "i = 0\n",
    "j = 0\n",
    "\n",
    "from nphc.utils.cumulants import A_ij\n",
    "from joblib import Parallel, delayed\n",
    "H_range = np.logspace(-3,3,300)\n",
    "Z = Parallel(-1)(delayed(A_ij)(process[i], process[j], -H, H, T, cumul_.L[j]) for H in H_range)\n",
    "Z = np.array(Z)"
   ]
  },
  {
   "cell_type": "code",
   "execution_count": 91,
   "metadata": {
    "collapsed": false
   },
   "outputs": [],
   "source": [
    "Y = np.diff(Z)/np.diff(H_range)"
   ]
  },
  {
   "cell_type": "code",
   "execution_count": 92,
   "metadata": {
    "collapsed": false
   },
   "outputs": [
    {
     "data": {
      "text/plain": [
       "[]"
      ]
     },
     "execution_count": 92,
     "metadata": {},
     "output_type": "execute_result"
    },
    {
     "data": {
      "image/png": "[encoded data removed]",
      "text/plain": [
       "<matplotlib.figure.Figure at 0x7f2378013b00>"
      ]
     },
     "metadata": {},
     "output_type": "display_data"
    }
   ],
   "source": [
    "X = H_range[:-1]\n",
    "plt.plot(X, Y)\n",
    "plt.loglog()"
   ]
  },
  {
   "cell_type": "code",
   "execution_count": 93,
   "metadata": {
    "collapsed": false
   },
   "outputs": [],
   "source": [
    "from scipy.stats import linregress\n",
    "cond = H_range[:-1] > 5.\n",
    "#x = np.array(X)[cond]\n",
    "x = X[cond]\n",
    "y = Y[cond]\n",
    "slope, intercept = linregress(np.log(x), np.log(y))[:2]"
   ]
  },
  {
   "cell_type": "code",
   "execution_count": 94,
   "metadata": {
    "collapsed": false
   },
   "outputs": [
    {
     "name": "stdout",
     "output_type": "stream",
     "text": [
      "slope = -0.2584743810139555\n"
     ]
    }
   ],
   "source": [
    "print(\"slope = {}\".format(slope))"
   ]
  },
  {
   "cell_type": "code",
   "execution_count": 95,
   "metadata": {
    "collapsed": false
   },
   "outputs": [],
   "source": [
    "from math import exp\n",
    "line = exp(intercept) * X**slope"
   ]
  },
  {
   "cell_type": "code",
   "execution_count": 96,
   "metadata": {
    "collapsed": false
   },
   "outputs": [
    {
     "data": {
      "text/plain": [
       "[]"
      ]
     },
     "execution_count": 96,
     "metadata": {},
     "output_type": "execute_result"
    },
    {
     "data": {
      "image/png": "[encoded data removed]",
      "text/plain": [
       "<matplotlib.figure.Figure at 0x7f230081a550>"
      ]
     },
     "metadata": {},
     "output_type": "display_data"
    }
   ],
   "source": [
    "plt.plot(X, Y, 'b', X, line, 'g')\n",
    "plt.loglog()"
   ]
  },
  {
   "cell_type": "code",
   "execution_count": null,
   "metadata": {
    "collapsed": true
   },
   "outputs": [],
   "source": []
  },
  {
   "cell_type": "code",
   "execution_count": null,
   "metadata": {
    "collapsed": true
   },
   "outputs": [],
   "source": []
  },
  {
   "cell_type": "code",
   "execution_count": null,
   "metadata": {
    "collapsed": true
   },
   "outputs": [],
   "source": []
  },
  {
   "cell_type": "code",
   "execution_count": 99,
   "metadata": {
    "collapsed": false
   },
   "outputs": [
    {
     "name": "stdout",
     "output_type": "stream",
     "text": [
      "L is computed\n",
      "C is computed\n",
      "K_c is computed\n",
      "L is computed\n",
      "C is computed\n",
      "K_c is computed\n",
      "L is computed\n",
      "C is computed\n",
      "K_c is computed\n",
      "L is computed\n",
      "C is computed\n",
      "K_c is computed\n",
      "L is computed\n",
      "C is computed\n",
      "K_c is computed\n",
      "L is computed\n",
      "C is computed\n",
      "K_c is computed\n",
      "L is computed\n",
      "C is computed\n",
      "K_c is computed\n"
     ]
    }
   ],
   "source": [
    "for cumul in list_cumul:\n",
    "    cumul.set_all(H=10.,weight='gaussian',sigma=2.)"
   ]
  },
  {
   "cell_type": "code",
   "execution_count": 100,
   "metadata": {
    "collapsed": false
   },
   "outputs": [],
   "source": [
    "R0 = np.mean([starting_point(cumul) for cumul in list_cumul], axis=0)\n",
    "#R0 = starting_point(list_cumulants)"
   ]
  },
  {
   "cell_type": "code",
   "execution_count": 126,
   "metadata": {
    "collapsed": true
   },
   "outputs": [],
   "source": [
    "learning_rate=1e0\n",
    "training_epochs=1001\n",
    "display_step=100"
   ]
  },
  {
   "cell_type": "code",
   "execution_count": 127,
   "metadata": {
    "collapsed": true
   },
   "outputs": [],
   "source": [
    "C_mean = np.mean([cumul.C for cumul in list_cumul], axis=0)\n",
    "K_c_mean = np.mean([cumul.K_c for cumul in list_cumul], axis=0)"
   ]
  },
  {
   "cell_type": "code",
   "execution_count": 128,
   "metadata": {
    "collapsed": false
   },
   "outputs": [],
   "source": [
    "from scipy.linalg import norm\n",
    "alpha = norm(K_c_mean)**2 / (norm(K_c_mean)**2 + norm(C_mean)**2)"
   ]
  },
  {
   "cell_type": "code",
   "execution_count": null,
   "metadata": {
    "collapsed": false
   },
   "outputs": [],
   "source": [
    "R = NPHC(list_cumul,R0,alpha=0.,training_epochs=training_epochs,\\\n",
    "         display_step=display_step,learning_rate=learning_rate,optimizer='adam')"
   ]
  },
  {
   "cell_type": "code",
   "execution_count": null,
   "metadata": {
    "collapsed": true
   },
   "outputs": [],
   "source": [
    "d = list_cumul[0].dim\n",
    "from scipy.linalg import inv\n",
    "G = np.eye(d) - inv(R)\n",
    "G0 = np.eye(d) - inv(R0)"
   ]
  },
  {
   "cell_type": "code",
   "execution_count": null,
   "metadata": {
    "collapsed": false
   },
   "outputs": [],
   "source": [
    "from mpl_toolkits.axes_grid1 import make_axes_locatable\n",
    "fig, axs = plt.subplots(1, 2, sharey=True,figsize=(15,5))\n",
    "labels = ['G0', 'G']\n",
    "\n",
    "for ax, data, label in zip(axs, [G0, G], labels):\n",
    "    \n",
    "    \n",
    "    colors = [plt.cm.viridis, plt.cm.magma, plt.cm.inferno, plt.cm.Blues, plt.cm.jet]\n",
    "    color = colors[3]\n",
    "    heatmap = ax.pcolor(data[::-1], cmap=color, alpha=.8, vmin=-0.1,vmax=.8)\n",
    "        \n",
    "    ax.set_xlabel(label,fontsize=30)\n",
    "    plt.setp(ax.get_xticklabels(),visible=False)\n",
    "    plt.setp(ax.get_yticklabels(),visible=False)\n",
    "    \n",
    "    fig.subplots_adjust(right=0.8)\n",
    "    cax = fig.add_axes([0.82, 0.12, 0.02, .78])\n",
    "    fig.colorbar(heatmap, cax=cax)"
   ]
  },
  {
   "cell_type": "code",
   "execution_count": null,
   "metadata": {
    "collapsed": true
   },
   "outputs": [],
   "source": []
  }
 ],
 "metadata": {
  "kernelspec": {
   "display_name": "Python 3",
   "language": "python",
   "name": "python3"
  },
  "language_info": {
   "codemirror_mode": {
    "name": "ipython",
    "version": 3
   },
   "file_extension": ".py",
   "mimetype": "text/x-python",
   "name": "python",
   "nbconvert_exporter": "python",
   "pygments_lexer": "ipython3",
   "version": "3.5.2"
  }
 },
 "nbformat": 4,
 "nbformat_minor": 0
}
