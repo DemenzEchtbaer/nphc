{
 "cells": [
  {
   "cell_type": "code",
   "execution_count": 114,
   "metadata": {
    "collapsed": true
   },
   "outputs": [],
   "source": [
    "import numpy as np\n",
    "import scipy\n",
    "import matplotlib.pyplot as plt\n",
    "%matplotlib inline\n",
    "from pylab import rcParams\n",
    "from mlpp.hawkesnoparam.estim import Estim\n",
    "import mlpp.pp.hawkes as hk\n",
    "import whma.simulation as simu\n",
    "from mlpp.base.utils import TimeFunction\n",
    "from whma.metrics import rel_err, rank_corr, mse_K_partial\n",
    "from whma.cumulants import get_C, get_K_partial"
   ]
  },
  {
   "cell_type": "code",
   "execution_count": 115,
   "metadata": {
    "collapsed": true
   },
   "outputs": [],
   "source": [
    "# simulation of Hawkes processes\n",
    "d = 10\n",
    "mu = 0.0005 * np.ones(d)\n",
    "mus = simu.simulate_mu(d, mu=mu)\n",
    "blocks = [5,5]\n",
    "Alpha_truth = np.zeros((d,d))\n",
    "for i in range(5):\n",
    "    for j in range(5):\n",
    "        if i <= j:\n",
    "            Alpha_truth[i][j] = 1.\n",
    "for i in range(5,10):\n",
    "    for j in range(5,10):\n",
    "        if i >= j:\n",
    "            Alpha_truth[i][j] = 1.\n",
    "Alpha_truth /= 6\n",
    "# add noise\n",
    "#Alpha_truth += 0.01\n",
    "blocks = [5,5]\n",
    "L = []\n",
    "L.append(np.ones((blocks[0],blocks[0])))\n",
    "L.append(np.ones((blocks[1],blocks[1])))\n",
    "Alpha_truth = scipy.linalg.block_diag(*L) / 6\n",
    "# simplest Alpha possible\n",
    "Alpha_truth = np.ones((d,d)) / 15"
   ]
  },
  {
   "cell_type": "code",
   "execution_count": 116,
   "metadata": {
    "collapsed": false
   },
   "outputs": [
    {
     "name": "stdout",
     "output_type": "stream",
     "text": [
      "We have\n",
      "    beta_min =  0.17269388197455343\n",
      "    beta_max =  10.536051565782634\n"
     ]
    }
   ],
   "source": [
    "hMax = 40\n",
    "hDelta = .01\n",
    "from math import log\n",
    "beta_min = log(1000) / hMax\n",
    "beta_max = log(10./9.) / hDelta\n",
    "print(\"We have\")\n",
    "print(\"    beta_min = \",beta_min)\n",
    "print(\"    beta_max = \",beta_max)"
   ]
  },
  {
   "cell_type": "code",
   "execution_count": 117,
   "metadata": {
    "collapsed": true
   },
   "outputs": [],
   "source": [
    "LL = []\n",
    "LL.append(.2*beta_max*np.ones((blocks[0],blocks[0])))\n",
    "LL.append(10.*beta_min*np.ones((blocks[1],blocks[1])))\n",
    "Beta = scipy.linalg.block_diag(*LL)\n",
    "# simplest Beta possible\n",
    "Beta = np.ones((d,d))"
   ]
  },
  {
   "cell_type": "code",
   "execution_count": 118,
   "metadata": {
    "collapsed": false
   },
   "outputs": [
    {
     "name": "stdout",
     "output_type": "stream",
     "text": [
      "0.666666666667\n"
     ]
    }
   ],
   "source": [
    "_, s, _ = np.linalg.svd(Alpha_truth)\n",
    "print(s.max())\n",
    "assert s.max() < 1, \"Alpha_truth cannot generate a stable Hawkes process\""
   ]
  },
  {
   "cell_type": "code",
   "execution_count": 119,
   "metadata": {
    "collapsed": false
   },
   "outputs": [],
   "source": [
    "kernels = [[hk.HawkesKernelExp(a, b) for (a, b) in zip(a_list, b_list)] for (a_list, b_list) in zip(Alpha_truth, Beta)]\n",
    "h = hk.Hawkes(kernels=kernels, mus=list(mus))\n",
    "T_max = 100000000\n",
    "h.simulate(T_max)\n",
    "#estim = Estim(h, n_threads=8, hDelta=hDelta, hMax=hMax, compute_third_moment=True,compute_corr_surf=True,corr_surf_list=[(2,2)])\n",
    "estim = Estim(h, n_threads=8, hDelta=hDelta, hMax=hMax)"
   ]
  },
  {
   "cell_type": "code",
   "execution_count": 120,
   "metadata": {
    "collapsed": false
   },
   "outputs": [
    {
     "name": "stderr",
     "output_type": "stream",
     "text": [
      "/Users/massil/anaconda/envs/py3k/lib/python3.4/site-packages/matplotlib/collections.py:590: FutureWarning: elementwise comparison failed; returning scalar instead, but in the future will perform elementwise comparison\n",
      "  if self._edgecolors == str('face'):\n"
     ]
    },
    {
     "data": {
      "image/png": "[encoded data removed]",
      "text/plain": [
       "<matplotlib.figure.Figure at 0x10af89f60>"
      ]
     },
     "metadata": {},
     "output_type": "display_data"
    }
   ],
   "source": [
    "plt.pcolor(Alpha_truth,cmap=plt.cm.Blues)\n",
    "plt.title(\"Alpha_truth\")\n",
    "plt.colorbar()\n",
    "plt.show()\n",
    "plt.close()\n",
    "#plt.pcolor(np.array(estim.integrals),cmap=plt.cm.Blues)\n",
    "#plt.title(\"integrals\")\n",
    "#plt.colorbar()\n",
    "#plt.show()\n",
    "#plt.close()"
   ]
  },
  {
   "cell_type": "code",
   "execution_count": 121,
   "metadata": {
    "collapsed": false
   },
   "outputs": [],
   "source": [
    "L = np.array(estim.lam)\n",
    "C = get_C(estim)"
   ]
  },
  {
   "cell_type": "code",
   "execution_count": 122,
   "metadata": {
    "collapsed": true
   },
   "outputs": [],
   "source": [
    "def I2_ij(hk,i,j):\n",
    "    res = 0.\n",
    "    if i == j:\n",
    "        res += len(hk.get_full_process()[i]) / (hk.get_full_process()[i][-1]-hk.get_full_process()[i][0])\n",
    "    return res\n",
    "\n",
    "def I1_ij(hk,i,j):\n",
    "    res = 0\n",
    "    u = 0\n",
    "    Z_i = hk.get_full_process()[i]\n",
    "    Z_j = hk.get_full_process()[j]\n",
    "    n_j = len(Z_j)\n",
    "    for tau in Z_i:\n",
    "        while u < n_j and Z_j[u] < tau:\n",
    "            u += 1\n",
    "        res += u\n",
    "    return res\n",
    "\n",
    "def I1_ij_alternatif(hk,i,j):\n",
    "    res = 0\n",
    "    Z_i = hk.get_full_process()[i]\n",
    "    Z_j = hk.get_full_process()[j]\n",
    "    for tau in Z_i:\n",
    "        res += len(Z_j[Z_j<tau])\n",
    "    return res\n",
    "\n",
    "def I3_ij(hk,i,j):\n",
    "    return I1_ij(hk,j,i)"
   ]
  },
  {
   "cell_type": "code",
   "execution_count": 124,
   "metadata": {
    "collapsed": false
   },
   "outputs": [
    {
     "name": "stdout",
     "output_type": "stream",
     "text": [
      "11259803491\n"
     ]
    }
   ],
   "source": [
    "print(I1_ij(h,3,2))\n",
    "#print(I1_ij_alternatif(h,3)) # = 11272892542"
   ]
  },
  {
   "cell_type": "code",
   "execution_count": 125,
   "metadata": {
    "collapsed": true
   },
   "outputs": [],
   "source": [
    "times_i = [1,5,8,12]\n",
    "times_j = [2,3,9,11,14]"
   ]
  },
  {
   "cell_type": "code",
   "execution_count": null,
   "metadata": {
    "collapsed": true
   },
   "outputs": [],
   "source": []
  },
  {
   "cell_type": "code",
   "execution_count": null,
   "metadata": {
    "collapsed": true
   },
   "outputs": [],
   "source": []
  },
  {
   "cell_type": "code",
   "execution_count": null,
   "metadata": {
    "collapsed": true
   },
   "outputs": [],
   "source": []
  },
  {
   "cell_type": "code",
   "execution_count": 204,
   "metadata": {
    "collapsed": false
   },
   "outputs": [],
   "source": [
    "newC = np.zeros((d,d))\n",
    "T = [x[-1]-x[0] for x in h.get_full_process()]\n",
    "Tm = max(T)\n",
    "N = np.array([len(x) for x in h.get_full_process()])\n",
    "for i in range(d):\n",
    "    for j in range(d):\n",
    "        #newC[i,j] = I1_ij(h,i,j) + I3_ij(h,i,j) - N[i]*N[j]\n",
    "        #newC[i,j] = (.5*N[i]*N[j] - I1_ij(h,j,i)) / (T[j]**2)\n",
    "        newC[i,j] = I1_ij(h,i,j) / Tm\n",
    "#newC = newC+newC.T\n",
    "#newC += np.diag(L)\n",
    "#print((newC != 0).any())\n",
    "#newC += np.diag(N)\n",
    "#print((newC != 0).any())\n",
    "newC -= np.einsum('i,j->ij',L,L)*Tm"
   ]
  },
  {
   "cell_type": "code",
   "execution_count": 205,
   "metadata": {
    "collapsed": false
   },
   "outputs": [],
   "source": [
    "#T_ = h.time\n",
    "#print(len(h.get_full_process()[3]) / (h.get_full_process()[3][-1]-h.get_full_process()[3][0]))\n",
    "#print(len(h.get_full_process()[3]) / T_)\n",
    "#print(estim.lam[3])"
   ]
  },
  {
   "cell_type": "code",
   "execution_count": 210,
   "metadata": {
    "collapsed": false
   },
   "outputs": [
    {
     "name": "stdout",
     "output_type": "stream",
     "text": [
      "0.0115484649197\n",
      "0.945333311743\n",
      "0.00271021768541\n"
     ]
    }
   ],
   "source": [
    "from scipy.linalg import inv\n",
    "R_truth = inv(np.eye(d)-Alpha_truth)\n",
    "#np.linalg.norm(C)\n",
    "mat_prod = np.dot(R_truth,np.dot(np.diag(estim.lam),R_truth.T))\n",
    "print(rel_err(mat_prod,C))\n",
    "print(rel_err(mat_prod,newC/Tm+np.diag(L)))\n",
    "print(np.mean(np.diag(mat_prod)))"
   ]
  },
  {
   "cell_type": "code",
   "execution_count": 180,
   "metadata": {
    "collapsed": false
   },
   "outputs": [
    {
     "name": "stderr",
     "output_type": "stream",
     "text": [
      "/Users/massil/anaconda/envs/py3k/lib/python3.4/site-packages/matplotlib/collections.py:590: FutureWarning: elementwise comparison failed; returning scalar instead, but in the future will perform elementwise comparison\n",
      "  if self._edgecolors == str('face'):\n"
     ]
    },
    {
     "data": {
      "image/png": "[encoded data removed]",
      "text/plain": [
       "<matplotlib.figure.Figure at 0x10badb5c0>"
      ]
     },
     "metadata": {},
     "output_type": "display_data"
    }
   ],
   "source": [
    "plt.pcolor(C,cmap=plt.cm.Blues)\n",
    "plt.title(\"Corr\")\n",
    "plt.colorbar()\n",
    "plt.show()\n",
    "plt.close()"
   ]
  },
  {
   "cell_type": "code",
   "execution_count": 15,
   "metadata": {
    "collapsed": true
   },
   "outputs": [],
   "source": [
    "def integrated_cumul_estimator():\n",
    "    pass"
   ]
  },
  {
   "cell_type": "code",
   "execution_count": null,
   "metadata": {
    "collapsed": true
   },
   "outputs": [],
   "source": []
  },
  {
   "cell_type": "code",
   "execution_count": null,
   "metadata": {
    "collapsed": true
   },
   "outputs": [],
   "source": []
  },
  {
   "cell_type": "code",
   "execution_count": null,
   "metadata": {
    "collapsed": true
   },
   "outputs": [],
   "source": []
  },
  {
   "cell_type": "code",
   "execution_count": null,
   "metadata": {
    "collapsed": true
   },
   "outputs": [],
   "source": []
  },
  {
   "cell_type": "code",
   "execution_count": null,
   "metadata": {
    "collapsed": true
   },
   "outputs": [],
   "source": []
  },
  {
   "cell_type": "code",
   "execution_count": null,
   "metadata": {
    "collapsed": true
   },
   "outputs": [],
   "source": []
  },
  {
   "cell_type": "code",
   "execution_count": 16,
   "metadata": {
    "collapsed": false
   },
   "outputs": [
    {
     "ename": "AttributeError",
     "evalue": "'Estim' object has no attribute 'corr_surf_arrays'",
     "output_type": "error",
     "traceback": [
      "\u001b[0;31m---------------------------------------------------------------------------\u001b[0m",
      "\u001b[0;31mAttributeError\u001b[0m                            Traceback (most recent call last)",
      "\u001b[0;32m<ipython-input-16-8b812b6be550>\u001b[0m in \u001b[0;36m<module>\u001b[0;34m()\u001b[0m\n\u001b[0;32m----> 1\u001b[0;31m \u001b[0mtau1\u001b[0m \u001b[0;34m=\u001b[0m \u001b[0mestim\u001b[0m\u001b[0;34m.\u001b[0m\u001b[0mcorr_surf_arrays\u001b[0m\u001b[0;34m[\u001b[0m\u001b[0;36m0\u001b[0m\u001b[0;34m]\u001b[0m\u001b[0;34m[\u001b[0m\u001b[0;36m0\u001b[0m\u001b[0;34m]\u001b[0m\u001b[0;34m\u001b[0m\u001b[0m\n\u001b[0m\u001b[1;32m      2\u001b[0m \u001b[0mtau2\u001b[0m \u001b[0;34m=\u001b[0m \u001b[0mestim\u001b[0m\u001b[0;34m.\u001b[0m\u001b[0mcorr_surf_arrays\u001b[0m\u001b[0;34m[\u001b[0m\u001b[0;36m0\u001b[0m\u001b[0;34m]\u001b[0m\u001b[0;34m[\u001b[0m\u001b[0;36m1\u001b[0m\u001b[0;34m]\u001b[0m\u001b[0;34m\u001b[0m\u001b[0m\n\u001b[1;32m      3\u001b[0m \u001b[0mcorr\u001b[0m \u001b[0;34m=\u001b[0m \u001b[0mestim\u001b[0m\u001b[0;34m.\u001b[0m\u001b[0mcorr_surf_arrays\u001b[0m\u001b[0;34m[\u001b[0m\u001b[0;36m0\u001b[0m\u001b[0;34m]\u001b[0m\u001b[0;34m[\u001b[0m\u001b[0;36m2\u001b[0m\u001b[0;34m]\u001b[0m\u001b[0;34m\u001b[0m\u001b[0m\n",
      "\u001b[0;31mAttributeError\u001b[0m: 'Estim' object has no attribute 'corr_surf_arrays'"
     ]
    }
   ],
   "source": [
    "tau1 = estim.corr_surf_arrays[0][0]\n",
    "tau2 = estim.corr_surf_arrays[0][1]\n",
    "corr = estim.corr_surf_arrays[0][2]"
   ]
  },
  {
   "cell_type": "code",
   "execution_count": null,
   "metadata": {
    "collapsed": false
   },
   "outputs": [],
   "source": [
    "tau1_ = np.array([tau1,tau2])\n",
    "tau2_ = np.array([tau2,tau1])\n",
    "corr_ = np.array([corr,corr])"
   ]
  },
  {
   "cell_type": "code",
   "execution_count": null,
   "metadata": {
    "collapsed": false
   },
   "outputs": [],
   "source": [
    "plt.scatter(tau1_[corr_!=0], tau2_[corr_!=0])\n",
    "plt.show()"
   ]
  },
  {
   "cell_type": "code",
   "execution_count": null,
   "metadata": {
    "collapsed": false
   },
   "outputs": [],
   "source": [
    "def theoretical_third_cumul(L_,C_,R_,index):\n",
    "    i,j,k = index\n",
    "    R_i = R_[i]\n",
    "    R_j = R_[j]\n",
    "    R_k = R_[k]\n",
    "    return np.dot(R_i*R_j,C_[k]) + np.dot(R_i*R_k,C_[j]) + np.dot(R_j*R_k,C_[i]) - 2*np.dot(R_i*R_j*R_k,L_)"
   ]
  },
  {
   "cell_type": "markdown",
   "metadata": {},
   "source": [
    "# What should I do ?\n",
    "\n",
    "## I have currently two ways to estimate the volume: using Riemann and Delaunay\n",
    "\n",
    "## normalize the volume integral to get the expectation\n",
    "\n",
    "## check if it is close to the theoretical formula with R = R_truth"
   ]
  },
  {
   "cell_type": "code",
   "execution_count": null,
   "metadata": {
    "collapsed": false
   },
   "outputs": [],
   "source": [
    "kernels = [[hk.HawkesKernelExp(a, b) for (a, b) in zip(a_list, b_list)] for (a_list, b_list) in zip(Alpha_truth, Beta)]\n",
    "hh = hk.Hawkes(kernels=kernels, mus=list(mus))\n",
    "T_max = 100000\n",
    "hh.simulate(T_max)\n",
    "estimm = Estim(hh, n_threads=8)\n",
    "\n",
    "list_martingale = [np.arange(len(N_i))-estim.lam[i]*N_i for i, N_i in enumerate(hh.get_full_process())]\n",
    "comp_martingale = np.array(list_martingale)\n",
    "plt.rcParams['figure.figsize'] = (20.0, 30.0)\n",
    "f, axes = plt.subplots(10, sharex=True, sharey=True)\n",
    "for i, axi in enumerate(axes):\n",
    "    dMi = np.diff(comp_martingale[i])\n",
    "    axi.hist(dMi,bins=50)\n",
    "f.subplots_adjust(hspace=0)\n",
    "#plt.hist(comp_martingale[5],bins=20)"
   ]
  },
  {
   "cell_type": "code",
   "execution_count": null,
   "metadata": {
    "collapsed": true
   },
   "outputs": [],
   "source": []
  }
 ],
 "metadata": {
  "kernelspec": {
   "display_name": "Python 3",
   "language": "python",
   "name": "python3"
  },
  "language_info": {
   "codemirror_mode": {
    "name": "ipython",
    "version": 3
   },
   "file_extension": ".py",
   "mimetype": "text/x-python",
   "name": "python",
   "nbconvert_exporter": "python",
   "pygments_lexer": "ipython3",
   "version": "3.4.3"
  }
 },
 "nbformat": 4,
 "nbformat_minor": 0
}
