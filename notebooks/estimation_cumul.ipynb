{
 "cells": [
  {
   "cell_type": "code",
   "execution_count": 82,
   "metadata": {
    "collapsed": true
   },
   "outputs": [],
   "source": [
    "import numpy as np\n",
    "import scipy\n",
    "import matplotlib.pyplot as plt\n",
    "%matplotlib inline\n",
    "from pylab import rcParams\n",
    "from mlpp.hawkesnoparam.estim import Estim\n",
    "import mlpp.pp.hawkes as hk\n",
    "from whma.metrics import rel_err, rank_corr, mse_K_part\n",
    "from whma.cumulants import Cumulants, get_C_claw, get_K_th\n",
    "from numba import autojit"
   ]
  },
  {
   "cell_type": "code",
   "execution_count": 83,
   "metadata": {
    "collapsed": true
   },
   "outputs": [],
   "source": [
    "d = 10\n",
    "mus = 0.0005 * np.ones(d)\n",
    "Alpha_true = np.zeros((d,d))\n",
    "Beta = np.zeros((d,d))\n",
    "#Alpha_true = np.ones((d,d)) / 15\n",
    "for i in range(5):\n",
    "    for j in range(5):\n",
    "        if i <= j:\n",
    "            Alpha_true[i][j] = 1.\n",
    "            Beta[i][j] = 10.\n",
    "for i in range(5,10):\n",
    "    for j in range(5,10):\n",
    "        if i >= j:\n",
    "            Alpha_true[i][j] = 1.\n",
    "            Beta[i][j] = 1.\n",
    "Alpha_true /= 6\n",
    "#Alpha_truth = np.ones((d,d)) / 15"
   ]
  },
  {
   "cell_type": "code",
   "execution_count": 84,
   "metadata": {
    "collapsed": false
   },
   "outputs": [
    {
     "name": "stdout",
     "output_type": "stream",
     "text": [
      "0.585556181944\n"
     ]
    }
   ],
   "source": [
    "_, s, _ = np.linalg.svd(Alpha_true)\n",
    "print(s.max())\n",
    "assert s.max() < 1, \"Alpha_true cannot generate a stable Hawkes process\""
   ]
  },
  {
   "cell_type": "code",
   "execution_count": 85,
   "metadata": {
    "collapsed": false
   },
   "outputs": [],
   "source": [
    "kernels = [[hk.HawkesKernelExp(a, b) for (a, b) in zip(a_list, b_list)] for (a_list, b_list) in zip(Alpha_true, Beta)]\n",
    "h = hk.Hawkes(kernels=kernels, mus=list(mus))\n",
    "T_max = 10000000\n",
    "h.simulate(T_max)\n",
    "estim = Estim(h, n_threads=8, hDelta=hDelta, hMax=hMax)"
   ]
  },
  {
   "cell_type": "markdown",
   "metadata": {},
   "source": [
    "## Number of points"
   ]
  },
  {
   "cell_type": "code",
   "execution_count": 86,
   "metadata": {
    "collapsed": false
   },
   "outputs": [
    {
     "name": "stdout",
     "output_type": "stream",
     "text": [
      "i=0     12416\n",
      "i=1     10400\n",
      "i=2     8531\n",
      "i=3     7169\n",
      "i=4     6078\n",
      "i=5     6116\n",
      "i=6     7343\n",
      "i=7     8801\n",
      "i=8     10486\n",
      "i=9     12422\n"
     ]
    }
   ],
   "source": [
    "for i in range(h.dimension):\n",
    "    print(\"i=\"+str(i)+\"     \"+str(len(h.get_full_process()[i])))"
   ]
  },
  {
   "cell_type": "markdown",
   "metadata": {},
   "source": [
    "# the class *Cumulants*"
   ]
  },
  {
   "cell_type": "code",
   "execution_count": 87,
   "metadata": {
    "collapsed": true
   },
   "outputs": [],
   "source": [
    "N = h.get_full_process()\n",
    "cumul = Cumulants(N)"
   ]
  },
  {
   "cell_type": "markdown",
   "metadata": {},
   "source": [
    "### compute useful quantities to estimate the full tensor K"
   ]
  },
  {
   "cell_type": "code",
   "execution_count": 88,
   "metadata": {
    "collapsed": true
   },
   "outputs": [],
   "source": [
    "cumul.compute_all()"
   ]
  },
  {
   "cell_type": "markdown",
   "metadata": {},
   "source": [
    "### compute useful quantities to estimate the full tensor K"
   ]
  },
  {
   "cell_type": "code",
   "execution_count": 89,
   "metadata": {
    "collapsed": true
   },
   "outputs": [],
   "source": [
    "cumul.compute_all_part()"
   ]
  },
  {
   "cell_type": "markdown",
   "metadata": {},
   "source": [
    "### compute theoretical - i.e. depending on $\\Sigma$ and $R_{true}$ - cumulants"
   ]
  },
  {
   "cell_type": "code",
   "execution_count": 90,
   "metadata": {
    "collapsed": false
   },
   "outputs": [],
   "source": [
    "from scipy.linalg import inv\n",
    "R_true = inv(np.eye(d)-Alpha_true)\n",
    "cumul.set_C_th(R_true)\n",
    "cumul.set_K_th(R_true)\n",
    "cumul.set_K_part_th(R_true)"
   ]
  },
  {
   "cell_type": "markdown",
   "metadata": {},
   "source": [
    "# Estimation of C (we also compare with C_from_claw)"
   ]
  },
  {
   "cell_type": "code",
   "execution_count": 91,
   "metadata": {
    "collapsed": false
   },
   "outputs": [
    {
     "name": "stdout",
     "output_type": "stream",
     "text": [
      "0.0174566452799\n"
     ]
    }
   ],
   "source": [
    "C_from_claw = get_C_claw(estim)\n",
    "print(rel_err(cumul.C_th,C_from_claw))"
   ]
  },
  {
   "cell_type": "code",
   "execution_count": 92,
   "metadata": {
    "collapsed": false
   },
   "outputs": [
    {
     "name": "stdout",
     "output_type": "stream",
     "text": [
      "0.017157882074\n"
     ]
    }
   ],
   "source": [
    "print(rel_err(cumul.C_th,cumul.C))"
   ]
  },
  {
   "cell_type": "markdown",
   "metadata": {},
   "source": [
    "# Estimation of K"
   ]
  },
  {
   "cell_type": "code",
   "execution_count": 93,
   "metadata": {
    "collapsed": false
   },
   "outputs": [
    {
     "name": "stdout",
     "output_type": "stream",
     "text": [
      "0.0242954407317\n"
     ]
    }
   ],
   "source": [
    "hMax_ = hMax\n",
    "cumul.compute_F(H=hMax_)\n",
    "cumul.set_K()\n",
    "print(rel_err(cumul.K_th,cumul.K))"
   ]
  },
  {
   "cell_type": "markdown",
   "metadata": {},
   "source": [
    "### Estimation procedure for a smaller $hMax$"
   ]
  },
  {
   "cell_type": "code",
   "execution_count": 94,
   "metadata": {
    "collapsed": false
   },
   "outputs": [
    {
     "name": "stdout",
     "output_type": "stream",
     "text": [
      "0.0218019652571\n"
     ]
    }
   ],
   "source": [
    "hMax_ = hMax*.4\n",
    "cumul.compute_F(H=hMax_)\n",
    "cumul.set_K()\n",
    "print(rel_err(cumul.K_th,cumul.K))"
   ]
  },
  {
   "cell_type": "markdown",
   "metadata": {},
   "source": [
    "# Estimation of K_part"
   ]
  },
  {
   "cell_type": "code",
   "execution_count": 95,
   "metadata": {
    "collapsed": false
   },
   "outputs": [
    {
     "name": "stdout",
     "output_type": "stream",
     "text": [
      "0.0400872834456\n"
     ]
    }
   ],
   "source": [
    "hMax_ = hMax\n",
    "cumul.compute_B(H=hMax_)\n",
    "cumul.set_K_part()\n",
    "print(rel_err(cumul.K_part_th,cumul.K_part))"
   ]
  },
  {
   "cell_type": "markdown",
   "metadata": {},
   "source": [
    "### Estimation procedure for a smaller $hMax$"
   ]
  },
  {
   "cell_type": "code",
   "execution_count": 96,
   "metadata": {
    "collapsed": false
   },
   "outputs": [
    {
     "name": "stdout",
     "output_type": "stream",
     "text": [
      "0.0284253167436\n"
     ]
    }
   ],
   "source": [
    "hMax_ = hMax*.4\n",
    "cumul.compute_B(H=hMax_)\n",
    "cumul.set_K_part()\n",
    "print(rel_err(cumul.K_part_th,cumul.K_part))"
   ]
  },
  {
   "cell_type": "code",
   "execution_count": null,
   "metadata": {
    "collapsed": true
   },
   "outputs": [],
   "source": []
  }
 ],
 "metadata": {
  "kernelspec": {
   "display_name": "Python 3",
   "language": "python",
   "name": "python3"
  },
  "language_info": {
   "codemirror_mode": {
    "name": "ipython",
    "version": 3
   },
   "file_extension": ".py",
   "mimetype": "text/x-python",
   "name": "python",
   "nbconvert_exporter": "python",
   "pygments_lexer": "ipython3",
   "version": "3.4.3"
  }
 },
 "nbformat": 4,
 "nbformat_minor": 0
}
