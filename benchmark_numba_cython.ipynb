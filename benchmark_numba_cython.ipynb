{
 "cells": [
  {
   "cell_type": "code",
   "execution_count": 20,
   "metadata": {},
   "outputs": [],
   "source": [
    "import numpy as np\n",
    "from numba import jit, autojit, double, int32\n",
    "url = 'https://s3-eu-west-1.amazonaws.com/nphc-data/d10_2blocks_sym_with_Beta.pkl.gz'\n",
    "from utils.loader import load_data\n",
    "cumul, Beta = load_data(url)\n",
    "\n",
    "i,j = np.random.randint(0,cumul.dim,2)\n",
    "print(i,j)\n",
    "n = 1e3"
   ]
  },
  {
   "cell_type": "code",
   "execution_count": 1,
   "metadata": {},
   "outputs": [],
   "source": [
    "def A_ij(Z_i,Z_j,a,b,T,L_i,L_j):\n",
    "    \"\"\"\n",
    "\n",
    "    Computes the mean centered number of jumps of N^j between \\tau + a and \\tau + b, that is\n",
    "\n",
    "    \\frac{1}{T} \\sum_{\\tau \\in Z^i} ( N^j_{\\tau + b} - N^j_{\\tau + a} - \\Lambda^j (b - a) )\n",
    "\n",
    "    \"\"\"\n",
    "    res = 0\n",
    "    u = 0\n",
    "    count = 0\n",
    "    n_i = Z_i.shape[0]\n",
    "    n_j = Z_j.shape[0]\n",
    "    for t in range(n_i):\n",
    "        tau = Z_i[t]\n",
    "        if tau + a < 0: continue\n",
    "        while u < n_j:\n",
    "            if Z_j[u] <= tau + a:\n",
    "                u += 1\n",
    "            else:\n",
    "                break\n",
    "        if u == n_j: continue\n",
    "        v = u\n",
    "        while v < n_j:\n",
    "            if Z_j[v] < tau + b:\n",
    "                v += 1\n",
    "            else:\n",
    "                break\n",
    "        if v < n_j:\n",
    "            if u > 0:\n",
    "                count += 1\n",
    "                res += v-u\n",
    "    if count < n_i and count > 0:\n",
    "        res *= n_i * 1. / count\n",
    "    res /= T\n",
    "    res -= (b - a) * L_i * L_j\n",
    "    return res"
   ]
  },
  {
   "cell_type": "code",
   "execution_count": null,
   "metadata": {},
   "outputs": [],
   "source": [
    "#@autojit\n",
    "#@jit(nopython=True)\n",
    "@jit(double(double[:],double[:],int32,int32,double,double,double), nogil=True, nopython=True)\n",
    "def A_ij_numba(Z_i,Z_j,a,b,T,L_i,L_j):\n",
    "    \"\"\"\n",
    "\n",
    "    Computes the mean centered number of jumps of N^j between \\tau + a and \\tau + b, that is\n",
    "\n",
    "    \\frac{1}{T} \\sum_{\\tau \\in Z^i} ( N^j_{\\tau + b} - N^j_{\\tau + a} - \\Lambda^j (b - a) )\n",
    "\n",
    "    \"\"\"\n",
    "    res = 0\n",
    "    u = 0\n",
    "    count = 0\n",
    "    n_i = Z_i.shape[0]\n",
    "    n_j = Z_j.shape[0]\n",
    "    for t in range(n_i):\n",
    "        tau = Z_i[t]\n",
    "        if tau + a < 0: continue\n",
    "        while u < n_j:\n",
    "            if Z_j[u] <= tau + a:\n",
    "                u += 1\n",
    "            else:\n",
    "                break\n",
    "        if u == n_j: continue\n",
    "        v = u\n",
    "        while v < n_j:\n",
    "            if Z_j[v] < tau + b:\n",
    "                v += 1\n",
    "            else:\n",
    "                break\n",
    "        if v < n_j:\n",
    "            if u > 0:\n",
    "                count += 1\n",
    "                res += v-u\n",
    "    if count < n_i and count > 0:\n",
    "        res *= n_i * 1. / count\n",
    "    res /= T\n",
    "    res -= (b - a) * L_i * L_j\n",
    "    return res"
   ]
  },
  {
   "cell_type": "code",
   "execution_count": 21,
   "metadata": {},
   "outputs": [
    {
     "name": "stdout",
     "output_type": "stream",
     "text": [
      "The Cython extension is already loaded. To reload it, use:\n",
      "  %reload_ext Cython\n"
     ]
    }
   ],
   "source": [
    "%load_ext Cython"
   ]
  },
  {
   "cell_type": "code",
   "execution_count": 22,
   "metadata": {},
   "outputs": [
    {
     "name": "stderr",
     "output_type": "stream",
     "text": [
      "/Users/massil/anaconda/envs/py3k/lib/python3.4/site-packages/IPython/utils/path.py:264: UserWarning: get_ipython_cache_dir has moved to the IPython.paths module\n",
      "  warn(\"get_ipython_cache_dir has moved to the IPython.paths module\")\n"
     ]
    }
   ],
   "source": [
    "%%cython \n",
    "\n",
    "import numpy as np\n",
    "cimport numpy as np\n",
    "cimport cython\n",
    "\n",
    "\n",
    "@cython.cdivision(True)\n",
    "@cython.boundscheck(False)\n",
    "@cython.wraparound(False)\n",
    "cpdef double A_ij_cython(double[::1] N_i, double[::1] N_j, double a, double b, double T, double L_i, double L_j):\n",
    "    #cdef np.int32_t u, v, count, n_i, n_j, t\n",
    "    cdef np.intp_t u, v, count, n_i, n_j, t    \n",
    "    cdef double res, tau, tau_plus_a, tau_plus_b, ni_over_count\n",
    "    u = 0\n",
    "    count = 0\n",
    "    n_i = N_i.shape[0]\n",
    "    n_j = N_j.shape[0]\n",
    "    res = 0.\n",
    "    for t in range(n_i):\n",
    "        tau = N_i[t]\n",
    "        tau_plus_a = tau + a\n",
    "        if tau_plus_a < 0: continue\n",
    "        tau_plus_b = tau + b\n",
    "        #if tau_plus_b > T: continue\n",
    "        while u < n_j:\n",
    "            if N_j[u] <= tau_plus_a:\n",
    "                u += 1\n",
    "            else: \n",
    "                break\n",
    "        if u == n_j: continue\n",
    "        v = u\n",
    "        while v < n_j:\n",
    "            if N_j[v] < tau_plus_b:\n",
    "                v += 1\n",
    "            else: \n",
    "                break\n",
    "        if v < n_j:\n",
    "            if u > 0:\n",
    "                count += 1\n",
    "                res += <double>(v-u)\n",
    "    if count == 0:\n",
    "        return - (b - a) * L_i * L_j\n",
    "    else:\n",
    "        if count < n_i:\n",
    "            ni_over_count = <double>n_i/<double>count\n",
    "            res *= ni_over_count\n",
    "        res /= T\n",
    "        res -= (b - a) * L_i * L_j\n",
    "        return res"
   ]
  },
  {
   "cell_type": "code",
   "execution_count": 30,
   "metadata": {},
   "outputs": [
    {
     "name": "stdout",
     "output_type": "stream",
     "text": [
      "100 loops, best of 3: 7.42 ms per loop\n"
     ]
    }
   ],
   "source": [
    "%timeit A_ij(cumul,i,j,0,n)"
   ]
  },
  {
   "cell_type": "code",
   "execution_count": 31,
   "metadata": {},
   "outputs": [
    {
     "name": "stdout",
     "output_type": "stream",
     "text": [
      "100 loops, best of 3: 7.7 ms per loop\n"
     ]
    }
   ],
   "source": [
    "%timeit A_ij_numba(cumul.N[i],cumul.N[j],0,n,cumul.time,cumul.L[i],cumul.L[j])"
   ]
  },
  {
   "cell_type": "code",
   "execution_count": 32,
   "metadata": {},
   "outputs": [
    {
     "name": "stdout",
     "output_type": "stream",
     "text": [
      "100 loops, best of 3: 5.26 ms per loop\n"
     ]
    }
   ],
   "source": [
    "%timeit A_ij_cython(cumul.N[i],cumul.N[j],0,n,cumul.time,cumul.L[i],cumul.L[j])"
   ]
  },
  {
   "cell_type": "code",
   "execution_count": 26,
   "metadata": {},
   "outputs": [],
   "source": [
    "val_1 = A_ij(cumul,i,j,-n,n)\n",
    "val_2 = A_ij_numba(cumul.N[i],cumul.N[j],-n,n,cumul.time,cumul.L[i],cumul.L[j])\n",
    "val_3 = A_ij_cython(cumul.N[i],cumul.N[j],-n,n,cumul.time,cumul.L[i],cumul.L[j])"
   ]
  },
  {
   "cell_type": "code",
   "execution_count": 27,
   "metadata": {},
   "outputs": [
    {
     "name": "stdout",
     "output_type": "stream",
     "text": [
      "0.0202014207966\n",
      "0.02020142079660836\n",
      "0.02020142079660836\n"
     ]
    }
   ],
   "source": [
    "print(val_1)\n",
    "print(val_2)\n",
    "print(val_3)"
   ]
  },
  {
   "cell_type": "code",
   "execution_count": null,
   "metadata": {},
   "outputs": [],
   "source": [
    ""
   ]
  }
 ],
 "metadata": {
  "kernelspec": {
   "display_name": "Python 3",
   "language": "python",
   "name": "python3"
  },
  "language_info": {
   "codemirror_mode": {
    "name": "ipython",
    "version": 3.0
   },
   "file_extension": ".py",
   "mimetype": "text/x-python",
   "name": "python",
   "nbconvert_exporter": "python",
   "pygments_lexer": "ipython3",
   "version": "3.4.4"
  }
 },
 "nbformat": 4,
 "nbformat_minor": 0
}