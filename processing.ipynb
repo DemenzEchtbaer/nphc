{
 "cells": [
  {
   "cell_type": "code",
   "execution_count": 1,
   "metadata": {
    "collapsed": true
   },
   "outputs": [],
   "source": [
    "import numpy as np\n",
    "import pickle, gzip\n",
    "from utils.metrics import rel_err\n",
    "from utils.cumulants import Cumulants\n",
    "\n",
    "def err_plot_cumul(H):\n",
    "    err_C = []\n",
    "    err_K = []\n",
    "    err_K_part = []\n",
    "    logT_arr = np.arange(5,9)\n",
    "    for logT in logT_arr:\n",
    "        filename = 'datasets/plaw_d10_nonsym_log10T{}_with_Beta.pkl.gz'.format(str(logT))\n",
    "        f = gzip.open(filename, 'rb')\n",
    "        data = pickle.load(f)\n",
    "        f.close()\n",
    "        cumul, Beta = data\n",
    "        # Define new Cumulants instance\n",
    "        new_cumul = Cumulants(cumul.N,hMax=H)\n",
    "        new_cumul.set_R_true(cumul.R_true)\n",
    "        new_cumul.set_C_th()\n",
    "        new_cumul.set_K_th()\n",
    "        new_cumul.set_K_part_th()\n",
    "        new_cumul.compute_all(H)\n",
    "        new_cumul.compute_B(H)\n",
    "        new_cumul.set_K_part(H)\n",
    "        \n",
    "        err_C.append(rel_err(new_cumul.C_th,new_cumul.C))\n",
    "        err_K.append(rel_err(new_cumul.K_th,new_cumul.K))\n",
    "        err_K_part.append(rel_err(new_cumul.K_part_th,new_cumul.K_part))\n",
    "    import matplotlib.pyplot as plt\n",
    "    %matplotlib inline\n",
    "    plt.plot(logT_arr,err_C,'r',logT_arr,err_K,'b',logT_arr,err_K_part,'g')\n",
    "    plt.title('hMax = {}'.format(H))\n",
    "    plt.grid(True)\n",
    "    plt.show()"
   ]
  },
  {
   "cell_type": "code",
   "execution_count": null,
   "metadata": {
    "collapsed": true
   },
   "outputs": [],
   "source": [
    "err_plot_cumul(H=40)"
   ]
  }
 ],
 "metadata": {
  "kernelspec": {
   "display_name": "Python 2",
   "language": "python",
   "name": "python2"
  },
  "language_info": {
   "codemirror_mode": {
    "name": "ipython",
    "version": 2
   },
   "file_extension": ".py",
   "mimetype": "text/x-python",
   "name": "python",
   "nbconvert_exporter": "python",
   "pygments_lexer": "ipython2",
   "version": "2.7.11"
  }
 },
 "nbformat": 4,
 "nbformat_minor": 0
}
