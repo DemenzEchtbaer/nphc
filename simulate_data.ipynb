{
 "cells": [
  {
   "cell_type": "code",
   "execution_count": 1,
   "metadata": {
    "collapsed": false
   },
   "outputs": [],
   "source": [
    "import numpy as np\n",
    "import scipy\n",
    "import mlpp.pp.hawkes as hk\n",
    "from mlpp.base.utils import TimeFunction\n",
    "import matplotlib.pyplot as plt\n",
    "%matplotlib inline"
   ]
  },
  {
   "cell_type": "markdown",
   "metadata": {},
   "source": [
    "## Read arguments"
   ]
  },
  {
   "cell_type": "code",
   "execution_count": null,
   "metadata": {
    "collapsed": true
   },
   "outputs": [],
   "source": [
    "import argparse\n"
   ]
  },
  {
   "cell_type": "markdown",
   "metadata": {},
   "source": [
    "## Dataset to simulate "
   ]
  },
  {
   "cell_type": "code",
   "execution_count": 2,
   "metadata": {
    "collapsed": true
   },
   "outputs": [],
   "source": [
    "#mode = 'd10_2blocks_sym'\n",
    "#mode = 'd10_2blocks_nonsym'\n",
    "#mode = 'd100_3blocks_sym'\n",
    "mode = 'd100_3blocks_nonsym'"
   ]
  },
  {
   "cell_type": "markdown",
   "metadata": {},
   "source": [
    "## Major key for exp kernel: \n",
    "### Since hMax=40 encodes the support, we ensure \\beta is not too small for estimation\n",
    "Criterion on exp kernel gives us $\\beta_{\\min}$ such that $$\\exp(-\\mbox{hMax} \\times \\beta_\\min) = 10^{-4}$$"
   ]
  },
  {
   "cell_type": "code",
   "execution_count": 3,
   "metadata": {
    "collapsed": false
   },
   "outputs": [
    {
     "name": "stdout",
     "output_type": "stream",
     "text": [
      "We have\n",
      "    beta_min =  0.17269388197455343\n"
     ]
    }
   ],
   "source": [
    "hMax = 40\n",
    "from math import log\n",
    "beta_min = log(1000) / hMax\n",
    "print(\"We have\")\n",
    "print(\"    beta_min = \",beta_min)"
   ]
  },
  {
   "cell_type": "code",
   "execution_count": 4,
   "metadata": {
    "collapsed": false
   },
   "outputs": [],
   "source": [
    "if mode == 'd10_2blocks_sym':\n",
    "    d = 10\n",
    "    mu = 0.05 * np.ones(d)\n",
    "    blocks = [d/2,d/2]\n",
    "    L = []\n",
    "    L.append(np.ones((blocks[0],blocks[0])))\n",
    "    L.append(2*np.ones((blocks[1],blocks[1])))\n",
    "    Alpha_true = scipy.linalg.block_diag(*L)\n",
    "    LL = []\n",
    "    LL.append(1000*beta_min*np.ones((blocks[0],blocks[0])))\n",
    "    LL.append(10*beta_min*np.ones((blocks[1],blocks[1])))\n",
    "    Beta = scipy.linalg.block_diag(*LL)\n",
    "    # add noise\n",
    "    #Alpha_true += 0.01\n",
    "    #Alpha_true[10,17] += 3.\n",
    "    Alpha_true = .5*(Alpha_true+Alpha_true.T)\n",
    "    Beta = .5*(Beta + Beta.T)\n",
    "    Alpha_true /= 12\n",
    "    \n",
    "elif mode == 'd10_2blocks_nonsym':\n",
    "    d = 10\n",
    "    mu = 0.0005 * np.ones(d)\n",
    "    Alpha_true = np.zeros((d,d))\n",
    "    Beta = np.zeros((d,d))\n",
    "    for i in range(5):\n",
    "        for j in range(5):\n",
    "            if i <= j:\n",
    "                Alpha_true[i][j] = 1.\n",
    "                Beta[i][j] = 50.\n",
    "    for i in range(5,10):\n",
    "        for j in range(5,10):\n",
    "            if i >= j:\n",
    "                Alpha_true[i][j] = 1.\n",
    "                Beta[i][j] = 1.\n",
    "    Alpha_true /= 6\n",
    "    \n",
    "elif mode == 'd100_3blocks_sym':\n",
    "    d = 100\n",
    "    mu = 0.0001 * np.ones(d)\n",
    "    blocks = [d/2,d/2]\n",
    "    L = []\n",
    "    L.append(np.ones((blocks[0],blocks[0])))\n",
    "    L.append(2*np.ones((blocks[1],blocks[1])))\n",
    "    Alpha_true = scipy.linalg.block_diag(*L)\n",
    "    LL = []\n",
    "    LL.append(1000*beta_min*np.ones((blocks[0],blocks[0])))\n",
    "    LL.append(10*beta_min*np.ones((blocks[1],blocks[1])))\n",
    "    Beta = scipy.linalg.block_diag(*LL)\n",
    "    # add noise\n",
    "    #Alpha_true += 0.01\n",
    "    Alpha_true[60:70,10:20] += 3.\n",
    "    Alpha_true = .5*(Alpha_true+Alpha_true.T)\n",
    "    Beta[60:70,10:20] += 100*beta_min\n",
    "    Beta = .5*(Beta + Beta.T)\n",
    "    Alpha_true /= 120\n",
    "    \n",
    "elif mode == 'd100_3blocks_nonsym':\n",
    "    d = 100\n",
    "    mu = 0.0001 * np.ones(d)\n",
    "    Alpha_true = np.zeros((d,d))\n",
    "    Beta = np.zeros((d,d))\n",
    "    for i in range(40):\n",
    "        for j in range(40):\n",
    "            if i <= j:\n",
    "                Alpha_true[i][j] = 1.\n",
    "                Beta[i][j] = 10*beta_min\n",
    "    for i in range(41,60):\n",
    "        for j in range(41,60):\n",
    "            Alpha_true[i][j] = 1.\n",
    "            Beta[i][j] = (100+900*np.random.rand())*100.*beta_min\n",
    "    for i in range(61,100):\n",
    "        for j in range(61,100):\n",
    "            if i >= j:\n",
    "                Alpha_true[i][j] = 1.\n",
    "                Beta[i][j] = 100.*beta_min\n",
    "    Alpha_true /= 30"
   ]
  },
  {
   "cell_type": "code",
   "execution_count": 5,
   "metadata": {
    "collapsed": false
   },
   "outputs": [
    {
     "name": "stderr",
     "output_type": "stream",
     "text": [
      "/Users/massil/anaconda/envs/py3k/lib/python3.4/site-packages/matplotlib/collections.py:590: FutureWarning: elementwise comparison failed; returning scalar instead, but in the future will perform elementwise comparison\n",
      "  if self._edgecolors == str('face'):\n"
     ]
    },
    {
     "data": {
      "image/png": "[encoded data removed]",
      "text/plain": [
       "<matplotlib.figure.Figure at 0x108f36940>"
      ]
     },
     "metadata": {},
     "output_type": "display_data"
    }
   ],
   "source": [
    "plt.pcolor(Alpha_true,cmap=plt.cm.Blues)\n",
    "plt.title(\"Alpha_true\")\n",
    "plt.colorbar()\n",
    "plt.show()\n",
    "plt.close()"
   ]
  },
  {
   "cell_type": "code",
   "execution_count": 6,
   "metadata": {
    "collapsed": false
   },
   "outputs": [
    {
     "name": "stderr",
     "output_type": "stream",
     "text": [
      "/Users/massil/anaconda/envs/py3k/lib/python3.4/site-packages/matplotlib/collections.py:590: FutureWarning: elementwise comparison failed; returning scalar instead, but in the future will perform elementwise comparison\n",
      "  if self._edgecolors == str('face'):\n"
     ]
    },
    {
     "data": {
      "image/png": "[encoded data removed]",
      "text/plain": [
       "<matplotlib.figure.Figure at 0x10901c4a8>"
      ]
     },
     "metadata": {},
     "output_type": "display_data"
    }
   ],
   "source": [
    "eps = 1e-10\n",
    "plt.pcolor(np.log(eps+Beta),cmap=plt.cm.Greens)\n",
    "plt.title(\"Beta\")\n",
    "plt.colorbar()\n",
    "plt.show()\n",
    "plt.close()"
   ]
  },
  {
   "cell_type": "markdown",
   "metadata": {},
   "source": [
    "### Check if $||\\Phi|| = Alpha_{true}$, can generate a stable Hawkes process"
   ]
  },
  {
   "cell_type": "code",
   "execution_count": 53,
   "metadata": {
    "collapsed": false
   },
   "outputs": [
    {
     "name": "stdout",
     "output_type": "stream",
     "text": [
      "0.859490563247\n"
     ]
    }
   ],
   "source": [
    "_, s, _ = np.linalg.svd(Alpha_true)\n",
    "print(s.max())\n",
    "assert s.max() < 1, \"Alpha_true cannot generate a stable Hawkes process\""
   ]
  },
  {
   "cell_type": "markdown",
   "metadata": {},
   "source": [
    "## Simulation of the process"
   ]
  },
  {
   "cell_type": "code",
   "execution_count": 35,
   "metadata": {
    "collapsed": true
   },
   "outputs": [],
   "source": [
    "kernels = [[hk.HawkesKernelExp(a, b) for (a, b) in zip(a_list, b_list)] for (a_list, b_list) in zip(Alpha_true, Beta)]\n",
    "h = hk.Hawkes(kernels=kernels, mus=list(mu))\n",
    "T_max = 100000000\n",
    "h.simulate(T_max)"
   ]
  },
  {
   "cell_type": "markdown",
   "metadata": {},
   "source": [
    "## Use the class Cumulants"
   ]
  },
  {
   "cell_type": "code",
   "execution_count": 43,
   "metadata": {
    "collapsed": true
   },
   "outputs": [],
   "source": [
    "from utils.cumulants import Cumulants\n",
    "N = h.get_full_process()\n",
    "cumul = Cumulants(N,hMax=16)\n",
    "# compute everything\n",
    "cumul.compute_all()\n",
    "from scipy.linalg import inv\n",
    "R_true = inv(np.eye(d)-Alpha_true)\n",
    "cumul.set_R_true(R_true)\n",
    "cumul.set_C_th()\n",
    "cumul.set_K_th()\n",
    "cumul.compute_B()\n",
    "cumul.set_K_part()\n",
    "cumul.set_K_part_th()"
   ]
  },
  {
   "cell_type": "code",
   "execution_count": 44,
   "metadata": {
    "collapsed": false
   },
   "outputs": [
    {
     "name": "stdout",
     "output_type": "stream",
     "text": [
      "0.00168842717643\n",
      "53.2866145284\n",
      "49.2822287248\n"
     ]
    }
   ],
   "source": [
    "from utils.metrics import rel_err\n",
    "print(rel_err(cumul.C_th,cumul.C))\n",
    "print(rel_err(cumul.K_th,cumul.K))\n",
    "print(rel_err(cumul.K_part_th,cumul.K_part))"
   ]
  },
  {
   "cell_type": "code",
   "execution_count": 37,
   "metadata": {
    "collapsed": false
   },
   "outputs": [],
   "source": [
    "with_Beta = True\n",
    "without_N = True\n",
    "\n",
    "if with_Beta and without_N:\n",
    "    cumul.N = None\n",
    "    data = (cumul,Beta)\n",
    "    import gzip, pickle\n",
    "    f = gzip.open('datasets/' + mode + '_with_Beta_without_N.pkl.gz','wb')\n",
    "    pickle.dump(data, f, protocol=2)\n",
    "    f.close()\n",
    "    cumul.N = h.get_full_process()\n",
    "    \n",
    "elif with_Beta and not without_N:\n",
    "    data = (cumul,Beta)\n",
    "    import gzip, pickle\n",
    "    f = gzip.open('datasets/' + mode + '_with_Beta.pkl.gz','wb')\n",
    "    pickle.dump(data, f, protocol=2)\n",
    "    f.close()\n",
    "    \n",
    "elif not with_Beta and without_N:\n",
    "    cumul.N = None\n",
    "    import gzip, pickle\n",
    "    f = gzip.open('datasets/' + mode + '_without_N.pkl.gz','wb')\n",
    "    pickle.dump(cumul, f, protocol=2)\n",
    "    f.close()\n",
    "    cumul.N = h.get_full_process()\n",
    "\n",
    "elif not with_Beta and not without_N:\n",
    "    import gzip, pickle\n",
    "    f = gzip.open('datasets/' + mode + '.pkl.gz','wb')\n",
    "    pickle.dump(cumul, f, protocol=2)\n",
    "    f.close()"
   ]
  },
  {
   "cell_type": "code",
   "execution_count": null,
   "metadata": {
    "collapsed": true
   },
   "outputs": [],
   "source": []
  }
 ],
 "metadata": {
  "kernelspec": {
   "display_name": "Python 2",
   "language": "python",
   "name": "python2"
  },
  "language_info": {
   "codemirror_mode": {
    "name": "ipython",
    "version": 2
   },
   "file_extension": ".py",
   "mimetype": "text/x-python",
   "name": "python",
   "nbconvert_exporter": "python",
   "pygments_lexer": "ipython2",
   "version": "2.7.11"
  }
 },
 "nbformat": 4,
 "nbformat_minor": 0
}
