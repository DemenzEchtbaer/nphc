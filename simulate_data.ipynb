{
 "cells": [
  {
   "cell_type": "code",
   "execution_count": 1,
   "metadata": {
    "collapsed": false
   },
   "outputs": [],
   "source": [
    "import numpy as np\n",
    "import scipy\n",
    "import mlpp.pp.hawkes as hk\n",
    "from mlpp.base.utils import TimeFunction\n",
    "import matplotlib.pyplot as plt\n",
    "%matplotlib inline"
   ]
  },
  {
   "cell_type": "markdown",
   "metadata": {},
   "source": [
    "## Dataset to simulate "
   ]
  },
  {
   "cell_type": "code",
   "execution_count": 12,
   "metadata": {
    "collapsed": false
   },
   "outputs": [],
   "source": [
    "kernel = 'exp'\n",
    "d = 10\n",
    "symmetric = True\n",
    "T = 1e5"
   ]
  },
  {
   "cell_type": "code",
   "execution_count": 13,
   "metadata": {
    "collapsed": false
   },
   "outputs": [],
   "source": [
    "if symmetric:\n",
    "    mode = 'd' + str(d) + '_sym'\n",
    "else:\n",
    "    mode = 'd' + str(d) + '_nonsym'"
   ]
  },
  {
   "cell_type": "markdown",
   "metadata": {},
   "source": [
    "## Major key for exp kernel: \n",
    "### Since hMax=40 encodes the support, we ensure \\beta is not too small for estimation\n",
    "Criterion on exp kernel gives us $\\beta_{\\min}$ such that $$\\exp(-\\mbox{hMax} \\times \\beta_\\min) = 10^{-4}$$"
   ]
  },
  {
   "cell_type": "code",
   "execution_count": 14,
   "metadata": {
    "collapsed": false
   },
   "outputs": [
    {
     "name": "stdout",
     "output_type": "stream",
     "text": [
      "We have\n",
      "    beta_min =  0.17269388197455343\n"
     ]
    }
   ],
   "source": [
    "hMax = 40\n",
    "from math import log\n",
    "beta_min = log(1000) / hMax\n",
    "print(\"We have\")\n",
    "print(\"    beta_min = \",beta_min)"
   ]
  },
  {
   "cell_type": "code",
   "execution_count": 15,
   "metadata": {
    "collapsed": true
   },
   "outputs": [],
   "source": [
    "mode = 'd10_sym'"
   ]
  },
  {
   "cell_type": "code",
   "execution_count": 16,
   "metadata": {
    "collapsed": false
   },
   "outputs": [],
   "source": [
    "if mode == 'd10_sym':\n",
    "    d = 10\n",
    "    mu = 0.0001 * np.ones(d)\n",
    "    Alpha = np.zeros((d,d))\n",
    "    Beta = np.zeros((d,d))\n",
    "    Gamma = np.zeros((d,d))\n",
    "    Alpha[:d/2,:d/2] += 1.\n",
    "    Alpha[d/2:,d/2:] += 1.\n",
    "    Beta[:d/2,:d/2] += 1000*beta_min\n",
    "    Beta[d/2:,d/2:] += 10*beta_min\n",
    "    # add noise\n",
    "    #Alpha += 0.01\n",
    "    Alpha[6:8,:3] += 3.\n",
    "    Beta[6:8,:3] += 100*beta_min\n",
    "    Alpha = .5*(Alpha+Alpha.T)\n",
    "    Gamma = .5*Alpha\n",
    "    Beta = .5*(Beta + Beta.T)\n",
    "    Alpha /= 12\n",
    "\n",
    "elif mode == 'd10_nonsym':\n",
    "    d = 10\n",
    "    mu = 0.0001 * np.ones(d)\n",
    "    Alpha = np.zeros((d,d))\n",
    "    Beta = np.zeros((d,d))\n",
    "    Gamma = np.zeros((d,d))\n",
    "    for i in range(5):\n",
    "        for j in range(5):\n",
    "            if i <= j:\n",
    "                Alpha[i][j] = 1.\n",
    "                Beta[i][j] = 1000*beta_min\n",
    "    for i in range(5,10):\n",
    "        for j in range(5,10):\n",
    "            if i >= j:\n",
    "                Alpha[i][j] = 1.\n",
    "                Beta[i][j] = 10*beta_min\n",
    "    Gamma = .5*Alpha\n",
    "    Alpha /= 6\n",
    "\n",
    "elif mode == 'd100_sym':\n",
    "    d = 100\n",
    "    mu = 0.0001 * np.ones(d)\n",
    "    Alpha = np.zeros((d,d))\n",
    "    Beta = np.zeros((d,d))\n",
    "    Gamma = np.zeros((d,d))\n",
    "    Alpha[:d/2,:d/2] += 1.\n",
    "    Alpha[d/2:,d/2:] += 1.\n",
    "    Beta[:d/2,:d/2] += 1000*beta_min\n",
    "    Beta[d/2:,d/2:] += 10*beta_min\n",
    "    #add noise\n",
    "    #Alpha += 0.01\n",
    "    Alpha[60:70,10:20] += 3.\n",
    "    Alpha = .5*(Alpha+Alpha.T)\n",
    "    Beta[60:70,10:20] += 100*beta_min\n",
    "    Beta = .5*(Beta + Beta.T)\n",
    "    Gamma = .5*Alpha\n",
    "    Alpha /= 120\n",
    "\n",
    "elif mode == 'd100_nonsym':\n",
    "    d = 100\n",
    "    mu = 0.0001 * np.ones(d)\n",
    "    Alpha = np.zeros((d,d))\n",
    "    Beta = np.zeros((d,d))\n",
    "    Gamma = np.zeros((d,d))\n",
    "    for i in range(40):\n",
    "        for j in range(40):\n",
    "            if i <= j:\n",
    "                Alpha[i][j] = 1.\n",
    "                Beta[i][j] = 10*beta_min\n",
    "    for i in range(41,60):\n",
    "        for j in range(41,60):\n",
    "            Alpha[i][j] = 1.\n",
    "            Beta[i][j] = (100+900*np.random.rand())*100.*beta_min\n",
    "    for i in range(61,100):\n",
    "        for j in range(61,100):\n",
    "            if i >= j:\n",
    "                Alpha[i][j] = 1.\n",
    "                Beta[i][j] = 100.*beta_min\n",
    "    Gamma = .5*Alpha\n",
    "    Alpha /= 30"
   ]
  },
  {
   "cell_type": "code",
   "execution_count": 17,
   "metadata": {
    "collapsed": false
   },
   "outputs": [
    {
     "name": "stderr",
     "output_type": "stream",
     "text": [
      "/Users/massil/anaconda/envs/py3k/lib/python3.4/site-packages/matplotlib/collections.py:590: FutureWarning: elementwise comparison failed; returning scalar instead, but in the future will perform elementwise comparison\n",
      "  if self._edgecolors == str('face'):\n"
     ]
    },
    {
     "data": {
      "image/png": "[encoded data removed]",
      "text/plain": [
       "<matplotlib.figure.Figure at 0x10623e5f8>"
      ]
     },
     "metadata": {},
     "output_type": "display_data"
    }
   ],
   "source": [
    "plt.pcolor(Alpha,cmap=plt.cm.Blues)\n",
    "plt.title(\"Alpha\")\n",
    "plt.colorbar()\n",
    "plt.show()\n",
    "plt.close()"
   ]
  },
  {
   "cell_type": "code",
   "execution_count": 18,
   "metadata": {
    "collapsed": false
   },
   "outputs": [
    {
     "name": "stderr",
     "output_type": "stream",
     "text": [
      "/Users/massil/anaconda/envs/py3k/lib/python3.4/site-packages/matplotlib/collections.py:590: FutureWarning: elementwise comparison failed; returning scalar instead, but in the future will perform elementwise comparison\n",
      "  if self._edgecolors == str('face'):\n"
     ]
    },
    {
     "data": {
      "image/png": "[encoded data removed]",
      "text/plain": [
       "<matplotlib.figure.Figure at 0x109238470>"
      ]
     },
     "metadata": {},
     "output_type": "display_data"
    }
   ],
   "source": [
    "eps = 1e-10\n",
    "plt.pcolor(np.log(eps+Beta),cmap=plt.cm.Greens)\n",
    "plt.title(\"Beta\")\n",
    "plt.colorbar()\n",
    "plt.show()\n",
    "plt.close()"
   ]
  },
  {
   "cell_type": "markdown",
   "metadata": {},
   "source": [
    "## Simulation of the process"
   ]
  },
  {
   "cell_type": "markdown",
   "metadata": {},
   "source": [
    "### Design rectangular kernel"
   ]
  },
  {
   "cell_type": "code",
   "execution_count": 19,
   "metadata": {
    "collapsed": true
   },
   "outputs": [],
   "source": [
    "Phi_norm = np.zeros_like(Alpha)\n",
    "\n",
    "if kernel == 'exp':\n",
    "    kernels = [[hk.HawkesKernelExp(a, b) for (a, b) in zip(a_list, b_list)] for (a_list, b_list) in zip(Alpha, Beta)]\n",
    "    Phi_norm = Alpha.copy()\n",
    "\n",
    "elif kernel == 'plaw':\n",
    "    def kernel_plaw(alpha,beta,gamma,support=-1):\n",
    "        \"\"\"\n",
    "        Alternative definition.\n",
    "        phi(t) = alpha * beta / (1 + beta t) ** (1 + gamma)\n",
    "        \"\"\"\n",
    "        if beta > 0:\n",
    "            return hk.HawkesKernelPowerLaw(alpha/(beta**gamma),1./beta,1.+gamma,support)\n",
    "        else:\n",
    "            return hk.HawkesKernelPowerLaw(0.,1.,1.,support)\n",
    "    kernels = [[kernel_plaw(a*g, b, g, -1) for (a, b, g) in zip(a_list, b_list, g_list)] for (a_list, b_list, g_list) in zip(Alpha, Beta, Gamma)]\n",
    "    Phi_norm = Alpha.copy()\n",
    "\n",
    "elif kernel == 'rect':\n",
    "    def kernel_rect(alpha, beta, gamma):\n",
    "        if beta > 0:\n",
    "            T = np.array([0, gamma, gamma + 1./beta ], dtype=float)\n",
    "            Y = np.array([0, alpha*beta,0], dtype=float)\n",
    "            tf = TimeFunction([T, Y], inter_mode=TimeFunction.InterConstRight)\n",
    "            return hk.HawkesKernelTimeFunc(tf)\n",
    "        else:\n",
    "            T = np.array([0, 1, 1.5 ], dtype=float)\n",
    "            Y = np.array([0, 0, 0], dtype=float)\n",
    "            tf = TimeFunction([T, Y], inter_mode=TimeFunction.InterConstRight)\n",
    "            return hk.HawkesKernelTimeFunc(tf)\n",
    "    kernels = [[kernel_rect(a, b, g) for (a, b, g) in zip(a_list, b_list, g_list)] for (a_list, b_list, g_list) in zip(Alpha, Beta, Gamma)]\n",
    "    Phi_norm = Alpha.copy()"
   ]
  },
  {
   "cell_type": "markdown",
   "metadata": {},
   "source": [
    "### Check if $||\\Phi||$, can generate a stable Hawkes process"
   ]
  },
  {
   "cell_type": "code",
   "execution_count": 20,
   "metadata": {
    "collapsed": false
   },
   "outputs": [
    {
     "name": "stdout",
     "output_type": "stream",
     "text": [
      "0.618702408408\n"
     ]
    }
   ],
   "source": [
    "_, s, _ = np.linalg.svd(Phi_norm)\n",
    "print(s.max())\n",
    "assert s.max() < 1, \"Alpha cannot generate a stable Hawkes process\""
   ]
  },
  {
   "cell_type": "code",
   "execution_count": 21,
   "metadata": {
    "collapsed": true
   },
   "outputs": [],
   "source": [
    "h = hk.Hawkes(kernels=kernels, mus=list(mu))\n",
    "h.simulate(T)"
   ]
  },
  {
   "cell_type": "markdown",
   "metadata": {},
   "source": [
    "## Use the class Cumulants"
   ]
  },
  {
   "cell_type": "code",
   "execution_count": 22,
   "metadata": {
    "collapsed": true
   },
   "outputs": [],
   "source": [
    "from utils.cumulants import Cumulants\n",
    "N = h.get_full_process()\n",
    "cumul = Cumulants(N,hMax=16)\n",
    "# compute everything\n",
    "cumul.compute_all()\n",
    "from scipy.linalg import inv\n",
    "R_true = inv(np.eye(d)-Phi_norm)\n",
    "cumul.set_R_true(R_true)\n",
    "cumul.set_C_th()\n",
    "cumul.set_K_th()\n",
    "cumul.compute_B()\n",
    "cumul.set_K_part()\n",
    "cumul.set_K_part_th()"
   ]
  },
  {
   "cell_type": "code",
   "execution_count": 23,
   "metadata": {
    "collapsed": false
   },
   "outputs": [
    {
     "name": "stdout",
     "output_type": "stream",
     "text": [
      "0.525963060918\n",
      "0.679263833733\n",
      "0.592210606293\n"
     ]
    }
   ],
   "source": [
    "from utils.metrics import rel_err\n",
    "print(rel_err(cumul.C_th,cumul.C))\n",
    "print(rel_err(cumul.K_th,cumul.K))\n",
    "print(rel_err(cumul.K_part_th,cumul.K_part))"
   ]
  },
  {
   "cell_type": "code",
   "execution_count": null,
   "metadata": {
    "collapsed": true
   },
   "outputs": [],
   "source": [
    "with_Beta = True\n",
    "without_N = True\n",
    "\n",
    "if with_Beta and without_N:\n",
    "    cumul.N = None\n",
    "    data = (cumul,Beta)\n",
    "    import gzip, pickle\n",
    "    f = gzip.open('datasets/' + mode + '_with_Beta_without_N.pkl.gz','wb')\n",
    "    pickle.dump(data, f, protocol=2)\n",
    "    f.close()\n",
    "    cumul.N = h.get_full_process()\n",
    "    \n",
    "elif with_Beta and not without_N:\n",
    "    data = (cumul,Beta)\n",
    "    import gzip, pickle\n",
    "    f = gzip.open('datasets/' + mode + '_with_Beta.pkl.gz','wb')\n",
    "    pickle.dump(data, f, protocol=2)\n",
    "    f.close()\n",
    "    \n",
    "elif not with_Beta and without_N:\n",
    "    cumul.N = None\n",
    "    import gzip, pickle\n",
    "    f = gzip.open('datasets/' + mode + '_without_N.pkl.gz','wb')\n",
    "    pickle.dump(cumul, f, protocol=2)\n",
    "    f.close()\n",
    "    cumul.N = h.get_full_process()\n",
    "\n",
    "elif not with_Beta and not without_N:\n",
    "    import gzip, pickle\n",
    "    f = gzip.open('datasets/' + mode + '.pkl.gz','wb')\n",
    "    pickle.dump(cumul, f, protocol=2)\n",
    "    f.close()"
   ]
  },
  {
   "cell_type": "code",
   "execution_count": null,
   "metadata": {
    "collapsed": true
   },
   "outputs": [],
   "source": []
  }
 ],
 "metadata": {
  "kernelspec": {
   "display_name": "Python 3",
   "language": "python",
   "name": "python3"
  },
  "language_info": {
   "codemirror_mode": {
    "name": "ipython",
    "version": 3
   },
   "file_extension": ".py",
   "mimetype": "text/x-python",
   "name": "python",
   "nbconvert_exporter": "python",
   "pygments_lexer": "ipython3",
   "version": "3.4.3"
  }
 },
 "nbformat": 4,
 "nbformat_minor": 0
}
