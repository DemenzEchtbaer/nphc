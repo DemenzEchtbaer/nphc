{
 "cells": [
  {
   "cell_type": "code",
   "execution_count": 6,
   "metadata": {
    "collapsed": false
   },
   "outputs": [],
   "source": [
    "import numpy as np\n",
    "import scipy\n",
    "import mlpp.pp.hawkes as hk\n",
    "from mlpp.base.utils import TimeFunction\n",
    "import matplotlib.pyplot as plt\n",
    "%matplotlib inline"
   ]
  },
  {
   "cell_type": "markdown",
   "metadata": {},
   "source": [
    "## Read arguments"
   ]
  },
  {
   "cell_type": "code",
   "execution_count": 2,
   "metadata": {
    "collapsed": false
   },
   "outputs": [
    {
     "name": "stderr",
     "output_type": "stream",
     "text": [
      "usage: __main__.py [-h] [-k {exp,rectangular,powerlaw}] [-d {10,100}]\n",
      "                   [-s {0,1}] [-t {3,4,5,6,7,8}]\n",
      "__main__.py: error: unrecognized arguments: -f /Users/massil/.ipython/profile_default/security/kernel-aad0bea3-c0d4-4c60-b289-bbcfe869f7a8.json --profile-dir /Users/massil/.ipython/profile_default\n"
     ]
    },
    {
     "ename": "SystemExit",
     "evalue": "2",
     "output_type": "error",
     "traceback": [
      "An exception has occurred, use %tb to see the full traceback.\n",
      "\u001b[0;31mSystemExit\u001b[0m\u001b[0;31m:\u001b[0m 2\n"
     ]
    },
    {
     "name": "stderr",
     "output_type": "stream",
     "text": [
      "To exit: use 'exit', 'quit', or Ctrl-D.\n"
     ]
    }
   ],
   "source": [
    "import argparse\n",
    "parser = argparse.ArgumentParser()\n",
    "parser.add_argument(\"-k\",help=\"Choose a kernel among: 'exp', 'rectangular' or 'powerlaw'.\",type=str,choices=['exp','rectangular','powerlaw'])\n",
    "parser.add_argument(\"-d\",help=\"Choose the dimension of the process: 10 or 100.\",type=int,choices=[10,100])\n",
    "parser.add_argument(\"-s\",help=\"Simulate either symmetric (1) or nonsymmetric (0).\",type=int,choices=[0,1])\n",
    "parser.add_argument(\"-t\",help=\"log_10 of the length of the simulation ie '3' gives T=1000\",type=int,choices=[3,4,5,6,7,8])\n",
    "args = parser.parse_args()"
   ]
  },
  {
   "cell_type": "markdown",
   "metadata": {},
   "source": [
    "## Dataset to simulate "
   ]
  },
  {
   "cell_type": "code",
   "execution_count": 3,
   "metadata": {
    "collapsed": false
   },
   "outputs": [
    {
     "ename": "NameError",
     "evalue": "name 'args' is not defined",
     "output_type": "error",
     "traceback": [
      "\u001b[0;31m---------------------------------------------------------------------------\u001b[0m",
      "\u001b[0;31mNameError\u001b[0m                                 Traceback (most recent call last)",
      "\u001b[0;32m<ipython-input-3-6fc57e518c94>\u001b[0m in \u001b[0;36m<module>\u001b[0;34m()\u001b[0m\n\u001b[0;32m----> 1\u001b[0;31m \u001b[0;32mif\u001b[0m \u001b[0margs\u001b[0m\u001b[0;34m.\u001b[0m\u001b[0mk\u001b[0m \u001b[0;32mis\u001b[0m \u001b[0;32mNone\u001b[0m\u001b[0;34m:\u001b[0m\u001b[0;34m\u001b[0m\u001b[0m\n\u001b[0m\u001b[1;32m      2\u001b[0m     \u001b[0mkernel\u001b[0m \u001b[0;34m=\u001b[0m \u001b[0;34m'exp'\u001b[0m\u001b[0;34m\u001b[0m\u001b[0m\n\u001b[1;32m      3\u001b[0m \u001b[0;32melse\u001b[0m\u001b[0;34m:\u001b[0m\u001b[0;34m\u001b[0m\u001b[0m\n\u001b[1;32m      4\u001b[0m     \u001b[0mkernel\u001b[0m \u001b[0;34m=\u001b[0m \u001b[0margs\u001b[0m\u001b[0;34m.\u001b[0m\u001b[0mk\u001b[0m\u001b[0;34m\u001b[0m\u001b[0m\n\u001b[1;32m      5\u001b[0m \u001b[0;34m\u001b[0m\u001b[0m\n",
      "\u001b[0;31mNameError\u001b[0m: name 'args' is not defined"
     ]
    }
   ],
   "source": [
    "if args.k is None:\n",
    "    kernel = 'exp'\n",
    "else:\n",
    "    kernel = args.k\n",
    "    \n",
    "if args.d is None:\n",
    "    d = 10\n",
    "else:\n",
    "    d = args.d\n",
    "    \n",
    "if args.s is None:\n",
    "    symmetric = True\n",
    "else:\n",
    "    symmetric = args.s\n",
    "    \n",
    "if args.t is None:\n",
    "    T = 1e5\n",
    "else:\n",
    "    T = 10**args.t"
   ]
  },
  {
   "cell_type": "code",
   "execution_count": 4,
   "metadata": {
    "collapsed": false
   },
   "outputs": [
    {
     "ename": "NameError",
     "evalue": "name 'symmetric' is not defined",
     "output_type": "error",
     "traceback": [
      "\u001b[0;31m---------------------------------------------------------------------------\u001b[0m",
      "\u001b[0;31mNameError\u001b[0m                                 Traceback (most recent call last)",
      "\u001b[0;32m<ipython-input-4-464c9b73c8f6>\u001b[0m in \u001b[0;36m<module>\u001b[0;34m()\u001b[0m\n\u001b[0;32m----> 1\u001b[0;31m \u001b[0;32mif\u001b[0m \u001b[0msymmetric\u001b[0m\u001b[0;34m:\u001b[0m\u001b[0;34m\u001b[0m\u001b[0m\n\u001b[0m\u001b[1;32m      2\u001b[0m     \u001b[0mmode\u001b[0m \u001b[0;34m=\u001b[0m \u001b[0;34m'd'\u001b[0m \u001b[0;34m+\u001b[0m \u001b[0mstr\u001b[0m\u001b[0;34m(\u001b[0m\u001b[0md\u001b[0m\u001b[0;34m)\u001b[0m \u001b[0;34m+\u001b[0m \u001b[0;34m'_sym'\u001b[0m\u001b[0;34m\u001b[0m\u001b[0m\n\u001b[1;32m      3\u001b[0m \u001b[0;32melse\u001b[0m\u001b[0;34m:\u001b[0m\u001b[0;34m\u001b[0m\u001b[0m\n\u001b[1;32m      4\u001b[0m     \u001b[0mmode\u001b[0m \u001b[0;34m=\u001b[0m \u001b[0;34m'd'\u001b[0m \u001b[0;34m+\u001b[0m \u001b[0mstr\u001b[0m\u001b[0;34m(\u001b[0m\u001b[0md\u001b[0m\u001b[0;34m)\u001b[0m \u001b[0;34m+\u001b[0m \u001b[0;34m'_nonsym'\u001b[0m\u001b[0;34m\u001b[0m\u001b[0m\n",
      "\u001b[0;31mNameError\u001b[0m: name 'symmetric' is not defined"
     ]
    }
   ],
   "source": [
    "if symmetric:\n",
    "    mode = 'd' + str(d) + '_sym'\n",
    "else:\n",
    "    mode = 'd' + str(d) + '_nonsym'"
   ]
  },
  {
   "cell_type": "markdown",
   "metadata": {},
   "source": [
    "## Major key for exp kernel: \n",
    "### Since hMax=40 encodes the support, we ensure \\beta is not too small for estimation\n",
    "Criterion on exp kernel gives us $\\beta_{\\min}$ such that $$\\exp(-\\mbox{hMax} \\times \\beta_\\min) = 10^{-4}$$"
   ]
  },
  {
   "cell_type": "code",
   "execution_count": 2,
   "metadata": {
    "collapsed": false
   },
   "outputs": [
    {
     "name": "stdout",
     "output_type": "stream",
     "text": [
      "We have\n",
      "    beta_min =  0.17269388197455343\n"
     ]
    }
   ],
   "source": [
    "hMax = 40\n",
    "from math import log\n",
    "beta_min = log(1000) / hMax\n",
    "print(\"We have\")\n",
    "print(\"    beta_min = \",beta_min)"
   ]
  },
  {
   "cell_type": "code",
   "execution_count": 3,
   "metadata": {
    "collapsed": true
   },
   "outputs": [],
   "source": [
    "mode = 'd10_sym'"
   ]
  },
  {
   "cell_type": "code",
   "execution_count": 7,
   "metadata": {
    "collapsed": false
   },
   "outputs": [],
   "source": [
    "if mode == 'd10_sym':\n",
    "    d = 10\n",
    "    mu = 0.0001 * np.ones(d)\n",
    "    Alpha = np.zeros((d,d))\n",
    "    Beta = np.zeros((d,d))\n",
    "    Delta = np.zeros((d,d))\n",
    "    Alpha[:d/2,:d/2] += 1.\n",
    "    Alpha[d/2:,d/2:] += 1.\n",
    "    Beta[:d/2,:d/2] += 1000*beta_min\n",
    "    Beta[d/2:,d/2:] += 10*beta_min\n",
    "    # add noise\n",
    "    #Alpha += 0.01\n",
    "    Alpha[6:8,:3] += 3.\n",
    "    Beta[6:8,:3] += 100*beta_min\n",
    "    Alpha = .5*(Alpha+Alpha.T)\n",
    "    Delta = .5*Alpha\n",
    "    Beta = .5*(Beta + Beta.T)\n",
    "    Alpha /= 12\n",
    "    \n",
    "elif mode == 'd10_nonsym':\n",
    "    d = 10\n",
    "    mu = 0.0001 * np.ones(d)\n",
    "    Alpha = np.zeros((d,d))\n",
    "    Beta = np.zeros((d,d))\n",
    "    Delta = np.zeros((d,d))\n",
    "    for i in range(5):\n",
    "        for j in range(5):\n",
    "            if i <= j:\n",
    "                Alpha[i][j] = 1.\n",
    "                Beta[i][j] = 1000*beta_min\n",
    "    for i in range(5,10):\n",
    "        for j in range(5,10):\n",
    "            if i >= j:\n",
    "                Alpha[i][j] = 1.\n",
    "                Beta[i][j] = 10*beta_min\n",
    "    Delta = .5*Alpha\n",
    "    Alpha /= 6\n",
    "    \n",
    "elif mode == 'd100_sym':\n",
    "    d = 100\n",
    "    mu = 0.0001 * np.ones(d)\n",
    "    Alpha = np.zeros((d,d))\n",
    "    Beta = np.zeros((d,d))\n",
    "    Delta = np.zeros((d,d))\n",
    "    Alpha[:d/2,:d/2] += 1.\n",
    "    Alpha[d/2:,d/2:] += 1.\n",
    "    Beta[:d/2,:d/2] += 1000*beta_min\n",
    "    Beta[d/2:,d/2:] += 10*beta_min\n",
    "    #add noise\n",
    "    #Alpha += 0.01\n",
    "    Alpha[60:70,10:20] += 3.\n",
    "    Alpha = .5*(Alpha+Alpha.T)\n",
    "    Beta[60:70,10:20] += 100*beta_min\n",
    "    Beta = .5*(Beta + Beta.T)\n",
    "    Delta = .5*Alpha\n",
    "    Alpha /= 120\n",
    "    \n",
    "elif mode == 'd100_nonsym':\n",
    "    d = 100\n",
    "    mu = 0.0001 * np.ones(d)\n",
    "    Alpha = np.zeros((d,d))\n",
    "    Beta = np.zeros((d,d))\n",
    "    Delta = np.zeros((d,d))\n",
    "    for i in range(40):\n",
    "        for j in range(40):\n",
    "            if i <= j:\n",
    "                Alpha[i][j] = 1.\n",
    "                Beta[i][j] = 10*beta_min\n",
    "    for i in range(41,60):\n",
    "        for j in range(41,60):\n",
    "            Alpha[i][j] = 1.\n",
    "            Beta[i][j] = (100+900*np.random.rand())*100.*beta_min\n",
    "    for i in range(61,100):\n",
    "        for j in range(61,100):\n",
    "            if i >= j:\n",
    "                Alpha[i][j] = 1.\n",
    "                Beta[i][j] = 100.*beta_min\n",
    "    Delta = .5*Alpha\n",
    "    Alpha /= 30"
   ]
  },
  {
   "cell_type": "code",
   "execution_count": 10,
   "metadata": {
    "collapsed": false
   },
   "outputs": [],
   "source": [
    "assert (Beta[Beta > 0] > 1).all(), \"Beta should be greater than 1 to ensure \\phi \\in L_1 for power law kernels.\""
   ]
  },
  {
   "cell_type": "code",
   "execution_count": 15,
   "metadata": {
    "collapsed": false
   },
   "outputs": [
    {
     "name": "stderr",
     "output_type": "stream",
     "text": [
      "/Users/massil/anaconda/envs/py3k/lib/python3.4/site-packages/matplotlib/collections.py:590: FutureWarning: elementwise comparison failed; returning scalar instead, but in the future will perform elementwise comparison\n",
      "  if self._edgecolors == str('face'):\n"
     ]
    },
    {
     "data": {
      "image/png": "[encoded data removed]",
      "text/plain": [
       "<matplotlib.figure.Figure at 0x10947ae10>"
      ]
     },
     "metadata": {},
     "output_type": "display_data"
    }
   ],
   "source": [
    "plt.pcolor(Alpha,cmap=plt.cm.Blues)\n",
    "plt.title(\"Alpha\")\n",
    "plt.colorbar()\n",
    "plt.show()\n",
    "plt.close()"
   ]
  },
  {
   "cell_type": "code",
   "execution_count": 13,
   "metadata": {
    "collapsed": false
   },
   "outputs": [
    {
     "name": "stderr",
     "output_type": "stream",
     "text": [
      "/Users/massil/anaconda/envs/py3k/lib/python3.4/site-packages/matplotlib/collections.py:590: FutureWarning: elementwise comparison failed; returning scalar instead, but in the future will perform elementwise comparison\n",
      "  if self._edgecolors == str('face'):\n"
     ]
    },
    {
     "data": {
      "image/png": "[encoded data removed]",
      "text/plain": [
       "<matplotlib.figure.Figure at 0x1092c62b0>"
      ]
     },
     "metadata": {},
     "output_type": "display_data"
    }
   ],
   "source": [
    "eps = 1e-10\n",
    "plt.pcolor(np.log(eps+Beta),cmap=plt.cm.Greens)\n",
    "plt.title(\"Beta\")\n",
    "plt.colorbar()\n",
    "plt.show()\n",
    "plt.close()"
   ]
  },
  {
   "cell_type": "markdown",
   "metadata": {},
   "source": [
    "## Simulation of the process"
   ]
  },
  {
   "cell_type": "markdown",
   "metadata": {},
   "source": [
    "### Design rectangular kernel"
   ]
  },
  {
   "cell_type": "code",
   "execution_count": null,
   "metadata": {
    "collapsed": true
   },
   "outputs": [],
   "source": []
  },
  {
   "cell_type": "code",
   "execution_count": null,
   "metadata": {
    "collapsed": true
   },
   "outputs": [],
   "source": [
    "Phi_norm = np.zeros_like(Alpha)\n",
    "if kernel == 'exp':\n",
    "    kernels = [[hk.HawkesKernelExp(a, b) for (a, b) in zip(a_list, b_list)] for (a_list, b_list) in zip(Alpha, Beta)]\n",
    "    Phi_norm = Alpha.copy()\n",
    "elif kernel == 'powerlaw':\n",
    "    kernels = [[hk.HawkesKernelPowerLaw(a, d, b, 2000) for (a, b, d) in zip(a_list, b_list, d_list)] for (a_list, b_list, d_list) in zip(Alpha, Beta, Delta)]\n",
    "    Phi_norm = 1./(Beta-1.)*Alpha/(Delta**(Beta-1))\n",
    "elif kernel == 'rectangular':\n",
    "    def kernel_rect(a, d):\n",
    "        T = np.array([0, min(a,d), max(a,d)], dtype=float)\n",
    "        Y = np.array([0, .2,0], dtype=float)\n",
    "        tf = TimeFunction([T, Y], inter_mode=TimeFunction.InterConstRight)\n",
    "        return hk.HawkesKernelTimeFunc(tf)\n",
    "    kernels = [[kernel_rect(a, d) for (a, d) in zip(a_list, d_list)] for (a_list, d_list) in zip(Alpha, Delta)]\n",
    "    Phi_norm = .2*abs(Alpha-Delta)"
   ]
  },
  {
   "cell_type": "markdown",
   "metadata": {},
   "source": [
    "### Check if $||\\Phi|| = Alpha_{true}$, can generate a stable Hawkes process"
   ]
  },
  {
   "cell_type": "code",
   "execution_count": null,
   "metadata": {
    "collapsed": true
   },
   "outputs": [],
   "source": [
    "_, s, _ = np.linalg.svd(Phi_norm)\n",
    "print(s.max())\n",
    "assert s.max() < 1, \"Alpha cannot generate a stable Hawkes process\""
   ]
  },
  {
   "cell_type": "code",
   "execution_count": 35,
   "metadata": {
    "collapsed": true
   },
   "outputs": [],
   "source": [
    "h = hk.Hawkes(kernels=kernels, mus=list(mu))\n",
    "h.simulate(T)"
   ]
  },
  {
   "cell_type": "markdown",
   "metadata": {},
   "source": [
    "## Use the class Cumulants"
   ]
  },
  {
   "cell_type": "code",
   "execution_count": 43,
   "metadata": {
    "collapsed": true
   },
   "outputs": [],
   "source": [
    "from utils.cumulants import Cumulants\n",
    "N = h.get_full_process()\n",
    "cumul = Cumulants(N,hMax=16)\n",
    "# compute everything\n",
    "cumul.compute_all()\n",
    "from scipy.linalg import inv\n",
    "R_true = inv(np.eye(d)-Phi_norm)\n",
    "cumul.set_R_true(R_true)\n",
    "cumul.set_C_th()\n",
    "cumul.set_K_th()\n",
    "cumul.compute_B()\n",
    "cumul.set_K_part()\n",
    "cumul.set_K_part_th()"
   ]
  },
  {
   "cell_type": "code",
   "execution_count": 44,
   "metadata": {
    "collapsed": false
   },
   "outputs": [
    {
     "name": "stdout",
     "output_type": "stream",
     "text": [
      "0.00168842717643\n",
      "53.2866145284\n",
      "49.2822287248\n"
     ]
    }
   ],
   "source": [
    "from utils.metrics import rel_err\n",
    "print(rel_err(cumul.C_th,cumul.C))\n",
    "print(rel_err(cumul.K_th,cumul.K))\n",
    "print(rel_err(cumul.K_part_th,cumul.K_part))"
   ]
  },
  {
   "cell_type": "code",
   "execution_count": 37,
   "metadata": {
    "collapsed": false
   },
   "outputs": [],
   "source": [
    "with_Beta = True\n",
    "without_N = True\n",
    "\n",
    "if with_Beta and without_N:\n",
    "    cumul.N = None\n",
    "    data = (cumul,Beta)\n",
    "    import gzip, pickle\n",
    "    f = gzip.open('datasets/' + mode + '_with_Beta_without_N.pkl.gz','wb')\n",
    "    pickle.dump(data, f, protocol=2)\n",
    "    f.close()\n",
    "    cumul.N = h.get_full_process()\n",
    "    \n",
    "elif with_Beta and not without_N:\n",
    "    data = (cumul,Beta)\n",
    "    import gzip, pickle\n",
    "    f = gzip.open('datasets/' + mode + '_with_Beta.pkl.gz','wb')\n",
    "    pickle.dump(data, f, protocol=2)\n",
    "    f.close()\n",
    "    \n",
    "elif not with_Beta and without_N:\n",
    "    cumul.N = None\n",
    "    import gzip, pickle\n",
    "    f = gzip.open('datasets/' + mode + '_without_N.pkl.gz','wb')\n",
    "    pickle.dump(cumul, f, protocol=2)\n",
    "    f.close()\n",
    "    cumul.N = h.get_full_process()\n",
    "\n",
    "elif not with_Beta and not without_N:\n",
    "    import gzip, pickle\n",
    "    f = gzip.open('datasets/' + mode + '.pkl.gz','wb')\n",
    "    pickle.dump(cumul, f, protocol=2)\n",
    "    f.close()"
   ]
  },
  {
   "cell_type": "code",
   "execution_count": null,
   "metadata": {
    "collapsed": true
   },
   "outputs": [],
   "source": []
  }
 ],
 "metadata": {
  "kernelspec": {
   "display_name": "Python 3",
   "language": "python",
   "name": "python3"
  },
  "language_info": {
   "codemirror_mode": {
    "name": "ipython",
    "version": 3
   },
   "file_extension": ".py",
   "mimetype": "text/x-python",
   "name": "python",
   "nbconvert_exporter": "python",
   "pygments_lexer": "ipython3",
   "version": "3.4.3"
  }
 },
 "nbformat": 4,
 "nbformat_minor": 0
}
