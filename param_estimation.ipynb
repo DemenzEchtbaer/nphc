{
 "cells": [
  {
   "cell_type": "markdown",
   "metadata": {},
   "source": [
    "# Exponential kernel with fixed beta"
   ]
  },
  {
   "cell_type": "code",
   "execution_count": 1,
   "metadata": {
    "collapsed": false
   },
   "outputs": [],
   "source": [
    "from mlpp.pp import Hawkes, HawkesKernelExp\n",
    "import matplotlib.pyplot as plt\n",
    "%matplotlib inline\n",
    "from pylab import rcParams\n",
    "from mlpp.base.utils import TimeFunction\n",
    "import numpy as np\n",
    "\n",
    "from mlpp.optim.model import ModelHawkesFixedBeta\n",
    "from mlpp.optim.solver import Fista\n",
    "from mlpp.optim.prox import ProxZero, ProxPositive\n",
    "\n",
    "from scipy.misc import derivative\n",
    "from scipy.optimize import minimize"
   ]
  },
  {
   "cell_type": "markdown",
   "metadata": {},
   "source": [
    "## MemeTracker"
   ]
  },
  {
   "cell_type": "code",
   "execution_count": 2,
   "metadata": {
    "collapsed": true
   },
   "outputs": [],
   "source": [
    "dir_name = 'datasets/memetracker/top10_1months_start2009-04'"
   ]
  },
  {
   "cell_type": "code",
   "execution_count": 3,
   "metadata": {
    "collapsed": true
   },
   "outputs": [],
   "source": [
    "filename = dir_name+'/process_with_cumul.pkl.gz'\n",
    "import gzip, pickle\n",
    "f = gzip.open(filename,'r')\n",
    "cumul = pickle.load(f,encoding='latin1')\n",
    "f.close()"
   ]
  },
  {
   "cell_type": "code",
   "execution_count": 4,
   "metadata": {
    "collapsed": true
   },
   "outputs": [],
   "source": [
    "f = gzip.open(dir_name+'/true_G.pkl.gz','r')\n",
    "true_G = pickle.load(f)\n",
    "f.close()\n",
    "d = len(true_G)\n",
    "true_G = np.array(true_G).reshape(d,d)"
   ]
  },
  {
   "cell_type": "markdown",
   "metadata": {},
   "source": [
    "## Simple simulation"
   ]
  },
  {
   "cell_type": "code",
   "execution_count": 5,
   "metadata": {
    "collapsed": true
   },
   "outputs": [],
   "source": [
    "url = 'https://s3-eu-west-1.amazonaws.com/nphc-data/d10_2blocks_sym_with_Beta.pkl.gz'\n",
    "from utils.loader import load_data\n",
    "cumul, Beta = load_data(url)"
   ]
  },
  {
   "cell_type": "code",
   "execution_count": null,
   "metadata": {
    "collapsed": false
   },
   "outputs": [],
   "source": [
    "for i, process in enumerate(cumul.N):\n",
    "    model = ModelHawkesFixedBeta(**{'beta':10}).fit(process)\n",
    "    prox = ProxZero()\n",
    "    fi = Fista(max_iter=2000, tol=1e-5, verbose=False).set_model(model).set_prox(prox)\n",
    "    res = fi.solve(np.ones(d))\n",
    "    mu[i] = res[0]\n",
    "    alpha[i,:] = np.ones(d) * res[1]"
   ]
  },
  {
   "cell_type": "code",
   "execution_count": null,
   "metadata": {
    "collapsed": true
   },
   "outputs": [],
   "source": []
  },
  {
   "cell_type": "markdown",
   "metadata": {},
   "source": [
    "## Hawkes creation"
   ]
  },
  {
   "cell_type": "code",
   "execution_count": 5,
   "metadata": {
    "collapsed": false
   },
   "outputs": [
    {
     "name": "stdout",
     "output_type": "stream",
     "text": [
      "mu vector\n",
      "[ 0.5  1. ]\n",
      "\n",
      "kernels matrix\n",
      "[[0.0833333*3*exp(-3*t) 0.166667*3*exp(-3*t)]\n",
      " [0.25*3*exp(-3*t) 0.333333*3*exp(-3*t)]]\n",
      "\n",
      "spectral radius = 0.44769\n"
     ]
    }
   ],
   "source": [
    "beta = 3\n",
    "\n",
    "dim = 2\n",
    "betas = beta*np.ones((dim, dim))\n",
    "alphas = np.arange(1, dim*dim + 1).reshape((dim, dim)) / (dim*dim) / beta\n",
    "mus = np.arange(1, dim + 1) / dim\n",
    "\n",
    "hawkes = Hawkes(alphas=alphas, betas=betas, mus=mus)\n",
    "\n",
    "print(\"mu vector\")\n",
    "print(mus)\n",
    "\n",
    "print(\"\\nkernels matrix\")\n",
    "print(hawkes.kernels)\n",
    "\n",
    "print(\"\\nspectral radius = %g\" % hawkes.spectral_radius())"
   ]
  },
  {
   "cell_type": "markdown",
   "metadata": {},
   "source": [
    "## Hawkes simulation"
   ]
  },
  {
   "cell_type": "code",
   "execution_count": 6,
   "metadata": {
    "collapsed": false
   },
   "outputs": [
    {
     "name": "stdout",
     "output_type": "stream",
     "text": [
      "CPU times: user 32.4 ms, sys: 1.53 ms, total: 33.9 ms\n",
      "Wall time: 33.5 ms\n",
      "\n",
      "number of jumps :\n",
      " - dimension 0 : 17533\n",
      " - dimension 1 : 36308\n"
     ]
    }
   ],
   "source": [
    "run_time = 20000\n",
    "%time hawkes.simulate(run_time)\n",
    "\n",
    "ticks = hawkes.process\n",
    "\n",
    "print(\"\\nnumber of jumps :\")\n",
    "for i in range(dim):\n",
    "    print(\" - dimension %i : %i\" % (i, len(ticks[i])))\n",
    "\n",
    "tot_ticks = hawkes.n_total_jumps"
   ]
  },
  {
   "cell_type": "markdown",
   "metadata": {},
   "source": [
    "## Hawkes estimation"
   ]
  },
  {
   "cell_type": "markdown",
   "metadata": {},
   "source": [
    "### with scipy"
   ]
  },
  {
   "cell_type": "code",
   "execution_count": 9,
   "metadata": {
    "collapsed": false
   },
   "outputs": [
    {
     "name": "stdout",
     "output_type": "stream",
     "text": [
      "CPU times: user 180 ms, sys: 2.84 ms, total: 183 ms\n",
      "Wall time: 185 ms\n",
      "     nit: 16\n",
      "     jac: array([  1.45519152e-03,   1.49157131e-02,   5.19105379e+02,\n",
      "         2.91038305e-03,  -1.81898940e-03,   1.35332812e-01])\n",
      "       x: array([ 0.49879058,  1.00941354,  0.1       ,  0.16130576,  0.24326698,\n",
      "        0.32655375])\n",
      " message: b'CONVERGENCE: REL_REDUCTION_OF_F_<=_FACTR*EPSMCH'\n",
      " success: True\n",
      "    nfev: 147\n",
      "     fun: 29811.210533316775\n",
      "  status: 0\n"
     ]
    }
   ],
   "source": [
    "# In order to ensure positivity of parameters\n",
    "model = ModelHawkesFixedBeta(beta, optimization_level=3).fit(ticks)\n",
    "bnds = [(0.1, None) for _ in range(model.n_coeffs)]\n",
    "%time result = minimize(lambda x: model.loss(x), 1*np.ones(model.n_coeffs), method='L-BFGS-B', bounds=bnds)\n",
    "\n",
    "print(result)"
   ]
  },
  {
   "cell_type": "code",
   "execution_count": 10,
   "metadata": {
    "collapsed": false
   },
   "outputs": [
    {
     "name": "stdout",
     "output_type": "stream",
     "text": [
      "original mu vector\n",
      "[ 0.5  1. ]\n",
      "estimated mu vector\n",
      "[ 0.49879058  1.00941354]\n",
      "\n",
      "original alpha matrix\n",
      "[[ 0.08333333  0.16666667]\n",
      " [ 0.25        0.33333333]]\n",
      "enstimated alpha matrix\n",
      "[[ 0.1         0.16130576]\n",
      " [ 0.24326698  0.32655375]]\n"
     ]
    }
   ],
   "source": [
    "coeffs = result.get('x')\n",
    "print(\"original mu vector\")\n",
    "print(mus)\n",
    "print(\"estimated mu vector\")\n",
    "mus_ = coeffs[0:dim]\n",
    "print(mus_)\n",
    "\n",
    "print(\"\\noriginal alpha matrix\")\n",
    "print(alphas)\n",
    "print(\"enstimated alpha matrix\")\n",
    "alphas_ = coeffs[dim:].reshape((dim, dim))\n",
    "print(alphas_)"
   ]
  },
  {
   "cell_type": "markdown",
   "metadata": {},
   "source": [
    "### with custom Fista algorithm"
   ]
  },
  {
   "cell_type": "code",
   "execution_count": 11,
   "metadata": {
    "collapsed": false
   },
   "outputs": [
    {
     "name": "stdout",
     "output_type": "stream",
     "text": [
      "Launching the solver Fista...\n",
      "  n_iter  |    obj    |    step   |  rel_obj \n",
      "        0 |  4.59e+04 |  1.86e-05 |  3.88e-01\n",
      "       10 |  2.98e+04 |  9.31e-06 |  3.88e-04\n",
      "       20 |  2.98e+04 |  9.31e-06 |  1.69e-07\n",
      "       30 |  2.98e+04 |  4.66e-06 |  1.06e-08\n",
      "       40 |  2.98e+04 |  9.31e-06 |  1.37e-10\n",
      "       50 |  2.98e+04 |  9.31e-06 |  2.34e-12\n",
      "       60 |  2.98e+04 |  9.31e-06 |  1.30e-13\n",
      "Done solving using Fista in 0.33470797538757324 seconds\n"
     ]
    }
   ],
   "source": [
    "model = ModelHawkesFixedBeta(beta, optimization_level=2).fit(ticks)\n",
    "prox = ProxZero()\n",
    "\n",
    "fista = Fista(max_iter=60, print_every=10, y_prox=ProxPositive()).set_model(model).set_prox(prox)\n",
    "fista.params.do_linesearch = True\n",
    "\n",
    "coeffs = fista.solve(1*np.ones(model.n_coeffs), step=1e4)"
   ]
  },
  {
   "cell_type": "code",
   "execution_count": 12,
   "metadata": {
    "collapsed": false
   },
   "outputs": [
    {
     "name": "stdout",
     "output_type": "stream",
     "text": [
      "original mu vector\n",
      "[ 0.5  1. ]\n",
      "estimated mu vector\n",
      "[ 0.50748853  1.00941357]\n",
      "\n",
      "original alpha matrix\n",
      "[[ 0.08333333  0.16666667]\n",
      " [ 0.25        0.33333333]]\n",
      "enstimated alpha matrix\n",
      "[[ 0.0802487   0.16462255]\n",
      " [ 0.24326716  0.32655214]]\n"
     ]
    }
   ],
   "source": [
    "print(\"original mu vector\")\n",
    "print(mus)\n",
    "print(\"estimated mu vector\")\n",
    "mus_ = coeffs[0:dim]\n",
    "print(mus_)\n",
    "\n",
    "print(\"\\noriginal alpha matrix\")\n",
    "print(alphas)\n",
    "print(\"enstimated alpha matrix\")\n",
    "alphas_ = coeffs[dim:].reshape((dim, dim))\n",
    "print(alphas_)"
   ]
  },
  {
   "cell_type": "code",
   "execution_count": 13,
   "metadata": {
    "collapsed": false
   },
   "outputs": [
    {
     "name": "stdout",
     "output_type": "stream",
     "text": [
      "[ 838.65613363  916.13124389  311.7767524   191.51333085  328.50975671\n",
      "  180.02459445]\n",
      "6.1546870711e-08\n",
      "1.75548393599e-08\n",
      "1.88641138266e-08\n",
      "8.49033199302e-09\n",
      "2.27672671826e-08\n",
      "5.334254638e-08\n",
      "----\n",
      "6.1546870711e-08\n",
      "1.75548393599e-08\n",
      "1.88641138266e-08\n",
      "8.49033199302e-09\n",
      "2.27672671826e-08\n",
      "5.334254638e-08\n",
      "----\n",
      "[ 838.65613363  916.13124389  311.7767524   191.51333085  328.50975671\n",
      "  180.02459445]\n",
      "6.1546870711e-08\n",
      "1.75548393599e-08\n",
      "1.88641138266e-08\n",
      "8.49033199302e-09\n",
      "2.27672671826e-08\n",
      "5.334254638e-08\n"
     ]
    }
   ],
   "source": [
    "import numpy as np\n",
    "from scipy.misc import derivative\n",
    "from mlpp.pp.hawkes import Hawkes\n",
    "\n",
    "dim = 2\n",
    "\n",
    "# We ensure our parameters are in a fixed interval in order to have a simulation without too many points\n",
    "alphas = np.random.random((dim, dim)) / 2\n",
    "beta = 3 * np.random.random() + 2\n",
    "betas = beta * np.ones((dim, dim))\n",
    "mus = np.random.random(dim) / 3\n",
    "\n",
    "hawkes = Hawkes(alphas=alphas, betas=betas, mus=mus)\n",
    "run_time = 1000\n",
    "hawkes.simulate(run_time)\n",
    "\n",
    "ticks = hawkes.process\n",
    "\n",
    "\n",
    "model = ModelHawkesFixedBeta(beta, optimization_level=1).fit(ticks)\n",
    "model3 = ModelHawkesFixedBeta(beta, optimization_level=3).fit(ticks)\n",
    "n_params = model.n_coeffs\n",
    "\n",
    "# The vector at which we will compute the gradient\n",
    "picked_coeffs = np.ones(n_params) + np.random.random(n_params)\n",
    "\n",
    "grad_value = model3.grad(picked_coeffs)\n",
    "print(grad_value)\n",
    "\n",
    "# this will be used to create lambda function on the fly\n",
    "def grad_for_coordinate(x: float, coordinate: int, coeffs: np.ndarray):\n",
    "    c = coeffs.copy()\n",
    "    c[coordinate] = x\n",
    "    return model3.loss(c)\n",
    "\n",
    "# because it is hard to know which range will be the right one, we test many of them\n",
    "dx_range = [10.0 ** -i for i in range(0, 13)]\n",
    "for i in range(n_params):\n",
    "    f = lambda x: grad_for_coordinate(x, i, picked_coeffs)\n",
    "    smallest_error = np.inf\n",
    "    for dx in dx_range:\n",
    "        smallest_error = min(smallest_error,\n",
    "                           np.abs(derivative(f, picked_coeffs[i], dx=dx) - grad_value[i]))\n",
    "    print(smallest_error)\n",
    "\n",
    "print('----')\n",
    "# this will be used to create lambda function on the fly\n",
    "def grad_for_coordinate(x: float, coordinate: int, coeffs: np.ndarray):\n",
    "    c = coeffs.copy()\n",
    "    c[coordinate] = x\n",
    "    return model.loss(c)\n",
    "\n",
    "# because it is hard to know which range will be the right one, we test many of them\n",
    "dx_range = [10.0 ** -i for i in range(0, 13)]\n",
    "for i in range(n_params):\n",
    "    f = lambda x: grad_for_coordinate(x, i, picked_coeffs)\n",
    "    smallest_error = np.inf\n",
    "    for dx in dx_range:\n",
    "        smallest_error = min(smallest_error,\n",
    "                           np.abs(derivative(f, picked_coeffs[i], dx=dx) - grad_value[i]))\n",
    "    print(smallest_error)\n",
    "\n",
    "print('----')    \n",
    "grad_value = model.grad(picked_coeffs)\n",
    "print(grad_value)\n",
    "\n",
    "# because it is hard to know which range will be the right one, we test many of them\n",
    "dx_range = [10.0 ** -i for i in range(0, 13)]\n",
    "for i in range(n_params):\n",
    "    f = lambda x: grad_for_coordinate(x, i, picked_coeffs)\n",
    "    smallest_error = np.inf\n",
    "    for dx in dx_range:\n",
    "        smallest_error = min(smallest_error,\n",
    "                           np.abs(derivative(f, picked_coeffs[i], dx=dx) - grad_value[i]))\n",
    "    print(smallest_error)"
   ]
  },
  {
   "cell_type": "code",
   "execution_count": 14,
   "metadata": {
    "collapsed": false
   },
   "outputs": [
    {
     "name": "stdout",
     "output_type": "stream",
     "text": [
      "10000 loops, best of 3: 25.3 µs per loop\n"
     ]
    }
   ],
   "source": [
    "%timeit grad_value = model.grad(picked_coeffs)"
   ]
  },
  {
   "cell_type": "code",
   "execution_count": 15,
   "metadata": {
    "collapsed": false
   },
   "outputs": [
    {
     "name": "stdout",
     "output_type": "stream",
     "text": [
      "10000 loops, best of 3: 25.1 µs per loop\n"
     ]
    }
   ],
   "source": [
    "%timeit grad_value = model3.grad(picked_coeffs)"
   ]
  },
  {
   "cell_type": "code",
   "execution_count": null,
   "metadata": {
    "collapsed": true
   },
   "outputs": [],
   "source": []
  }
 ],
 "metadata": {
  "kernelspec": {
   "display_name": "Python 3",
   "language": "python",
   "name": "python3"
  },
  "language_info": {
   "codemirror_mode": {
    "name": "ipython",
    "version": 3
   },
   "file_extension": ".py",
   "mimetype": "text/x-python",
   "name": "python",
   "nbconvert_exporter": "python",
   "pygments_lexer": "ipython3",
   "version": "3.4.4"
  }
 },
 "nbformat": 4,
 "nbformat_minor": 0
}
