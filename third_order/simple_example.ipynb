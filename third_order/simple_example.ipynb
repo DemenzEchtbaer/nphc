{
 "cells": [
  {
   "cell_type": "code",
   "execution_count": 1,
   "metadata": {
    "collapsed": true
   },
   "outputs": [],
   "source": [
    "require 'torch'\n",
    "require 'optim'\n",
    "require 'nn'\n",
    "\n",
    "\n",
    "-----------------------------------------------------\n",
    "-- We want here to minimize the MSE we make on the \n",
    "-- estimation of integrated third order cumulants\n",
    "-----------------------------------------------------\n",
    "\n",
    "-- dimension of the multivariate Hawkes process\n",
    "local dim = 10\n",
    "\n",
    "-------------------------------\n",
    "-- Define the model to train\n",
    "-------------------------------\n",
    "if opt.network == '' then\n",
    "    -- define model to train\n",
    "    model:add(nn.Reshape(math.pow(dim,3)))\n",
    "    -- other layers\n",
    "end\n",
    "\n",
    "criterion = nn.MSECriterion()\n",
    "\n",
    "\n",
    "\n",
    "\n",
    "---------------------------------------\n",
    "-- preallocate space for gradient\n",
    "local grad = torch.Tensor(dim,dim)\n",
    "\n",
    "-- return function's value and the gradient at a given point x_vec\n",
    "local function feval(x_vec)\n",
    "    -- some stuff to compute f and grad\n",
    "    return f, grad\n",
    "end\n",
    "\n",
    "-- define starting point x\n",
    "local x = torch.Tensor(dim,dim)\n",
    "\n",
    "local state = { learningRate = 1e-5 }\n",
    "\n",
    "-- stop after many iteration\n",
    "local iter = 0\n",
    "while true do\n",
    "    -- optim has multiple functions, such as adagrad, sgd, lbfgs, and others\n",
    "    -- see documentation for more details\n",
    "    optim.adagrad(feval, x, state)\n",
    "    if iter > 100 then break end\n",
    "    iter = iter + 1\n",
    "end"
   ]
  },
  {
   "cell_type": "code",
   "execution_count": 29,
   "metadata": {
    "collapsed": false
   },
   "outputs": [
    {
     "data": {
      "text/plain": [
       " 1\n",
       " 1\n",
       " 1\n",
       " 1\n",
       " 1\n",
       " 1\n",
       " 1\n",
       " 1\n",
       " 1\n",
       " 1\n",
       " 1\n",
       " 1\n",
       " 1\n",
       " 1\n",
       " 1\n",
       " 1\n",
       " 1\n",
       " 1\n",
       " 1\n",
       " 1\n",
       " 1\n",
       " 1\n",
       " 1\n",
       " 1\n",
       " 1\n",
       "[torch.DoubleTensor of size 25]\n",
       "\n"
      ]
     },
     "execution_count": 29,
     "metadata": {},
     "output_type": "execute_result"
    }
   ],
   "source": [
    "require 'nn'\n",
    "\n",
    "local t = torch.Tensor(5,5):fill(1)\n",
    "local u = torch.Tensor(5):fill(1)\n",
    "--print(t)\n",
    "print(nn.Reshape(25):forward(t))"
   ]
  },
  {
   "cell_type": "code",
   "execution_count": null,
   "metadata": {
    "collapsed": true
   },
   "outputs": [],
   "source": []
  }
 ],
 "metadata": {
  "kernelspec": {
   "display_name": "iTorch",
   "language": "lua",
   "name": "itorch"
  },
  "language_info": {
   "name": "lua",
   "version": "20100"
  }
 },
 "nbformat": 4,
 "nbformat_minor": 0
}
