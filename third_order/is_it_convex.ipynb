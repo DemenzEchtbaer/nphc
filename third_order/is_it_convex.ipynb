{
 "cells": [
  {
   "cell_type": "code",
   "execution_count": 165,
   "metadata": {
    "collapsed": true
   },
   "outputs": [],
   "source": [
    "import numpy as np\n",
    "import matplotlib.pyplot as plt\n",
    "%matplotlib inline"
   ]
  },
  {
   "cell_type": "code",
   "execution_count": 166,
   "metadata": {
    "collapsed": true
   },
   "outputs": [],
   "source": [
    "def my_func(R, L, C):\n",
    "    F = np.zeros((d,d,d))\n",
    "    F -= 2*np.einsum('m,im,jm,km',L,R,R,R)\n",
    "    F += np.einsum('im,jm,km->ijk',R,R,C)\n",
    "    F += np.einsum('im,jm,km->ijk',R,C,R)\n",
    "    F += np.einsum('im,jm,km->ijk',C,R,R)\n",
    "    return F"
   ]
  },
  {
   "cell_type": "code",
   "execution_count": 167,
   "metadata": {
    "collapsed": true
   },
   "outputs": [],
   "source": [
    "d = 15\n",
    "Corr = np.random.rand(d**2).reshape(d,d)\n",
    "Corr = 0.5 * (Corr + Corr.T)\n",
    "Lambda = np.random.rand(d)\n",
    "R1 = np.random.rand(d**2).reshape(d,d)\n",
    "R2 = np.random.rand(d**2).reshape(d,d)\n",
    "X = np.arange(0.,1.,0.001)"
   ]
  },
  {
   "cell_type": "code",
   "execution_count": 168,
   "metadata": {
    "collapsed": true
   },
   "outputs": [],
   "source": [
    "#i = np.random.randint(d)\n",
    "#j = np.random.randint(d)\n",
    "#k = np.random.randint(d)\n",
    "alpha = .2\n",
    "f = lambda R: np.sum((my_func(R, Lambda, Corr) - alpha)**2)"
   ]
  },
  {
   "cell_type": "code",
   "execution_count": 169,
   "metadata": {
    "collapsed": true
   },
   "outputs": [],
   "source": [
    "Y = np.array([f(x*R1 + R2) for x in X])\n",
    "#Y1 = np.array([f(x*R1+(1.-x)*R2) for x in X])\n",
    "#Y2 = np.array([x*f(R1)+(1.-x)*f(R2) for x in X])"
   ]
  },
  {
   "cell_type": "code",
   "execution_count": 170,
   "metadata": {
    "collapsed": false
   },
   "outputs": [
    {
     "data": {
      "text/plain": [
       "[<matplotlib.lines.Line2D at 0x113fea7d0>]"
      ]
     },
     "execution_count": 170,
     "metadata": {},
     "output_type": "execute_result"
    },
    {
     "data": {
      "image/png": "[encoded data removed]",
      "text/plain": [
       "<matplotlib.figure.Figure at 0x113cf1710>"
      ]
     },
     "metadata": {},
     "output_type": "display_data"
    }
   ],
   "source": [
    "plt.plot(np.diff(Y,n=2))\n",
    "#plt.plot(X,Y2-Y1)"
   ]
  },
  {
   "cell_type": "code",
   "execution_count": null,
   "metadata": {
    "collapsed": true
   },
   "outputs": [],
   "source": []
  }
 ],
 "metadata": {
  "kernelspec": {
   "display_name": "Python 2",
   "language": "python",
   "name": "python2"
  },
  "language_info": {
   "codemirror_mode": {
    "name": "ipython",
    "version": 2
   },
   "file_extension": ".py",
   "mimetype": "text/x-python",
   "name": "python",
   "nbconvert_exporter": "python",
   "pygments_lexer": "ipython2",
   "version": "2.7.11"
  }
 },
 "nbformat": 4,
 "nbformat_minor": 0
}
