{
 "cells": [
  {
   "cell_type": "code",
   "execution_count": 1,
   "metadata": {
    "collapsed": true
   },
   "outputs": [],
   "source": [
    "import numpy as np\n",
    "import scipy\n",
    "import matplotlib.pyplot as plt\n",
    "%matplotlib inline\n",
    "from pylab import rcParams\n",
    "from mlpp.hawkesnoparam.estim import Estim\n",
    "import mlpp.pp.hawkes as hk\n",
    "import whma.simulation as simu\n",
    "from mlpp.base.utils import TimeFunction\n",
    "from whma.metrics import rel_err, rank_corr"
   ]
  },
  {
   "cell_type": "code",
   "execution_count": 2,
   "metadata": {
    "collapsed": false
   },
   "outputs": [],
   "source": [
    "# simulation of Hawkes processes\n",
    "d = 10\n",
    "mu = 0.005 * np.ones(d)\n",
    "mus = simu.simulate_mu(d, mu=mu)\n",
    "blocks = [5,5]\n",
    "L = []\n",
    "L.append(np.ones((blocks[0],blocks[0])))\n",
    "L.append(2*np.ones((blocks[1],blocks[1])))\n",
    "Alpha_truth = scipy.linalg.block_diag(*L)\n",
    "# add noise\n",
    "Alpha_truth += 0.01\n",
    "Alpha_truth[1,7] += 3.\n",
    "Alpha_truth /= 12"
   ]
  },
  {
   "cell_type": "markdown",
   "metadata": {},
   "source": [
    "## Major key: \n",
    "### Since hMax=40 encodes the support, we ensure \\beta is not too small for estimation\n",
    "We define $\\beta_{\\min}$ and $\\beta_{\\max}$ such that $$\\exp(-\\mbox{hMax} \\times \\beta_\\min) = 10^{-3}$$ $$\\exp(-\\mbox{hDelta} \\times \\beta_\\max) = 0.9$$"
   ]
  },
  {
   "cell_type": "code",
   "execution_count": 3,
   "metadata": {
    "collapsed": false
   },
   "outputs": [
    {
     "name": "stdout",
     "output_type": "stream",
     "text": [
      "We have\n",
      "    beta_min =  0.17269388197455343\n",
      "    beta_max =  10.536051565782634\n"
     ]
    }
   ],
   "source": [
    "hMax = 40\n",
    "hDelta = .01\n",
    "from math import log\n",
    "beta_min = log(1000) / hMax\n",
    "beta_max = log(10./9.) / hDelta\n",
    "print(\"We have\")\n",
    "print(\"    beta_min = \",beta_min)\n",
    "print(\"    beta_max = \",beta_max)"
   ]
  },
  {
   "cell_type": "code",
   "execution_count": 4,
   "metadata": {
    "collapsed": false
   },
   "outputs": [],
   "source": [
    "LL = []\n",
    "LL.append(beta_max*np.ones((blocks[0],blocks[0])))\n",
    "LL.append(beta_min*np.ones((blocks[1],blocks[1])))\n",
    "Beta = scipy.linalg.block_diag(*LL)\n",
    "Beta[1,7] = beta_max"
   ]
  },
  {
   "cell_type": "code",
   "execution_count": 5,
   "metadata": {
    "collapsed": false
   },
   "outputs": [
    {
     "name": "stdout",
     "output_type": "stream",
     "text": [
      "0.846615381309\n"
     ]
    }
   ],
   "source": [
    "_, s, _ = np.linalg.svd(Alpha_truth)\n",
    "print(s.max())\n",
    "assert s.max() < 1, \"Alpha_truth cannot generate a stable Hawkes process\""
   ]
  },
  {
   "cell_type": "code",
   "execution_count": 6,
   "metadata": {
    "collapsed": false
   },
   "outputs": [
    {
     "name": "stderr",
     "output_type": "stream",
     "text": [
      "/Users/massil/anaconda/envs/py3k/lib/python3.4/site-packages/matplotlib/collections.py:590: FutureWarning: elementwise comparison failed; returning scalar instead, but in the future will perform elementwise comparison\n",
      "  if self._edgecolors == str('face'):\n"
     ]
    },
    {
     "data": {
      "image/png": "[encoded data removed]",
      "text/plain": [
       "<matplotlib.figure.Figure at 0x10acb27b8>"
      ]
     },
     "metadata": {},
     "output_type": "display_data"
    },
    {
     "data": {
      "image/png": "[encoded data removed]",
      "text/plain": [
       "<matplotlib.figure.Figure at 0x10addd198>"
      ]
     },
     "metadata": {},
     "output_type": "display_data"
    }
   ],
   "source": [
    "plt.pcolor(Alpha_truth,cmap=plt.cm.Blues)\n",
    "plt.title(\"Alpha_truth\")\n",
    "plt.colorbar()\n",
    "plt.show()\n",
    "plt.close()\n",
    "#plt.pcolor(Beta,cmap=plt.cm.bwr)\n",
    "plt.pcolor(np.log10(1e-10+Beta),cmap=plt.cm.Blues)\n",
    "plt.title(\"Beta\")\n",
    "plt.colorbar()\n",
    "plt.show()\n",
    "plt.close()"
   ]
  },
  {
   "cell_type": "code",
   "execution_count": null,
   "metadata": {
    "collapsed": false
   },
   "outputs": [],
   "source": [
    "kernels = [[hk.HawkesKernelExp(a, b) for (a, b) in zip(a_list, b_list)] for (a_list, b_list) in zip(Alpha_truth, Beta)]\n",
    "h = hk.Hawkes(kernels=kernels, mus=list(mus))\n",
    "T_max = 10000\n",
    "h.simulate(T_max)\n",
    "estim = Estim(h, n_threads=8, hDelta=hDelta, hMax=hMax)"
   ]
  },
  {
   "cell_type": "code",
   "execution_count": null,
   "metadata": {
    "collapsed": false
   },
   "outputs": [],
   "source": [
    "h.plot()"
   ]
  },
  {
   "cell_type": "markdown",
   "metadata": {},
   "source": [
    "## Number of points"
   ]
  },
  {
   "cell_type": "code",
   "execution_count": null,
   "metadata": {
    "collapsed": false
   },
   "outputs": [],
   "source": [
    "for i in range(h.dimension):\n",
    "    print(\"i=\"+str(i)+\"     \"+str(len(h.get_full_process()[i])))"
   ]
  },
  {
   "cell_type": "markdown",
   "metadata": {},
   "source": [
    "## Correlation matrix"
   ]
  },
  {
   "cell_type": "code",
   "execution_count": null,
   "metadata": {
    "collapsed": false
   },
   "outputs": [],
   "source": [
    "from whma.cumulants import get_C\n",
    "Corr = get_C(estim)\n",
    "plt.pcolor(Corr,cmap=plt.cm.Reds)\n",
    "plt.colorbar()\n",
    "plt.show()\n",
    "plt.close()"
   ]
  },
  {
   "cell_type": "markdown",
   "metadata": {},
   "source": [
    "# Estimation procedure"
   ]
  },
  {
   "cell_type": "code",
   "execution_count": null,
   "metadata": {
    "collapsed": true
   },
   "outputs": [],
   "source": [
    "from whma.solver import admm\n",
    "import whma.prox as prox\n",
    "X0 = np.eye(d)\n",
    "#X0 = np.ones(d**2).reshape(d,d)\n",
    "rho = .01\n",
    "maxiter = 10000"
   ]
  },
  {
   "cell_type": "markdown",
   "metadata": {},
   "source": [
    "## objective = squared Frobenius"
   ]
  },
  {
   "cell_type": "code",
   "execution_count": null,
   "metadata": {
    "collapsed": false
   },
   "outputs": [],
   "source": [
    "# main step\n",
    "X_frob = admm(estim, prox.sq_frob, X0, X0, Alpha_truth, rho=rho, maxiter=maxiter)\n",
    "plt.pcolor(X_frob,cmap=plt.cm.Blues)\n",
    "plt.colorbar()\n",
    "plt.show()\n",
    "plt.close()"
   ]
  },
  {
   "cell_type": "markdown",
   "metadata": {},
   "source": [
    "## objective = \\ell_1 norm"
   ]
  },
  {
   "cell_type": "code",
   "execution_count": null,
   "metadata": {
    "collapsed": false
   },
   "outputs": [],
   "source": [
    "# main step\n",
    "X_l1 = admm(estim, prox.l1, X0, X0, Alpha_truth, rho=rho, maxiter=maxiter)\n",
    "plt.pcolor(X_l1,cmap=plt.cm.Blues)\n",
    "plt.colorbar()\n",
    "plt.show()\n",
    "plt.close()"
   ]
  },
  {
   "cell_type": "markdown",
   "metadata": {},
   "source": [
    "## objective = nuclear norm"
   ]
  },
  {
   "cell_type": "code",
   "execution_count": null,
   "metadata": {
    "collapsed": false
   },
   "outputs": [],
   "source": [
    "# main step\n",
    "X_nuc = admm(estim, prox.nuclear, X0, X0, Alpha_truth, rho=rho, maxiter=maxiter)\n",
    "plt.pcolor(X_nuc,cmap=plt.cm.Blues)\n",
    "plt.colorbar()\n",
    "plt.show()\n",
    "plt.close()"
   ]
  },
  {
   "cell_type": "code",
   "execution_count": null,
   "metadata": {
    "collapsed": false,
    "scrolled": true
   },
   "outputs": [],
   "source": [
    "import pandas as pd\n",
    "cols = ['RelErr', 'RankCorr', 'true HF', 'mean norm HF', 'true LF', 'mean norm LF', 'std HF', 'std LF', 'noise', 'mean noise']\n",
    "index = ['frobenius', '\\ell_1', 'nuclear norm']\n",
    "results = np.zeros((3,10))\n",
    "for i, X in enumerate([X_frob, X_l1, X_nuc]):\n",
    "    results[i][0] = rel_err(Alpha_truth, X)\n",
    "    results[i][1] = rank_corr(Alpha_truth, X)\n",
    "    results[i][2] = Alpha_truth[0,0]\n",
    "    results[i][3] = np.mean(X[:5,:5])\n",
    "    results[i][4] = Alpha_truth[5,5]\n",
    "    results[i][5] = np.mean(X[5:,5:])\n",
    "    results[i][6] = np.std(X[:5,:5])\n",
    "    results[i][7] = np.std(X[5:,5:])\n",
    "    results[i][8] = Alpha_truth[0,9]\n",
    "    results[i][9] = 0.5*(np.mean(X[:5,5:])+np.mean(X[5:,:5]))\n",
    "df = pd.DataFrame(results, index=index, columns=cols)\n",
    "df"
   ]
  },
  {
   "cell_type": "code",
   "execution_count": null,
   "metadata": {
    "collapsed": true
   },
   "outputs": [],
   "source": []
  }
 ],
 "metadata": {
  "kernelspec": {
   "display_name": "Python 3",
   "language": "python",
   "name": "python3"
  },
  "language_info": {
   "codemirror_mode": {
    "name": "ipython",
    "version": 3
   },
   "file_extension": ".py",
   "mimetype": "text/x-python",
   "name": "python",
   "nbconvert_exporter": "python",
   "pygments_lexer": "ipython3",
   "version": "3.4.3"
  }
 },
 "nbformat": 4,
 "nbformat_minor": 0
}
