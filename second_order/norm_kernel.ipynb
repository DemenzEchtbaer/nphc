{
 "cells": [
  {
   "cell_type": "markdown",
   "metadata": {},
   "source": [
    "We can prove that under assumption $ (H): \\rho(|| \\Phi ||) < 1, $ the norm kernel matrix satisfies the following equation $$ (C): || \\Phi || = I - \\Sigma^{1/2} M || c ||^{-1/2} \\mbox{ with } M \\in O_d (R) \\mbox{ and } \\int_0^\\infty \\phi^{ij} \\ge 0$$"
   ]
  },
  {
   "cell_type": "markdown",
   "metadata": {},
   "source": [
    "# Simulation of the Hawkes process with $d$=10"
   ]
  },
  {
   "cell_type": "code",
   "execution_count": 7,
   "metadata": {
    "collapsed": false
   },
   "outputs": [],
   "source": [
    "import numpy as np\n",
    "import scipy\n",
    "import matplotlib.pyplot as plt\n",
    "%matplotlib inline\n",
    "from pylab import rcParams\n",
    "from mlpp.hawkesnoparam.estim import Estim\n",
    "import mlpp.pp.hawkes as hk\n",
    "import whma.simulation as simu\n",
    "from mlpp.base.utils import TimeFunction\n",
    "from whma.metrics import rel_err, rank_corr"
   ]
  },
  {
   "cell_type": "code",
   "execution_count": 8,
   "metadata": {
    "collapsed": false
   },
   "outputs": [],
   "source": [
    "# simulation of Hawkes processes\n",
    "d = 20\n",
    "mu = 0.5 * np.ones(d)\n",
    "mus = simu.simulate_mu(d, mu=mu)\n",
    "blocks = [5,5,10]\n",
    "L = []\n",
    "for x in blocks:\n",
    "    L.append(np.random.rand(x, x))\n",
    "Alpha_truth = scipy.linalg.block_diag(*L) / 6\n",
    "# add noise\n",
    "Alpha_truth += 0.01\n",
    "Beta = np.random.rand(d**2).reshape((d,d))"
   ]
  },
  {
   "cell_type": "code",
   "execution_count": 9,
   "metadata": {
    "collapsed": true
   },
   "outputs": [],
   "source": [
    "#Alpha_truth[2,8] += 0.2"
   ]
  },
  {
   "cell_type": "code",
   "execution_count": 10,
   "metadata": {
    "collapsed": false
   },
   "outputs": [
    {
     "name": "stderr",
     "output_type": "stream",
     "text": [
      "/Users/massil/anaconda/envs/py3k/lib/python3.4/site-packages/matplotlib/collections.py:590: FutureWarning: elementwise comparison failed; returning scalar instead, but in the future will perform elementwise comparison\n",
      "  if self._edgecolors == str('face'):\n"
     ]
    },
    {
     "data": {
      "image/png": "[encoded data removed]",
      "text/plain": [
       "<matplotlib.figure.Figure at 0x10afd7ba8>"
      ]
     },
     "metadata": {},
     "output_type": "display_data"
    }
   ],
   "source": [
    "plt.pcolor(Alpha_truth[::-1],cmap=plt.cm.Blues)\n",
    "plt.show()\n",
    "plt.close()"
   ]
  },
  {
   "cell_type": "code",
   "execution_count": 11,
   "metadata": {
    "collapsed": false
   },
   "outputs": [
    {
     "name": "stdout",
     "output_type": "stream",
     "text": [
      "0.946283549401\n"
     ]
    }
   ],
   "source": [
    "_, s, _ = np.linalg.svd(Alpha_truth)\n",
    "print(s.max())\n",
    "assert s.max() < 1, \"Alpha_truth cannot generate a stable Hawkes process\""
   ]
  },
  {
   "cell_type": "code",
   "execution_count": 12,
   "metadata": {
    "collapsed": false
   },
   "outputs": [],
   "source": [
    "kernels = [[hk.HawkesKernelExp(a, b) for (a, b) in zip(a_list, b_list)] for (a_list, b_list) in zip(Alpha_truth, Beta)]\n",
    "h = hk.Hawkes(kernels=kernels, mus=list(mus))\n",
    "h.simulate(10000)\n",
    "estim = Estim(h, n_threads=8)"
   ]
  },
  {
   "cell_type": "markdown",
   "metadata": {},
   "source": [
    "## Correlation matrix"
   ]
  },
  {
   "cell_type": "code",
   "execution_count": 13,
   "metadata": {
    "collapsed": false
   },
   "outputs": [],
   "source": [
    "from whma.cumulants import get_C\n",
    "Corr = get_C(estim)"
   ]
  },
  {
   "cell_type": "code",
   "execution_count": 14,
   "metadata": {
    "collapsed": false
   },
   "outputs": [
    {
     "name": "stderr",
     "output_type": "stream",
     "text": [
      "/Users/massil/anaconda/envs/py3k/lib/python3.4/site-packages/matplotlib/collections.py:590: FutureWarning: elementwise comparison failed; returning scalar instead, but in the future will perform elementwise comparison\n",
      "  if self._edgecolors == str('face'):\n"
     ]
    },
    {
     "data": {
      "image/png": "[encoded data removed]",
      "text/plain": [
       "<matplotlib.figure.Figure at 0x106228a58>"
      ]
     },
     "metadata": {},
     "output_type": "display_data"
    }
   ],
   "source": [
    "plt.pcolor(Corr[::-1],cmap=plt.cm.Reds)\n",
    "plt.show()\n",
    "plt.close()"
   ]
  },
  {
   "cell_type": "markdown",
   "metadata": {},
   "source": [
    "# Estimation procedure"
   ]
  },
  {
   "cell_type": "code",
   "execution_count": 15,
   "metadata": {
    "collapsed": false
   },
   "outputs": [],
   "source": [
    "from whma.solver import admm\n",
    "import whma.prox as prox\n",
    "X0 = np.eye(d)\n",
    "#X0 = np.ones(d**2).reshape(d,d)\n",
    "rho = 0.001\n",
    "maxiter = 10000"
   ]
  },
  {
   "cell_type": "markdown",
   "metadata": {},
   "source": [
    "## objective = squared Frobenius"
   ]
  },
  {
   "cell_type": "code",
   "execution_count": 16,
   "metadata": {
    "collapsed": false
   },
   "outputs": [
    {
     "name": "stdout",
     "output_type": "stream",
     "text": [
      "||X1 - X_2|| =  3.78708844721e-08\n",
      "||X2 - X_3|| =  1.05318221528e-15\n",
      "||U1|| =  0.0053695746773\n",
      "||U2|| =  0.000346408643773\n",
      "||U3|| =  8.72525784786e-15\n",
      "||U4|| =  0.00206089994428\n",
      "||U5|| =  0.000845495712471\n"
     ]
    }
   ],
   "source": [
    "# main step\n",
    "X_frob = admm(estim, prox.sq_frob, X0, X0, Alpha_truth, rho=rho, maxiter=maxiter)"
   ]
  },
  {
   "cell_type": "code",
   "execution_count": 17,
   "metadata": {
    "collapsed": false
   },
   "outputs": [
    {
     "name": "stderr",
     "output_type": "stream",
     "text": [
      "/Users/massil/anaconda/envs/py3k/lib/python3.4/site-packages/matplotlib/collections.py:590: FutureWarning: elementwise comparison failed; returning scalar instead, but in the future will perform elementwise comparison\n",
      "  if self._edgecolors == str('face'):\n"
     ]
    },
    {
     "data": {
      "image/png": "[encoded data removed]",
      "text/plain": [
       "<matplotlib.figure.Figure at 0x10c20feb8>"
      ]
     },
     "metadata": {},
     "output_type": "display_data"
    }
   ],
   "source": [
    "plt.pcolor(X_frob[::-1],cmap=plt.cm.Blues)\n",
    "plt.show()\n",
    "plt.close()"
   ]
  },
  {
   "cell_type": "code",
   "execution_count": 18,
   "metadata": {
    "collapsed": false
   },
   "outputs": [
    {
     "name": "stdout",
     "output_type": "stream",
     "text": [
      "RelErr =  0.821870130738\n",
      "RankCorr =  0.301709329845\n"
     ]
    }
   ],
   "source": [
    "print(\"RelErr = \", rel_err(Alpha_truth, X_frob))\n",
    "print(\"RankCorr = \", rank_corr(Alpha_truth, X_frob))"
   ]
  },
  {
   "cell_type": "markdown",
   "metadata": {},
   "source": [
    "## objective = \\ell_1 norm"
   ]
  },
  {
   "cell_type": "code",
   "execution_count": 19,
   "metadata": {
    "collapsed": false
   },
   "outputs": [
    {
     "name": "stdout",
     "output_type": "stream",
     "text": [
      "||X1 - X_2|| =  2.30778061626e-07\n",
      "||X2 - X_3|| =  2.33657270476e-07\n",
      "||U1|| =  0.0737698662898\n",
      "||U2|| =  0.00475423847262\n",
      "||U3|| =  0.00054060946899\n",
      "||U4|| =  0.0342616923639\n",
      "||U5|| =  0.0103253312385\n"
     ]
    }
   ],
   "source": [
    "# main step\n",
    "X_l1 = admm(estim, prox.l1, X0, X0, Alpha_truth, rho=rho, maxiter=maxiter)"
   ]
  },
  {
   "cell_type": "code",
   "execution_count": 20,
   "metadata": {
    "collapsed": false
   },
   "outputs": [
    {
     "name": "stderr",
     "output_type": "stream",
     "text": [
      "/Users/massil/anaconda/envs/py3k/lib/python3.4/site-packages/matplotlib/collections.py:590: FutureWarning: elementwise comparison failed; returning scalar instead, but in the future will perform elementwise comparison\n",
      "  if self._edgecolors == str('face'):\n"
     ]
    },
    {
     "data": {
      "image/png": "[encoded data removed]",
      "text/plain": [
       "<matplotlib.figure.Figure at 0x10c55a8d0>"
      ]
     },
     "metadata": {},
     "output_type": "display_data"
    }
   ],
   "source": [
    "plt.pcolor(X_l1[::-1],cmap=plt.cm.Blues)\n",
    "plt.show()\n",
    "plt.close()"
   ]
  },
  {
   "cell_type": "code",
   "execution_count": 21,
   "metadata": {
    "collapsed": false
   },
   "outputs": [
    {
     "name": "stdout",
     "output_type": "stream",
     "text": [
      "RelErr =  1.18928578254\n",
      "RankCorr =  0.244319393272\n"
     ]
    }
   ],
   "source": [
    "print(\"RelErr = \", rel_err(Alpha_truth, X_l1))\n",
    "print(\"RankCorr = \", rank_corr(Alpha_truth, X_l1))"
   ]
  },
  {
   "cell_type": "markdown",
   "metadata": {},
   "source": [
    "## objective = nuclear norm"
   ]
  },
  {
   "cell_type": "code",
   "execution_count": 22,
   "metadata": {
    "collapsed": false
   },
   "outputs": [
    {
     "name": "stdout",
     "output_type": "stream",
     "text": [
      "||X1 - X_2|| =  4.68457831693e-10\n",
      "||X2 - X_3|| =  1.61288955093e-15\n",
      "||U1|| =  0.0174969210627\n",
      "||U2|| =  0.00461494621049\n",
      "||U3|| =  1.20813819141e-15\n",
      "||U4|| =  0.00822977108543\n",
      "||U5|| =  0.00633153629045\n"
     ]
    }
   ],
   "source": [
    "# main step\n",
    "X_nuc = admm(estim, prox.nuclear, X0, X0, Alpha_truth, rho=rho, maxiter=maxiter)"
   ]
  },
  {
   "cell_type": "code",
   "execution_count": 23,
   "metadata": {
    "collapsed": false
   },
   "outputs": [
    {
     "name": "stderr",
     "output_type": "stream",
     "text": [
      "/Users/massil/anaconda/envs/py3k/lib/python3.4/site-packages/matplotlib/collections.py:590: FutureWarning: elementwise comparison failed; returning scalar instead, but in the future will perform elementwise comparison\n",
      "  if self._edgecolors == str('face'):\n"
     ]
    },
    {
     "data": {
      "image/png": "[encoded data removed]",
      "text/plain": [
       "<matplotlib.figure.Figure at 0x10b694e48>"
      ]
     },
     "metadata": {},
     "output_type": "display_data"
    }
   ],
   "source": [
    "plt.pcolor(X_nuc[::-1],cmap=plt.cm.Blues)\n",
    "plt.show()\n",
    "plt.close()"
   ]
  },
  {
   "cell_type": "code",
   "execution_count": 24,
   "metadata": {
    "collapsed": false
   },
   "outputs": [
    {
     "name": "stdout",
     "output_type": "stream",
     "text": [
      "RelErr =  0.975854196018\n",
      "RankCorr =  0.307022514547\n"
     ]
    }
   ],
   "source": [
    "print(\"RelErr = \", rel_err(Alpha_truth, X_nuc))\n",
    "print(\"RankCorr = \", rank_corr(Alpha_truth, X_nuc))"
   ]
  },
  {
   "cell_type": "markdown",
   "metadata": {
    "collapsed": true
   },
   "source": [
    "## method = matrix Riccati equation"
   ]
  },
  {
   "cell_type": "code",
   "execution_count": 25,
   "metadata": {
    "collapsed": false
   },
   "outputs": [
    {
     "ename": "ImportError",
     "evalue": "No module named 'whma.utils'",
     "output_type": "error",
     "traceback": [
      "\u001b[0;31m---------------------------------------------------------------------------\u001b[0m",
      "\u001b[0;31mImportError\u001b[0m                               Traceback (most recent call last)",
      "\u001b[0;32m<ipython-input-25-fa39e18f9f1e>\u001b[0m in \u001b[0;36m<module>\u001b[0;34m()\u001b[0m\n\u001b[1;32m      1\u001b[0m \u001b[0;32mfrom\u001b[0m \u001b[0mscipy\u001b[0m\u001b[0;34m.\u001b[0m\u001b[0mlinalg\u001b[0m \u001b[0;32mimport\u001b[0m \u001b[0msolve_continuous_are\u001b[0m\u001b[0;34m\u001b[0m\u001b[0m\n\u001b[0;32m----> 2\u001b[0;31m \u001b[0;32mfrom\u001b[0m \u001b[0mwhma\u001b[0m\u001b[0;34m.\u001b[0m\u001b[0mutils\u001b[0m \u001b[0;32mimport\u001b[0m \u001b[0mempirical_sqrt_mean\u001b[0m\u001b[0;34m,\u001b[0m \u001b[0mempirical_sqrt_cross_corr\u001b[0m\u001b[0;34m\u001b[0m\u001b[0m\n\u001b[0m\u001b[1;32m      3\u001b[0m \u001b[0mLambda\u001b[0m \u001b[0;34m=\u001b[0m \u001b[0mempirical_sqrt_mean\u001b[0m\u001b[0;34m(\u001b[0m\u001b[0mestim\u001b[0m\u001b[0;34m.\u001b[0m\u001b[0mlam\u001b[0m\u001b[0;34m)\u001b[0m\u001b[0;34m\u001b[0m\u001b[0m\n\u001b[1;32m      4\u001b[0m \u001b[0mdiagD\u001b[0m\u001b[0;34m,\u001b[0m \u001b[0mO\u001b[0m \u001b[0;34m=\u001b[0m \u001b[0mempirical_sqrt_cross_corr\u001b[0m\u001b[0;34m(\u001b[0m\u001b[0mestim\u001b[0m\u001b[0;34m)\u001b[0m\u001b[0;34m\u001b[0m\u001b[0m\n\u001b[1;32m      5\u001b[0m \u001b[0mA\u001b[0m \u001b[0;34m=\u001b[0m \u001b[0mnp\u001b[0m\u001b[0;34m.\u001b[0m\u001b[0mzeros\u001b[0m\u001b[0;34m(\u001b[0m\u001b[0;34m(\u001b[0m\u001b[0md\u001b[0m\u001b[0;34m,\u001b[0m \u001b[0md\u001b[0m\u001b[0;34m)\u001b[0m\u001b[0;34m)\u001b[0m\u001b[0;34m\u001b[0m\u001b[0m\n",
      "\u001b[0;31mImportError\u001b[0m: No module named 'whma.utils'"
     ]
    }
   ],
   "source": [
    "from scipy.linalg import solve_continuous_are\n",
    "from whma.utils import empirical_sqrt_mean, empirical_sqrt_cross_corr\n",
    "Lambda = empirical_sqrt_mean(estim.lam)\n",
    "diagD, O = empirical_sqrt_cross_corr(estim)\n",
    "A = np.zeros((d, d))\n",
    "B = np.dot(O,np.dot(np.diag(diagD),O.T))\n",
    "R = np.eye(d)\n",
    "Q = np.diag(Lambda)"
   ]
  },
  {
   "cell_type": "code",
   "execution_count": null,
   "metadata": {
    "collapsed": false
   },
   "outputs": [],
   "source": [
    "R_ric = solve_continuous_are(A, B, Q, R)\n",
    "X_ric = np.eye(d) - R_ric"
   ]
  },
  {
   "cell_type": "code",
   "execution_count": null,
   "metadata": {
    "collapsed": false
   },
   "outputs": [],
   "source": [
    "plt.pcolor(X_ric[::-1],cmap=plt.cm.Blues)\n",
    "plt.show()\n",
    "plt.close()"
   ]
  },
  {
   "cell_type": "code",
   "execution_count": null,
   "metadata": {
    "collapsed": false
   },
   "outputs": [],
   "source": [
    "print(\"RelErr = \", rel_err(Alpha_truth, X_ric))\n",
    "print(\"RankCorr = \", rank_corr(Alpha_truth, X_ric))"
   ]
  },
  {
   "cell_type": "code",
   "execution_count": null,
   "metadata": {
    "collapsed": true
   },
   "outputs": [],
   "source": []
  }
 ],
 "metadata": {
  "kernelspec": {
   "display_name": "Python 3",
   "language": "python",
   "name": "python3"
  },
  "language_info": {
   "codemirror_mode": {
    "name": "ipython",
    "version": 3
   },
   "file_extension": ".py",
   "mimetype": "text/x-python",
   "name": "python",
   "nbconvert_exporter": "python",
   "pygments_lexer": "ipython3",
   "version": "3.4.3"
  }
 },
 "nbformat": 4,
 "nbformat_minor": 0
}
