{
 "cells": [
  {
   "cell_type": "code",
   "execution_count": 1,
   "metadata": {
    "collapsed": false,
    "slideshow": {
     "slide_type": "slide"
    }
   },
   "outputs": [
    {
     "name": "stderr",
     "output_type": "stream",
     "text": [
      "/Users/massil/anaconda/lib/python2.7/site-packages/matplotlib/font_manager.py:273: UserWarning: Matplotlib is building the font cache using fc-list. This may take a moment.\n",
      "  warnings.warn('Matplotlib is building the font cache using fc-list. This may take a moment.')\n"
     ]
    }
   ],
   "source": [
    "import numpy as np\n",
    "import scipy\n",
    "import matplotlib.pyplot as plt\n",
    "%matplotlib inline\n",
    "from pylab import rcParams\n",
    "from utils.metrics import rel_err, rank_corr, mse_K\n",
    "from nphc3.optim import gradient_f, gradient_f_ijk\n",
    "from numba import autojit"
   ]
  },
  {
   "cell_type": "markdown",
   "metadata": {
    "slideshow": {
     "slide_type": "slide"
    }
   },
   "source": [
    "# Load data\n",
    "- **kernel** should be in [**exp_d100**, **plaw_d10**, **rect_d100**]\n",
    "- **mode** should be in [**nonsym**, **sym**, **sym_hard**]\n",
    "- **log10T** should be in [**5**, **6**, **7**, **8**, **9**]"
   ]
  },
  {
   "cell_type": "code",
   "execution_count": 2,
   "metadata": {
    "collapsed": true,
    "slideshow": {
     "slide_type": "fragment"
    }
   },
   "outputs": [],
   "source": [
    "kernel = 'plaw_d10'\n",
    "mode = 'nonsym'\n",
    "log10T = 7\n",
    "url = 'https://s3-eu-west-1.amazonaws.com/nphc-data/{}_{}_log10T{}_with_Beta_without_N.pkl.gz'.format(kernel, mode, log10T)"
   ]
  },
  {
   "cell_type": "code",
   "execution_count": 3,
   "metadata": {
    "collapsed": false,
    "slideshow": {
     "slide_type": "subslide"
    }
   },
   "outputs": [],
   "source": [
    "from utils.loader import load_data\n",
    "cumul, Beta = load_data(url)"
   ]
  },
  {
   "cell_type": "markdown",
   "metadata": {
    "slideshow": {
     "slide_type": "slide"
    }
   },
   "source": [
    "# Minimize MSE on full third order integrated cumulant"
   ]
  },
  {
   "cell_type": "code",
   "execution_count": 4,
   "metadata": {
    "collapsed": true,
    "slideshow": {
     "slide_type": "subslide"
    }
   },
   "outputs": [],
   "source": [
    "from utils.prox import *\n",
    "from nphc3.optim import inspector, nag, adagrad\n",
    "objective = lambda R: mse_K(cumul,R)"
   ]
  },
  {
   "cell_type": "markdown",
   "metadata": {
    "slideshow": {
     "slide_type": "slide"
    }
   },
   "source": [
    "# Nesterov Accelerated Gradient"
   ]
  },
  {
   "cell_type": "code",
   "execution_count": 5,
   "metadata": {
    "collapsed": true,
    "slideshow": {
     "slide_type": "subslide"
    }
   },
   "outputs": [],
   "source": [
    "d = cumul.dim\n",
    "eta = 1e3\n",
    "lbd_l1 = 1e-6\n",
    "lbd_nuc = 1e-6\n",
    "#n_iter = 7000\n",
    "n_iter = 1600"
   ]
  },
  {
   "cell_type": "code",
   "execution_count": 6,
   "metadata": {
    "collapsed": false,
    "slideshow": {
     "slide_type": "subslide"
    }
   },
   "outputs": [],
   "source": [
    "#R0_ = np.arange(d**2).reshape(d,d)/(d**2)\n",
    "R0_ = np.ones((d,d))\n",
    "\n",
    "nag_inspector = inspector(objective,cumul.R_true,n_iter=n_iter)\n",
    "grad_fun = lambda X: gradient_f(cumul,X)\n",
    "#R_nag = nag(R0_,grad_fun,n_iter=n_iter,step=eta,prox=prox_nuclear,lbd=lbd_nuc,callback=nag_inspector)\n",
    "R_nag = nag(R0_,grad_fun,n_iter=n_iter,step=eta,prox=prox_l1,lbd=lbd_l1,callback=nag_inspector)\n",
    "#R_nag = nag(R0_,grad_fun,n_iter=n_iter,step=eta,prox=prox_zero,lbd=lbd_l1,callback=nag_inspector)"
   ]
  },
  {
   "cell_type": "markdown",
   "metadata": {
    "slideshow": {
     "slide_type": "subslide"
    }
   },
   "source": [
    "### Plot objective over time"
   ]
  },
  {
   "cell_type": "code",
   "execution_count": 7,
   "metadata": {
    "collapsed": false,
    "slideshow": {
     "slide_type": "subslide"
    }
   },
   "outputs": [
    {
     "data": {
      "image/png": "[encoded data removed]",
      "text/plain": [
       "<matplotlib.figure.Figure at 0x106484150>"
      ]
     },
     "metadata": {},
     "output_type": "display_data"
    }
   ],
   "source": [
    "plt.plot(nag_inspector.obj)\n",
    "plt.yscale('log')"
   ]
  },
  {
   "cell_type": "markdown",
   "metadata": {
    "slideshow": {
     "slide_type": "subslide"
    }
   },
   "source": [
    "### Plot relative error over time"
   ]
  },
  {
   "cell_type": "code",
   "execution_count": 8,
   "metadata": {
    "collapsed": false,
    "slideshow": {
     "slide_type": "subslide"
    }
   },
   "outputs": [
    {
     "data": {
      "text/plain": [
       "[<matplotlib.lines.Line2D at 0x1182ae190>]"
      ]
     },
     "execution_count": 8,
     "metadata": {},
     "output_type": "execute_result"
    },
    {
     "data": {
      "image/png": "[encoded data removed]",
      "text/plain": [
       "<matplotlib.figure.Figure at 0x106484390>"
      ]
     },
     "metadata": {},
     "output_type": "display_data"
    }
   ],
   "source": [
    "plt.plot(nag_inspector.err)"
   ]
  },
  {
   "cell_type": "code",
   "execution_count": 9,
   "metadata": {
    "collapsed": false,
    "slideshow": {
     "slide_type": "subslide"
    }
   },
   "outputs": [
    {
     "name": "stdout",
     "output_type": "stream",
     "text": [
      "0.3\n",
      "0.176955981927\n"
     ]
    }
   ],
   "source": [
    "print(rel_err(cumul.R_true,np.zeros((d,d))))\n",
    "print(rel_err(cumul.R_true,R_nag))"
   ]
  },
  {
   "cell_type": "markdown",
   "metadata": {
    "slideshow": {
     "slide_type": "slide"
    }
   },
   "source": [
    "# AdaGrad"
   ]
  },
  {
   "cell_type": "code",
   "execution_count": 10,
   "metadata": {
    "collapsed": true,
    "slideshow": {
     "slide_type": "subslide"
    }
   },
   "outputs": [],
   "source": [
    "d = cumul.dim\n",
    "eta = 1e4\n",
    "lbd_l1 = 1e-5\n",
    "lbd_nuc = 1e-6\n",
    "n_iter = 35000"
   ]
  },
  {
   "cell_type": "code",
   "execution_count": 11,
   "metadata": {
    "collapsed": false,
    "slideshow": {
     "slide_type": "subslide"
    }
   },
   "outputs": [],
   "source": [
    "#R0_ = np.arange(d**2).reshape(d,d)/(d**2)\n",
    "R0_ = np.ones((d,d))\n",
    "\n",
    "adagrad_inspector = inspector(objective,cumul.R_true,n_iter=n_iter)\n",
    "def grad_fun_ijk(R,i,j,k):\n",
    "    return gradient_f_ijk(cumul,R,i,j,k)\n",
    "#R_adagrad = adagrad(R0_,grad_fun_ijk,n_iter=n_iter,step=eta,prox=prox_nuclear,lbd=lbd_nuc,callback=adagrad_inspector)\n",
    "R_adagrad = adagrad(R0_,grad_fun_ijk,n_iter=n_iter,step=eta,prox=prox_l1,lbd=lbd_l1,callback=adagrad_inspector)\n",
    "#R_adagrad = adagrad(R0_,grad_fun_ijk,n_iter=n_iter,step=eta,prox=prox_zero,lbd=lbd_l1,callback=adagrad_inspector)"
   ]
  },
  {
   "cell_type": "markdown",
   "metadata": {
    "slideshow": {
     "slide_type": "subslide"
    }
   },
   "source": [
    "### Plot objective over time"
   ]
  },
  {
   "cell_type": "code",
   "execution_count": 12,
   "metadata": {
    "collapsed": false,
    "slideshow": {
     "slide_type": "subslide"
    }
   },
   "outputs": [
    {
     "data": {
      "image/png": "[encoded data removed]",
      "text/plain": [
       "<matplotlib.figure.Figure at 0x118b88990>"
      ]
     },
     "metadata": {},
     "output_type": "display_data"
    }
   ],
   "source": [
    "plt.plot(adagrad_inspector.obj)\n",
    "plt.yscale('log')"
   ]
  },
  {
   "cell_type": "markdown",
   "metadata": {
    "slideshow": {
     "slide_type": "subslide"
    }
   },
   "source": [
    "### Plot relative error over time"
   ]
  },
  {
   "cell_type": "code",
   "execution_count": 13,
   "metadata": {
    "collapsed": false,
    "slideshow": {
     "slide_type": "subslide"
    }
   },
   "outputs": [
    {
     "data": {
      "text/plain": [
       "[<matplotlib.lines.Line2D at 0x119a49750>]"
      ]
     },
     "execution_count": 13,
     "metadata": {},
     "output_type": "execute_result"
    },
    {
     "data": {
      "image/png": "[encoded data removed]",
      "text/plain": [
       "<matplotlib.figure.Figure at 0x117d552d0>"
      ]
     },
     "metadata": {},
     "output_type": "display_data"
    }
   ],
   "source": [
    "plt.plot(adagrad_inspector.err)"
   ]
  },
  {
   "cell_type": "code",
   "execution_count": 14,
   "metadata": {
    "collapsed": false,
    "slideshow": {
     "slide_type": "subslide"
    }
   },
   "outputs": [
    {
     "name": "stdout",
     "output_type": "stream",
     "text": [
      "0.3\n",
      "0.138538608986\n"
     ]
    }
   ],
   "source": [
    "print(rel_err(cumul.R_true,np.zeros((d,d))))\n",
    "print(rel_err(cumul.R_true,R_adagrad))"
   ]
  },
  {
   "cell_type": "markdown",
   "metadata": {
    "collapsed": true,
    "slideshow": {
     "slide_type": "slide"
    }
   },
   "source": [
    "# Heatmaps"
   ]
  },
  {
   "cell_type": "code",
   "execution_count": 19,
   "metadata": {
    "collapsed": false,
    "slideshow": {
     "slide_type": "subslide"
    }
   },
   "outputs": [
    {
     "data": {
      "image/png": "[encoded data removed]",
      "text/plain": [
       "<matplotlib.figure.Figure at 0x105442b50>"
      ]
     },
     "metadata": {},
     "output_type": "display_data"
    }
   ],
   "source": [
    "from scipy.linalg import inv\n",
    "Alpha_true = np.eye(d) - inv(cumul.R_true)\n",
    "#Alpha_pred = np.eye(d) - inv(R_nag)\n",
    "Alpha_pred = np.eye(d) - inv(R_adagrad)\n",
    "\n",
    "plt.pcolor(Alpha_true,cmap=plt.cm.Blues)\n",
    "plt.title(\"Alpha_true\")\n",
    "plt.colorbar()\n",
    "plt.show()\n",
    "plt.close()"
   ]
  },
  {
   "cell_type": "code",
   "execution_count": 16,
   "metadata": {
    "collapsed": false,
    "slideshow": {
     "slide_type": "subslide"
    }
   },
   "outputs": [
    {
     "name": "stdout",
     "output_type": "stream",
     "text": [
      "0.158674923066\n",
      "0.743545368201\n"
     ]
    },
    {
     "data": {
      "image/png": "[encoded data removed]",
      "text/plain": [
       "<matplotlib.figure.Figure at 0x117d551d0>"
      ]
     },
     "metadata": {},
     "output_type": "display_data"
    }
   ],
   "source": [
    "print(rel_err(Alpha_true,Alpha_pred))\n",
    "_, s, _ = np.linalg.svd(Alpha_pred)\n",
    "print(s.max())\n",
    "\n",
    "#Alpha_pred[Alpha_pred <= 0.] = 0.\n",
    "\n",
    "plt.pcolor(Alpha_pred,cmap=plt.cm.Blues)\n",
    "plt.title(\"Alpha_pred\")\n",
    "plt.colorbar()\n",
    "plt.show()\n",
    "plt.close()"
   ]
  },
  {
   "cell_type": "code",
   "execution_count": 17,
   "metadata": {
    "collapsed": false,
    "slideshow": {
     "slide_type": "subslide"
    }
   },
   "outputs": [
    {
     "name": "stdout",
     "output_type": "stream",
     "text": [
      "0.158674923066\n"
     ]
    }
   ],
   "source": [
    "print(rel_err(Alpha_true,Alpha_pred))"
   ]
  },
  {
   "cell_type": "code",
   "execution_count": 18,
   "metadata": {
    "collapsed": false,
    "slideshow": {
     "slide_type": "subslide"
    }
   },
   "outputs": [
    {
     "data": {
      "image/png": "[encoded data removed]",
      "text/plain": [
       "<matplotlib.figure.Figure at 0x119a09a90>"
      ]
     },
     "metadata": {},
     "output_type": "display_data"
    }
   ],
   "source": [
    "plt.pcolor(np.log(1e-10+Beta),cmap=plt.cm.Reds)\n",
    "plt.title(\"Beta\")\n",
    "plt.colorbar()\n",
    "plt.show()\n",
    "plt.close()"
   ]
  },
  {
   "cell_type": "code",
   "execution_count": null,
   "metadata": {
    "collapsed": true
   },
   "outputs": [],
   "source": []
  },
  {
   "cell_type": "code",
   "execution_count": null,
   "metadata": {
    "collapsed": true
   },
   "outputs": [],
   "source": []
  }
 ],
 "metadata": {
  "kernelspec": {
   "display_name": "Python 2",
   "language": "python",
   "name": "python2"
  },
  "language_info": {
   "codemirror_mode": {
    "name": "ipython",
    "version": 2
   },
   "file_extension": ".py",
   "mimetype": "text/x-python",
   "name": "python",
   "nbconvert_exporter": "python",
   "pygments_lexer": "ipython2",
   "version": "2.7.11"
  }
 },
 "nbformat": 4,
 "nbformat_minor": 0
}
